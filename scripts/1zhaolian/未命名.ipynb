{
 "cells": [
  {
   "cell_type": "code",
   "execution_count": 5,
   "metadata": {},
   "outputs": [],
   "source": [
    "from davidyu_cfg import *\n",
    "from functions.data_dir import data_dict,stk_index_list,create_dir_if_not_exist\n",
    "from functions.get_datetime import *\n",
    "from functions.run_combine_all_csv import *\n",
    "\n",
    "\"\"\"\n",
    "change_date: 报告日期\n",
    "report_date: 公告日\n",
    "liutong_ratio: 持股占流通比率\n",
    "gudong_rank:  股东排名\n",
    "num: 数量（万股）\n",
    "change_type: 持股变动: 增加 减少 不变\n",
    "num_change: 持股数量变动\n",
    "change_ratio: 持股变化比率\n",
    "\"\"\"\n",
    "\n",
    "def get_all_data():\n",
    "    cols = [\"id\",\"id2\",\"owner_name\",\"owner_type\",\"stock_type\",\"gudong_rank\",\n",
    "        \"stock_index\",\"stock_name\",\"change_date\",\"num\",\"chigu_ratio\",\n",
    "        \"liutong_ratio\",\"report_date\",\"change_type\",\n",
    "        \"change_ratio\",\"test1\",\"test2\",\"num_change\"\n",
    "        ]\n",
    "    data_dir = data_dict.get(\"important_owner\")\n",
    "\n",
    "    df1 = pd.read_csv(os.path.join(data_dir,'hk_central_2020-10-22.csv'))\n",
    "    df1.columns = cols\n",
    "    df1 = df1.drop_duplicates()\n",
    "    df1['stock_date'] = [x[0:10] for x in df1.change_date.tolist()]\n",
    "    return df1\n",
    "\n",
    "df1 = get_all_data()\n",
    "df3 = df1.sort_values(['change_ratio'])[[\"owner_name\",\"stock_index\",\"stock_name\",\"change_ratio\",\"change_date\"]]\n",
    "df3"
   ]
  }
 ],
 "metadata": {
  "kernelspec": {
   "display_name": "Python 3",
   "language": "python",
   "name": "python3"
  },
  "language_info": {
   "codemirror_mode": {
    "name": "ipython",
    "version": 3
   },
   "file_extension": ".py",
   "mimetype": "text/x-python",
   "name": "python",
   "nbconvert_exporter": "python",
   "pygments_lexer": "ipython3",
   "version": "3.7.5"
  }
 },
 "nbformat": 4,
 "nbformat_minor": 2
}
