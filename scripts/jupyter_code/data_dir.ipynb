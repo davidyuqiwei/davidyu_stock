{
 "cells": [
  {
   "cell_type": "code",
   "execution_count": 3,
   "metadata": {},
   "outputs": [
    {
     "name": "stdout",
     "output_type": "stream",
     "text": [
      "/home/davidyu/stock/data\n",
      "/home/davidyu/stock/data/tmp_data\n",
      "{'tmp': '/home/davidyu/stock/data/tmp_data/tmp', 'day_history': '/home/davidyu/stock/data/tmp_data/day_history', 'day_history_insert': '/home/davidyu/stock/data/tmp_data/day_history_insert', 'day_history_wangyi': '/home/davidyu/stock/data/tmp_data/day_history_wangyi', 'basic_info': '/home/davidyu/stock/data/tmp_data/basic_info', 'financial_report': '/home/davidyu/stock/data/tmp_data/financial_report', 'test': '/home/davidyu/stock/data/tmp_data/test', 'news_report': '/home/davidyu/stock/data/tmp_data/news_report', 'liutong_owner': '/home/davidyu/stock/data/tmp_data/liutong_owner', 'all_news': '/home/davidyu/stock/data/tmp_data/all_news', 'DADAN': '/home/davidyu/stock/data/tmp_data/DADAN', 'DADAN_offline': '/home/davidyu/stock/data/tmp_data/DADAN_offline', 'dadan_DFCF': '/home/davidyu/stock/data/tmp_data/dadan_DFCF', 'YeJiYuQi': '/home/davidyu/stock/data/tmp_data/YeJiYuQi', 'PDF': '/home/davidyu/stock/data/tmp_data/PDF', 'tonghuashun': '/home/davidyu/stock/data/tmp_data/tonghuashun', 'SH_50index': '/home/davidyu/stock/data/tmp_data/SH_50index', 'fenhong': '/home/davidyu/stock/data/tmp_data/fenhong', 'bankuai': '/home/davidyu/stock/data/tmp_data/bankuai', 'DFCF': '/home/davidyu/stock/data/tmp_data/DFCF', 'future_index': '/home/davidyu/stock/data/tmp_data/future_index', 'pofa': '/home/davidyu/stock/data/tmp_data/pofa', 'jijin': '/home/davidyu/stock/data/tmp_data/jijin', 'dazongjiaoyi': '/home/davidyu/stock/data/tmp_data/dazongjiaoyi', 'gainian': '/home/davidyu/stock/data/tmp_data/gainian', 'owner': '/home/davidyu/stock/data/tmp_data/owner', 'shijinglv': '/home/davidyu/stock/data/tmp_data/shijinglv', 'important_owner': '/home/davidyu/stock/data/tmp_data/important_owner', 'all_owner': '/home/davidyu/stock/data/tmp_data/all_owner', 'JiGouDiaoYan': '/home/davidyu/stock/data/tmp_data/JiGouDiaoYan', 'daily_report': '/home/davidyu/stock/data/tmp_data/daily_report', 'fushi_a50': '/home/davidyu/stock/data/tmp_data/fushi_a50', 'SH_index_RT': '/home/davidyu/stock/data/tmp_data/SH_index_RT', 'oumei_future_index': '/home/davidyu/stock/data/tmp_data/oumei_future_index', 'gainian_liuru': '/home/davidyu/stock/data/tmp_data/gainian_liuru', 'nsdaq': '/home/davidyu/stock/data/tmp_data/nsdaq', 'stock_feature': '/home/davidyu/stock/data/tmp_data/stock_feature', 'jiejin': '/home/davidyu/stock/data/tmp_data/jiejin', 'dadan_sina': '/home/davidyu/stock/data/tmp_data/dadan_sina', 'dadan_sina_offline': '/home/davidyu/stock/data/tmp_data/dadan_sina_offline', 'qianlong_day_history': '/home/davidyu/stock/data/tmp_data/qianlong_day_history', 'jiesuan': '/home/davidyu/stock/data/tmp_data/jiesuan', 'baostock': '/home/davidyu/stock/data/tmp_data/baostock', 'SH_index': '/home/davidyu/stock/data/tmp_data/SH_index', 'feature_center': '/home/davidyu/stock/data/tmp_data/feature_center', 'volume_price_distr': '/home/davidyu/stock/data/tmp_data/volume_price_distr', 'rongzirongquan': '/home/davidyu/stock/data/tmp_data/rongzirongquan', 'dadan_real_time_ifeng': '/home/davidyu/stock/data/tmp_data/dadan_real_time_ifeng', 'dadan_real_time_ifeng_1000': '/home/davidyu/stock/data/tmp_data/dadan_real_time_ifeng_1000', 'zhulikongpan': '/home/davidyu/stock/data/tmp_data/zhulikongpan', 'dfcf_fuquan': '/home/davidyu/stock/data/tmp_data/dfcf_fuquan', 'bankuai_sina': '/home/davidyu/stock/data/tmp_data/bankuai_sina', 'stock_shizhi': '/home/davidyu/stock/data/tmp_data/stock_shizhi', 'dfcf_a_hk': '/home/davidyu/stock/data/tmp_data/dfcf_a_hk', 'dfcf_stock_report': '/home/davidyu/stock/data/tmp_data/dfcf_stock_report', 'dfcf_bankuai_zijin': '/home/davidyu/stock/data/tmp_data/dfcf_bankuai_zijin', 'dfcf_bankuai': '/home/davidyu/stock/data/tmp_data/dfcf_bankuai', 'dfcf_shiyinglv': '/home/davidyu/stock/data/tmp_data/dfcf_shiyinglv', 'hk_stock_owner': '/home/davidyu/stock/data/tmp_data/hk_stock_owner', 'lottery': '/home/davidyu/stock/data/tmp_data/lottery', 'dfcf_jijin': '/home/davidyu/stock/data/tmp_data/dfcf_jijin', 'dfcf_hexinticai': '/home/davidyu/stock/data/tmp_data/dfcf_hexinticai', 'dfcf_gudonghushu': '/home/davidyu/stock/data/tmp_data/dfcf_gudonghushu', 'dfcf_longhubang': '/home/davidyu/stock/data/tmp_data/dfcf_longhubang'}\n"
     ]
    }
   ],
   "source": [
    "from davidyu_cfg import *\n",
    "\n",
    "print(data_path)\n",
    "print(tmp_data_path)\n",
    "print(tmp_data_dict)"
   ]
  }
 ],
 "metadata": {
  "kernelspec": {
   "display_name": "Python 3",
   "language": "python",
   "name": "python3"
  },
  "language_info": {
   "codemirror_mode": {
    "name": "ipython",
    "version": 3
   },
   "file_extension": ".py",
   "mimetype": "text/x-python",
   "name": "python",
   "nbconvert_exporter": "python",
   "pygments_lexer": "ipython3",
   "version": "3.7.5"
  }
 },
 "nbformat": 4,
 "nbformat_minor": 2
}
