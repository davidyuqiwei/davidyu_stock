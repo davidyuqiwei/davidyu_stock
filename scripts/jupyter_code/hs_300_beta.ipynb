{
 "cells": [
  {
   "cell_type": "code",
   "execution_count": 23,
   "metadata": {},
   "outputs": [],
   "source": [
    "import pandas as pd\n",
    "import numpy as np\n",
    "from davidyu_cfg import *\n",
    "from finquant.portfolio import build_portfolio\n",
    "from functions.common.dfcf_fuquan_data import *\n",
    "\n",
    "\n",
    "\n",
    "def load_hs300_data(start_date,end_date):\n",
    "    df1 = pd.read_csv(\"/home/davidyu/stock/data/test/portfolio/hs_300.csv\")\n",
    "    start_date = '2018-01-01'\n",
    "    end_date = '2020-12-20'\n",
    "    df2 = df1[(df1[\"date\"]>=start_date)&(df1[\"date\"]<=end_date)]\n",
    "    df2[\"dt\"]=df2[\"date\"]\n",
    "    return df2"
   ]
  },
  {
   "cell_type": "code",
   "execution_count": 24,
   "metadata": {},
   "outputs": [],
   "source": [
    "def cal_daily_return(df1):\n",
    "    df1 = df1[[\"dt\",\"close\"]].drop_duplicates()\n",
    "    df_test = df1[\"close\"]\n",
    "    dates = df1.dt.values\n",
    "    df_test.index = dates\n",
    "    df_test.index.name = 'Date'\n",
    "    # calculate daily returns\n",
    "    daily_returns = df_test.pct_change().dropna(how=\"all\").replace([np.inf, -np.inf], np.nan)\n",
    "    return daily_returns\n",
    "def find_same_date(stock_list,start_date,end_date):\n",
    "    k=0\n",
    "  \n",
    "    for s1 in stock_list:\n",
    "        if k==0:\n",
    "            df1 = dfcf_stock_data(s1,start_date,end_date)\n",
    "            df1 = df1[[\"dt\",\"close\"]].drop_duplicates()\n",
    "            a = df1[\"dt\"].tolist()\n",
    "            k+=1\n",
    "        else:\n",
    "            df1 = dfcf_stock_data(s1,start_date,end_date)\n",
    "            df1 = df1[[\"dt\",\"close\"]].drop_duplicates()\n",
    "            b = df1[\"dt\"].tolist()\n",
    "            a = list(set(a).intersection(set(b))) \n",
    "    return a\n",
    "\n",
    "\n",
    "def same_date_returns(stock_list,start_date,end_date,same_date):\n",
    "    df_return_list = []\n",
    "    stock_index_list = []\n",
    "    for s1 in stock_list:\n",
    "        df1 = dfcf_stock_data(s1,start_date,end_date)\n",
    "        df1 = df1[[\"dt\",\"close\"]].drop_duplicates()\n",
    "        df_test = df1[\"close\"]\n",
    "        dates = df1.dt.values\n",
    "        df_test.index = dates\n",
    "        df_test.index.name = 'Date'\n",
    "        # calculate daily returns\n",
    "        daily_returns = df_test.pct_change().dropna(how=\"all\").replace([np.inf, -np.inf], np.nan)\n",
    "        # find returns in the same date\n",
    "        df_return_update = daily_returns[daily_returns.index.isin(same_date)]\n",
    "        df_return_list.append(df_return_update.values.tolist())\n",
    "        stock_index_list.append(s1)\n",
    "        date_index = df_return_update.index.tolist()\n",
    "    df_out = pd.DataFrame(df_return_list).T\n",
    "#     df_out.shape\n",
    "    df_out.index=date_index\n",
    "#     print(df_out.head(30))\n",
    "    df_out.columns = stock_index_list\n",
    "    return df_out "
   ]
  },
  {
   "cell_type": "code",
   "execution_count": 29,
   "metadata": {},
   "outputs": [
    {
     "name": "stderr",
     "output_type": "stream",
     "text": [
      "/home/davidyu/software/Anaconda/lib/python3.7/site-packages/ipykernel_launcher.py:14: SettingWithCopyWarning: \n",
      "A value is trying to be set on a copy of a slice from a DataFrame.\n",
      "Try using .loc[row_indexer,col_indexer] = value instead\n",
      "\n",
      "See the caveats in the documentation: http://pandas.pydata.org/pandas-docs/stable/user_guide/indexing.html#returning-a-view-versus-a-copy\n",
      "  \n"
     ]
    }
   ],
   "source": [
    "start_date = '2020-03-01'\n",
    "end_date = '2020-12-20'\n",
    "portfolio_stock_list = [\"600519\",\"002594\",\"601899\",\"601398\"]\n",
    "\n",
    "df2 = load_hs300_data(start_date,end_date)\n",
    "df_hs300_return=cal_daily_return(df2)\n",
    "\n",
    "\n",
    "same_date = find_same_date(portfolio_stock_list,start_date,end_date)\n",
    "df_portfolio_return = same_date_returns(portfolio_stock_list,start_date,end_date,same_date)\n",
    "df_hs300_return = df_hs300_return[df_hs300_return.index.isin(same_date)].reset_index()"
   ]
  },
  {
   "cell_type": "code",
   "execution_count": 30,
   "metadata": {},
   "outputs": [
    {
     "data": {
      "text/plain": [
       "0.9923159688696245"
      ]
     },
     "execution_count": 30,
     "metadata": {},
     "output_type": "execute_result"
    }
   ],
   "source": [
    "port_returns = df_portfolio_return.apply(lambda x:x.mean(),axis =1).reset_index()\n",
    "port_returns.columns = [\"Date\",\"port_return\"]\n",
    "df_m=pd.merge(df_hs300_return,port_returns)\n",
    "df_m['close'].cov(df_m[\"port_return\"])/df_m['close'].var()\n"
   ]
  }
 ],
 "metadata": {
  "kernelspec": {
   "display_name": "Python 3",
   "language": "python",
   "name": "python3"
  },
  "language_info": {
   "codemirror_mode": {
    "name": "ipython",
    "version": 3
   },
   "file_extension": ".py",
   "mimetype": "text/x-python",
   "name": "python",
   "nbconvert_exporter": "python",
   "pygments_lexer": "ipython3",
   "version": "3.7.5"
  }
 },
 "nbformat": 4,
 "nbformat_minor": 2
}
