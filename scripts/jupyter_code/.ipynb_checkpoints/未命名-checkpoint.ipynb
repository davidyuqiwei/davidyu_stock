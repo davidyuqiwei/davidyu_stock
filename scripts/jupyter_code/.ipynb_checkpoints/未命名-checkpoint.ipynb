{
 "cells": [
  {
   "cell_type": "code",
   "execution_count": 11,
   "metadata": {},
   "outputs": [],
   "source": [
    "from davidyu_cfg import *\n",
    "import os \n",
    "stock_index = \"601398\"\n",
    "macd_file=stock_index+\"_macd.csv\"\n",
    "out_dir=\"/home/davidyu/stock/data/feature_center/macd/stock_index\"\n",
    "files = os.listdir(out_dir)\n",
    "#files[1:10]\n",
    "# print(files[1])\n",
    "df1 = pd.read_csv(os.path.join(out_dir,macd_file))\n"
   ]
  },
  {
   "cell_type": "code",
   "execution_count": 14,
   "metadata": {},
   "outputs": [],
   "source": [
    "out_dir=\"/home/davidyu/stock/data/feature_center/rolling_regression/stock_index/5days\"\n",
    "files = os.listdir(out_dir)\n",
    "roll_reg_file=stock_index+\"_roll_reg_5.csv\"\n",
    "\n",
    "df2 = pd.read_csv(os.path.join(out_dir,roll_reg_file))\n",
    "\n"
   ]
  },
  {
   "cell_type": "code",
   "execution_count": 16,
   "metadata": {},
   "outputs": [
    {
     "data": {
      "text/plain": [
       "Index(['dt', 'open', 'close', 'high', 'low', 'volume', 'money', 'x1', 'x2',\n",
       "       'x3', 'turnover_rate', 'stock_index', 'date_time', 'stock_date',\n",
       "       'macdh', 'cci', 'rsi_6', 'rsi_12', 'rsi_24', 'kdjk', 'kdjd', 'kdjj',\n",
       "       'boll_ub', 'boll_lb', 'macd', 'macds', 'wr_6', 'wr_10', 'K', 'K_16_3_3',\n",
       "       'D', 'D_16_3_3', 'J_16_3_3', 'macd_5_35_5', 'macds_5_35_5',\n",
       "       'macdh_5_35_5', 'boll_ratio', 'macdh_mvavg5', 'sar', 'slopes',\n",
       "       'slope_num_in', 'days_default'],\n",
       "      dtype='object')"
      ]
     },
     "execution_count": 16,
     "metadata": {},
     "output_type": "execute_result"
    }
   ],
   "source": [
    "df3 = pd.merge(df1,df2)\n",
    "df3.columns"
   ]
  }
 ],
 "metadata": {
  "kernelspec": {
   "display_name": "Python 3",
   "language": "python",
   "name": "python3"
  },
  "language_info": {
   "codemirror_mode": {
    "name": "ipython",
    "version": 3
   },
   "file_extension": ".py",
   "mimetype": "text/x-python",
   "name": "python",
   "nbconvert_exporter": "python",
   "pygments_lexer": "ipython3",
   "version": "3.7.5"
  }
 },
 "nbformat": 4,
 "nbformat_minor": 2
}
