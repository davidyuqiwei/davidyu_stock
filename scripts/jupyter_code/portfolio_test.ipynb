{
 "cells": [
  {
   "cell_type": "code",
   "execution_count": 1,
   "metadata": {},
   "outputs": [
    {
     "name": "stderr",
     "output_type": "stream",
     "text": [
      "2021-02-23 17:15:40,415 - davidyu_cfg.py[line:41] - INFO: load log module\n",
      "2021-02-23 17:15:40,437 - davidyu_cfg.py[line:43] - INFO: load data_dir module\n",
      "2021-02-23 17:15:40,440 - davidyu_cfg.py[line:45] - INFO: load make_dir module\n"
     ]
    }
   ],
   "source": [
    "%load_ext autoreload\n",
    "%autoreload 2\n",
    "from davidyu_cfg import *\n",
    "from finquant.portfolio import build_portfolio\n",
    "from functions.common.dfcf_fuquan_data import *\n"
   ]
  },
  {
   "cell_type": "code",
   "execution_count": 57,
   "metadata": {},
   "outputs": [],
   "source": [
    "from easydl import clear_output\n",
    "\n",
    "def find_same_date(stock_list):\n",
    "    k=0\n",
    "    start_date = '2020-01-01'\n",
    "    end_date = '2020-12-20'\n",
    "    for s1 in stock_list:\n",
    "        if k==0:\n",
    "            df1 = dfcf_stock_data(s1,start_date,end_date)\n",
    "            df1 = df1[[\"dt\",\"close\"]].drop_duplicates()\n",
    "            a = df1[\"dt\"].tolist()\n",
    "            k+=1\n",
    "        else:\n",
    "            df1 = dfcf_stock_data(s1,start_date,end_date)\n",
    "            df1 = df1[[\"dt\",\"close\"]].drop_duplicates()\n",
    "            b = df1[\"dt\"].tolist()\n",
    "            a = list(set(a).intersection(set(b))) \n",
    "    return a\n",
    "\n",
    "\n",
    "def same_date_returns(stock_list,start_date,end_date,same_date):\n",
    "    start_date = '2020-01-01'\n",
    "    end_date = '2020-12-20'\n",
    "    df_return_list = []\n",
    "    stock_index_list = []\n",
    "    for s1 in stock_list:\n",
    "        df1 = dfcf_stock_data(s1,start_date,end_date)\n",
    "        df1 = df1[[\"dt\",\"close\"]].drop_duplicates()\n",
    "        df_test = df1[\"close\"]\n",
    "        dates = df1.dt.values\n",
    "        df_test.index = dates\n",
    "        df_test.index.name = 'Date'\n",
    "        # calculate daily returns\n",
    "        daily_returns = df_test.pct_change().dropna(how=\"all\").replace([np.inf, -np.inf], np.nan)\n",
    "        # find returns in the same date\n",
    "        df_return_update = daily_returns[daily_returns.index.isin(same_date)]\n",
    "        df_return_list.append(df_return_update.values.tolist())\n",
    "        stock_index_list.append(s1)\n",
    "        date_index = df_return_update.index.tolist()\n",
    "    df_out = pd.DataFrame(df_return_list).T\n",
    "#     df_out.shape\n",
    "    df_out.index=date_index\n",
    "#     print(df_out.head(30))\n",
    "    df_out.columns = stock_index_list\n",
    "    return df_out \n",
    "\n",
    "def plot_stocks(daily_returns, freq=252):\n",
    "    import matplotlib.pylab as plt\n",
    "\n",
    "    \"\"\"Plots the Expected annual Returns over annual Volatility of\n",
    "    the stocks of the portfolio.\n",
    "\n",
    "    :Input:\n",
    "     :freq: ``int`` (default: ``252``), number of trading days, default\n",
    "         value corresponds to trading days in a year.\n",
    "    \"\"\"\n",
    "    # annual mean returns of all stocks\n",
    "    stock_returns = daily_returns.mean()*freq\n",
    "    stock_volatility = daily_returns.std() * np.sqrt(freq)\n",
    "    # adding stocks of the portfolio to the plot\n",
    "    # plot stocks individually:\n",
    "    plt.scatter(stock_volatility, stock_returns, marker=\"o\", s=100, label=\"Stocks\")\n",
    "    # adding text to stocks in plot:\n",
    "    for i, txt in enumerate(stock_returns.index):\n",
    "        plt.annotate(\n",
    "            txt,\n",
    "            (stock_volatility[i], stock_returns[i]),\n",
    "            xytext=(10, 0),\n",
    "            textcoords=\"offset points\",\n",
    "            label=i,\n",
    "        )\n",
    "        plt.legend()\n",
    "# len(a)\n",
    "#r = list(set(a).intersection(b,c)) "
   ]
  },
  {
   "cell_type": "code",
   "execution_count": 58,
   "metadata": {},
   "outputs": [
    {
     "data": {
      "text/html": [
       "<div>\n",
       "<style scoped>\n",
       "    .dataframe tbody tr th:only-of-type {\n",
       "        vertical-align: middle;\n",
       "    }\n",
       "\n",
       "    .dataframe tbody tr th {\n",
       "        vertical-align: top;\n",
       "    }\n",
       "\n",
       "    .dataframe thead th {\n",
       "        text-align: right;\n",
       "    }\n",
       "</style>\n",
       "<table border=\"1\" class=\"dataframe\">\n",
       "  <thead>\n",
       "    <tr style=\"text-align: right;\">\n",
       "      <th></th>\n",
       "      <th>000725</th>\n",
       "      <th>600837</th>\n",
       "      <th>600036</th>\n",
       "      <th>600519</th>\n",
       "      <th>600276</th>\n",
       "      <th>601318</th>\n",
       "      <th>000333</th>\n",
       "      <th>600030</th>\n",
       "      <th>000917</th>\n",
       "      <th>002475</th>\n",
       "    </tr>\n",
       "  </thead>\n",
       "  <tbody>\n",
       "    <tr>\n",
       "      <th>2020-01-03</th>\n",
       "      <td>0.026144</td>\n",
       "      <td>0.005863</td>\n",
       "      <td>0.013800</td>\n",
       "      <td>-0.046218</td>\n",
       "      <td>-0.019761</td>\n",
       "      <td>0.000952</td>\n",
       "      <td>-0.025623</td>\n",
       "      <td>-0.004402</td>\n",
       "      <td>-0.001458</td>\n",
       "      <td>-0.008672</td>\n",
       "    </tr>\n",
       "    <tr>\n",
       "      <th>2020-01-06</th>\n",
       "      <td>-0.004246</td>\n",
       "      <td>0.005181</td>\n",
       "      <td>-0.004188</td>\n",
       "      <td>-0.000537</td>\n",
       "      <td>-0.021700</td>\n",
       "      <td>-0.007134</td>\n",
       "      <td>-0.018708</td>\n",
       "      <td>-0.002412</td>\n",
       "      <td>0.005839</td>\n",
       "      <td>0.022393</td>\n",
       "    </tr>\n",
       "    <tr>\n",
       "      <th>2020-01-07</th>\n",
       "      <td>-0.006397</td>\n",
       "      <td>-0.003222</td>\n",
       "      <td>-0.002366</td>\n",
       "      <td>0.015590</td>\n",
       "      <td>0.009302</td>\n",
       "      <td>0.006587</td>\n",
       "      <td>0.015288</td>\n",
       "      <td>0.015310</td>\n",
       "      <td>0.062409</td>\n",
       "      <td>0.005133</td>\n",
       "    </tr>\n",
       "    <tr>\n",
       "      <th>2020-01-08</th>\n",
       "      <td>0.060086</td>\n",
       "      <td>-0.035553</td>\n",
       "      <td>-0.019499</td>\n",
       "      <td>-0.005930</td>\n",
       "      <td>-0.002269</td>\n",
       "      <td>-0.013682</td>\n",
       "      <td>0.004074</td>\n",
       "      <td>-0.030159</td>\n",
       "      <td>-0.010929</td>\n",
       "      <td>-0.024515</td>\n",
       "    </tr>\n",
       "    <tr>\n",
       "      <th>2020-01-09</th>\n",
       "      <td>0.008097</td>\n",
       "      <td>0.015416</td>\n",
       "      <td>0.013169</td>\n",
       "      <td>0.013593</td>\n",
       "      <td>0.026148</td>\n",
       "      <td>0.000483</td>\n",
       "      <td>0.020642</td>\n",
       "      <td>0.020458</td>\n",
       "      <td>0.001381</td>\n",
       "      <td>0.069808</td>\n",
       "    </tr>\n",
       "    <tr>\n",
       "      <th>...</th>\n",
       "      <td>...</td>\n",
       "      <td>...</td>\n",
       "      <td>...</td>\n",
       "      <td>...</td>\n",
       "      <td>...</td>\n",
       "      <td>...</td>\n",
       "      <td>...</td>\n",
       "      <td>...</td>\n",
       "      <td>...</td>\n",
       "      <td>...</td>\n",
       "    </tr>\n",
       "    <tr>\n",
       "      <th>2020-12-14</th>\n",
       "      <td>0.021654</td>\n",
       "      <td>-0.002387</td>\n",
       "      <td>0.039597</td>\n",
       "      <td>0.004945</td>\n",
       "      <td>0.006816</td>\n",
       "      <td>0.018467</td>\n",
       "      <td>0.005238</td>\n",
       "      <td>0.003130</td>\n",
       "      <td>-0.001923</td>\n",
       "      <td>-0.017167</td>\n",
       "    </tr>\n",
       "    <tr>\n",
       "      <th>2020-12-15</th>\n",
       "      <td>0.015414</td>\n",
       "      <td>-0.002392</td>\n",
       "      <td>-0.000451</td>\n",
       "      <td>-0.007102</td>\n",
       "      <td>0.076684</td>\n",
       "      <td>-0.015851</td>\n",
       "      <td>0.015277</td>\n",
       "      <td>-0.001040</td>\n",
       "      <td>0.013487</td>\n",
       "      <td>0.010640</td>\n",
       "    </tr>\n",
       "    <tr>\n",
       "      <th>2020-12-16</th>\n",
       "      <td>-0.018975</td>\n",
       "      <td>-0.001599</td>\n",
       "      <td>-0.006539</td>\n",
       "      <td>0.013210</td>\n",
       "      <td>-0.000103</td>\n",
       "      <td>0.006257</td>\n",
       "      <td>0.027645</td>\n",
       "      <td>-0.006942</td>\n",
       "      <td>-0.022814</td>\n",
       "      <td>0.039531</td>\n",
       "    </tr>\n",
       "    <tr>\n",
       "      <th>2020-12-17</th>\n",
       "      <td>0.015474</td>\n",
       "      <td>0.020817</td>\n",
       "      <td>-0.000227</td>\n",
       "      <td>0.013864</td>\n",
       "      <td>0.084218</td>\n",
       "      <td>0.024643</td>\n",
       "      <td>0.017821</td>\n",
       "      <td>0.021321</td>\n",
       "      <td>0.005837</td>\n",
       "      <td>0.001147</td>\n",
       "    </tr>\n",
       "    <tr>\n",
       "      <th>2020-12-18</th>\n",
       "      <td>-0.013333</td>\n",
       "      <td>-0.002353</td>\n",
       "      <td>-0.021566</td>\n",
       "      <td>-0.010994</td>\n",
       "      <td>0.004564</td>\n",
       "      <td>-0.013374</td>\n",
       "      <td>-0.004126</td>\n",
       "      <td>-0.014031</td>\n",
       "      <td>-0.005803</td>\n",
       "      <td>-0.017370</td>\n",
       "    </tr>\n",
       "  </tbody>\n",
       "</table>\n",
       "<p>233 rows × 10 columns</p>\n",
       "</div>"
      ],
      "text/plain": [
       "              000725    600837    600036    600519    600276    601318  \\\n",
       "2020-01-03  0.026144  0.005863  0.013800 -0.046218 -0.019761  0.000952   \n",
       "2020-01-06 -0.004246  0.005181 -0.004188 -0.000537 -0.021700 -0.007134   \n",
       "2020-01-07 -0.006397 -0.003222 -0.002366  0.015590  0.009302  0.006587   \n",
       "2020-01-08  0.060086 -0.035553 -0.019499 -0.005930 -0.002269 -0.013682   \n",
       "2020-01-09  0.008097  0.015416  0.013169  0.013593  0.026148  0.000483   \n",
       "...              ...       ...       ...       ...       ...       ...   \n",
       "2020-12-14  0.021654 -0.002387  0.039597  0.004945  0.006816  0.018467   \n",
       "2020-12-15  0.015414 -0.002392 -0.000451 -0.007102  0.076684 -0.015851   \n",
       "2020-12-16 -0.018975 -0.001599 -0.006539  0.013210 -0.000103  0.006257   \n",
       "2020-12-17  0.015474  0.020817 -0.000227  0.013864  0.084218  0.024643   \n",
       "2020-12-18 -0.013333 -0.002353 -0.021566 -0.010994  0.004564 -0.013374   \n",
       "\n",
       "              000333    600030    000917    002475  \n",
       "2020-01-03 -0.025623 -0.004402 -0.001458 -0.008672  \n",
       "2020-01-06 -0.018708 -0.002412  0.005839  0.022393  \n",
       "2020-01-07  0.015288  0.015310  0.062409  0.005133  \n",
       "2020-01-08  0.004074 -0.030159 -0.010929 -0.024515  \n",
       "2020-01-09  0.020642  0.020458  0.001381  0.069808  \n",
       "...              ...       ...       ...       ...  \n",
       "2020-12-14  0.005238  0.003130 -0.001923 -0.017167  \n",
       "2020-12-15  0.015277 -0.001040  0.013487  0.010640  \n",
       "2020-12-16  0.027645 -0.006942 -0.022814  0.039531  \n",
       "2020-12-17  0.017821  0.021321  0.005837  0.001147  \n",
       "2020-12-18 -0.004126 -0.014031 -0.005803 -0.017370  \n",
       "\n",
       "[233 rows x 10 columns]"
      ]
     },
     "execution_count": 58,
     "metadata": {},
     "output_type": "execute_result"
    }
   ],
   "source": [
    "stock_list = \"002803,002810,000157,603697,600761,002595,601100,300371,603856,603416\"\n",
    "#stock_list = \"601328\"\n",
    "#stock_list = \"002157,002041,600048\"\n",
    "#stock_list = \"000403,603605,603345,002311,600276,002410,600066,000651,600176,002475\"\n",
    "# stock_list = stock_list.split(\",\")\n",
    "# stock_list = [\"002555\",\"300413\",\"600637\",\"002131\",\"002602\",\"300418\",\"603444\",\"002624\",\"002027\",\"300251\"]\n",
    "# stock_list = [\"000725\",\"600837\",\"600036\",\"600519\",\"600276\",\"601318\",\"000333\",\"600030\",\"000917\",\"002475\"]\n",
    "stock_list = [\"002555\",\"300413\",\"600637\",\"002131\",\"002602\",\"300418\",\"603444\",\"002624\",\"002027\",\"300251\"]\n",
    "\n",
    "\n",
    "\n",
    "same_date = find_same_date(stock_list)\n",
    "start_date = '2020-01-01'\n",
    "end_date = '2020-12-20'\n",
    "df_out = same_date_returns(stock_list,start_date,end_date,same_date)\n",
    "# df_out.sort_index()\n",
    "# clear_output()  # 清除输出\n"
   ]
  },
  {
   "cell_type": "code",
   "execution_count": 64,
   "metadata": {},
   "outputs": [],
   "source": [
    "freq = 252\n",
    "risk_free_rate=0.005\n",
    "# daily_returns = df_p.pct_change().dropna(how=\"all\").replace([np.inf, -np.inf], np.nan)\n",
    "df_returns = df_out\n",
    "\n",
    "comp_mean_returns = df_returns.mean()*freq\n",
    "comp_stock_volatility = df_returns.std() * np.sqrt(freq)\n",
    "comp_cov = df_returns.cov()\n"
   ]
  },
  {
   "cell_type": "code",
   "execution_count": 67,
   "metadata": {},
   "outputs": [
    {
     "data": {
      "image/png": "[encoded data removed]",
      "text/plain": [
       "<Figure size 432x288 with 2 Axes>"
      ]
     },
     "metadata": {
      "needs_background": "light"
     },
     "output_type": "display_data"
    }
   ],
   "source": [
    "from finquant.monte_carlo import MonteCarloOpt\n",
    "from finquant.efficient_frontier import  EfficientFrontier\n",
    "\n",
    "# portfolio[\"Allocation\"] / self.totalinvestment\n",
    "\n",
    "\n",
    "\n",
    "mc = MonteCarloOpt(df_returns,num_trials=5000,risk_free_rate=0.005,\n",
    "        freq=252,\n",
    "        initial_weights=None)\n",
    "opt_w, opt_res = mc.optimisation()\n",
    "\n",
    "\n",
    "ef = EfficientFrontier(\n",
    "        df_returns.mean()*1,\n",
    "        df_returns.cov(),\n",
    "        risk_free_rate=0.005,\n",
    "        freq=252,\n",
    "    )\n",
    "\n",
    "\n",
    "\n",
    "\n",
    "mc.plot_results()\n",
    "ef.plot_efrontier()\n",
    "ef.plot_optimal_portfolios()\n",
    "\n",
    "# plotting individual stocks\n",
    "plot_stocks(df_returns)"
   ]
  },
  {
   "cell_type": "code",
   "execution_count": 71,
   "metadata": {},
   "outputs": [
    {
     "data": {
      "text/html": [
       "<div>\n",
       "<style scoped>\n",
       "    .dataframe tbody tr th:only-of-type {\n",
       "        vertical-align: middle;\n",
       "    }\n",
       "\n",
       "    .dataframe tbody tr th {\n",
       "        vertical-align: top;\n",
       "    }\n",
       "\n",
       "    .dataframe thead th {\n",
       "        text-align: right;\n",
       "    }\n",
       "</style>\n",
       "<table border=\"1\" class=\"dataframe\">\n",
       "  <thead>\n",
       "    <tr style=\"text-align: right;\">\n",
       "      <th></th>\n",
       "      <th>000725</th>\n",
       "      <th>600837</th>\n",
       "      <th>600036</th>\n",
       "      <th>600519</th>\n",
       "      <th>600276</th>\n",
       "      <th>601318</th>\n",
       "      <th>000333</th>\n",
       "      <th>600030</th>\n",
       "      <th>000917</th>\n",
       "      <th>002475</th>\n",
       "    </tr>\n",
       "  </thead>\n",
       "  <tbody>\n",
       "    <tr>\n",
       "      <th>Min Volatility</th>\n",
       "      <td>0.065115</td>\n",
       "      <td>0.033587</td>\n",
       "      <td>0.186663</td>\n",
       "      <td>0.225631</td>\n",
       "      <td>0.245714</td>\n",
       "      <td>0.085032</td>\n",
       "      <td>0.074414</td>\n",
       "      <td>0.024025</td>\n",
       "      <td>0.056802</td>\n",
       "      <td>0.003017</td>\n",
       "    </tr>\n",
       "    <tr>\n",
       "      <th>Max Sharpe Ratio</th>\n",
       "      <td>0.035447</td>\n",
       "      <td>0.011130</td>\n",
       "      <td>0.164412</td>\n",
       "      <td>0.181208</td>\n",
       "      <td>0.139039</td>\n",
       "      <td>0.088914</td>\n",
       "      <td>0.200231</td>\n",
       "      <td>0.017407</td>\n",
       "      <td>0.009464</td>\n",
       "      <td>0.152747</td>\n",
       "    </tr>\n",
       "  </tbody>\n",
       "</table>\n",
       "</div>"
      ],
      "text/plain": [
       "                    000725    600837    600036    600519    600276    601318  \\\n",
       "Min Volatility    0.065115  0.033587  0.186663  0.225631  0.245714  0.085032   \n",
       "Max Sharpe Ratio  0.035447  0.011130  0.164412  0.181208  0.139039  0.088914   \n",
       "\n",
       "                    000333    600030    000917    002475  \n",
       "Min Volatility    0.074414  0.024025  0.056802  0.003017  \n",
       "Max Sharpe Ratio  0.200231  0.017407  0.009464  0.152747  "
      ]
     },
     "execution_count": 71,
     "metadata": {},
     "output_type": "execute_result"
    }
   ],
   "source": [
    "opt_w"
   ]
  },
  {
   "cell_type": "code",
   "execution_count": null,
   "metadata": {},
   "outputs": [],
   "source": [
    "totalinvestment=1\n",
    "\n",
    "self.portfolio.append(stock.investmentinfo, ignore_index=True)"
   ]
  },
  {
   "cell_type": "code",
   "execution_count": 70,
   "metadata": {},
   "outputs": [
    {
     "data": {
      "text/plain": [
       "000725    0.237711\n",
       "600837   -0.134844\n",
       "600036    0.191986\n",
       "600519    0.588891\n",
       "600276    0.448251\n",
       "601318    0.088395\n",
       "000333    0.524689\n",
       "600030    0.231903\n",
       "000917   -0.228989\n",
       "002475    0.762197\n",
       "dtype: float64"
      ]
     },
     "execution_count": 70,
     "metadata": {},
     "output_type": "execute_result"
    }
   ],
   "source": [
    "comp_mean_returns"
   ]
  },
  {
   "cell_type": "code",
   "execution_count": 68,
   "metadata": {},
   "outputs": [
    {
     "ename": "NameError",
     "evalue": "name 'pf' is not defined",
     "output_type": "error",
     "traceback": [
      "\u001b[0;31m---------------------------------------------------------------------------\u001b[0m",
      "\u001b[0;31mNameError\u001b[0m                                 Traceback (most recent call last)",
      "\u001b[0;32m<ipython-input-68-5502469a8394>\u001b[0m in \u001b[0;36m<module>\u001b[0;34m\u001b[0m\n\u001b[1;32m      6\u001b[0m                    'kurtosis':pf.kurtosis}\n\u001b[1;32m      7\u001b[0m     \u001b[0;32mreturn\u001b[0m \u001b[0mreturn_data\u001b[0m\u001b[0;34m\u001b[0m\u001b[0;34m\u001b[0m\u001b[0m\n\u001b[0;32m----> 8\u001b[0;31m \u001b[0mport_val\u001b[0m\u001b[0;34m(\u001b[0m\u001b[0mpf\u001b[0m\u001b[0;34m)\u001b[0m\u001b[0;34m\u001b[0m\u001b[0;34m\u001b[0m\u001b[0m\n\u001b[0m\u001b[1;32m      9\u001b[0m \u001b[0mpd\u001b[0m\u001b[0;34m.\u001b[0m\u001b[0mDataFrame\u001b[0m\u001b[0;34m(\u001b[0m\u001b[0mport_val\u001b[0m\u001b[0;34m(\u001b[0m\u001b[0mpf\u001b[0m\u001b[0;34m)\u001b[0m\u001b[0;34m)\u001b[0m\u001b[0;34m\u001b[0m\u001b[0;34m\u001b[0m\u001b[0m\n",
      "\u001b[0;31mNameError\u001b[0m: name 'pf' is not defined"
     ]
    }
   ],
   "source": [
    "def port_val(pf):\n",
    "    return_data = {'expected_return':pf.expected_return,\n",
    "                   'volatility':pf.volatility,\n",
    "                   'sharpe':pf.sharpe,\n",
    "                   'skew':pf.skew,\n",
    "                   'kurtosis':pf.kurtosis}\n",
    "    return return_data\n",
    "port_val(pf)\n",
    "pd.DataFrame(port_val(pf))"
   ]
  },
  {
   "cell_type": "code",
   "execution_count": 30,
   "metadata": {},
   "outputs": [
    {
     "data": {
      "text/plain": [
       "601328   -0.0007\n",
       "dtype: float64"
      ]
     },
     "execution_count": 30,
     "metadata": {},
     "output_type": "execute_result"
    }
   ],
   "source": [
    "daily_return = df_p.pct_change().dropna(how=\"all\").replace([np.inf, -np.inf], np.nan)\n",
    "daily_return.mean()"
   ]
  },
  {
   "cell_type": "code",
   "execution_count": 26,
   "metadata": {},
   "outputs": [
    {
     "data": {
      "text/plain": [
       "601328   -0.176298\n",
       "dtype: float64"
      ]
     },
     "execution_count": 26,
     "metadata": {},
     "output_type": "execute_result"
    }
   ],
   "source": [
    "df_log_return = pf.comp_daily_log_returns()\n",
    "# df_log_return.std()\n",
    "\n",
    "daily_return = df_p.pct_change().dropna(how=\"all\").replace([np.inf, -np.inf], np.nan)\n",
    "\n",
    "freq = 252\n",
    "daily_return.mean() * freq"
   ]
  },
  {
   "cell_type": "code",
   "execution_count": 84,
   "metadata": {},
   "outputs": [
    {
     "data": {
      "text/plain": [
       "252"
      ]
     },
     "execution_count": 84,
     "metadata": {},
     "output_type": "execute_result"
    }
   ],
   "source": [
    "pf.freq\n"
   ]
  },
  {
   "cell_type": "code",
   "execution_count": 15,
   "metadata": {},
   "outputs": [
    {
     "name": "stderr",
     "output_type": "stream",
     "text": [
      "/home/davidyu/software/Anaconda/lib/python3.7/site-packages/numpy/core/_asarray.py:83: VisibleDeprecationWarning: Creating an ndarray from ragged nested sequences (which is a list-or-tuple of lists-or-tuples-or ndarrays with different lengths or shapes) is deprecated. If you meant to do this, you must specify 'dtype=object' when creating the ndarray\n",
      "  return array(a, dtype, copy=False, order=order)\n"
     ]
    },
    {
     "data": {
      "image/png": "[encoded data removed]",
      "text/plain": [
       "<Figure size 432x288 with 2 Axes>"
      ]
     },
     "metadata": {
      "needs_background": "light"
     },
     "output_type": "display_data"
    }
   ],
   "source": [
    "# Monte Carlo optimisation\n",
    "opt_w, opt_res = pf.mc_optimisation(num_trials=5000)\n",
    "pf.mc_plot_results()\n",
    "# minimisation to compute efficient frontier and optimal portfolios along it\n",
    "pf.ef_plot_efrontier()\n",
    "pf.ef.plot_optimal_portfolios()\n",
    "# plotting individual stocks\n",
    "pf.plot_stocks()"
   ]
  },
  {
   "cell_type": "code",
   "execution_count": 16,
   "metadata": {},
   "outputs": [
    {
     "data": {
      "text/html": [
       "<div>\n",
       "<style scoped>\n",
       "    .dataframe tbody tr th:only-of-type {\n",
       "        vertical-align: middle;\n",
       "    }\n",
       "\n",
       "    .dataframe tbody tr th {\n",
       "        vertical-align: top;\n",
       "    }\n",
       "\n",
       "    .dataframe thead th {\n",
       "        text-align: right;\n",
       "    }\n",
       "</style>\n",
       "<table border=\"1\" class=\"dataframe\">\n",
       "  <thead>\n",
       "    <tr style=\"text-align: right;\">\n",
       "      <th></th>\n",
       "      <th>601328</th>\n",
       "      <th>601288</th>\n",
       "      <th>601006</th>\n",
       "      <th>601939</th>\n",
       "    </tr>\n",
       "  </thead>\n",
       "  <tbody>\n",
       "    <tr>\n",
       "      <th>Min Volatility</th>\n",
       "      <td>0.247981</td>\n",
       "      <td>0.516323</td>\n",
       "      <td>0.235034</td>\n",
       "      <td>0.000662</td>\n",
       "    </tr>\n",
       "    <tr>\n",
       "      <th>Max Sharpe Ratio</th>\n",
       "      <td>0.062561</td>\n",
       "      <td>0.062277</td>\n",
       "      <td>0.030513</td>\n",
       "      <td>0.844650</td>\n",
       "    </tr>\n",
       "  </tbody>\n",
       "</table>\n",
       "</div>"
      ],
      "text/plain": [
       "                    601328    601288    601006    601939\n",
       "Min Volatility    0.247981  0.516323  0.235034  0.000662\n",
       "Max Sharpe Ratio  0.062561  0.062277  0.030513  0.844650"
      ]
     },
     "execution_count": 16,
     "metadata": {},
     "output_type": "execute_result"
    }
   ],
   "source": [
    "opt_w"
   ]
  },
  {
   "cell_type": "code",
   "execution_count": 14,
   "metadata": {},
   "outputs": [
    {
     "data": {
      "text/plain": [
       "0.2030440672563551"
      ]
     },
     "execution_count": 14,
     "metadata": {},
     "output_type": "execute_result"
    }
   ],
   "source": [
    "total = 1274000+3170000+922500+908000\n",
    "1274000/total\n"
   ]
  }
 ],
 "metadata": {
  "kernelspec": {
   "display_name": "Python 3",
   "language": "python",
   "name": "python3"
  },
  "language_info": {
   "codemirror_mode": {
    "name": "ipython",
    "version": 3
   },
   "file_extension": ".py",
   "mimetype": "text/x-python",
   "name": "python",
   "nbconvert_exporter": "python",
   "pygments_lexer": "ipython3",
   "version": "3.7.5"
  }
 },
 "nbformat": 4,
 "nbformat_minor": 2
}
