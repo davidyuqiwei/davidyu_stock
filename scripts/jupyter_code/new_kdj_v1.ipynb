{
 "cells": [
  {
   "cell_type": "code",
   "execution_count": 11,
   "metadata": {},
   "outputs": [
    {
     "name": "stdout",
     "output_type": "stream",
     "text": [
      "The autoreload extension is already loaded. To reload it, use:\n",
      "  %reload_ext autoreload\n"
     ]
    }
   ],
   "source": [
    "%load_ext autoreload\n",
    "%autoreload 2\n",
    "from davidyu_cfg import *\n",
    "from functions.baostock.stock_return import *\n",
    "from functions.common.loadModule.load_module_kdj import *\n",
    "import matplotlib.pyplot as plt\n",
    "\n"
   ]
  },
  {
   "cell_type": "code",
   "execution_count": 40,
   "metadata": {},
   "outputs": [],
   "source": [
    "def new_kdj(df,kdj_day=9,k_stat=3,d_stat=3):\n",
    "    low_list = df['low'].rolling(kdj_day, min_periods=kdj_day).min()\n",
    "    low_list.fillna(value = df['low'].expanding().min(), inplace = True)\n",
    "    high_list = df['high'].rolling(kdj_day, min_periods=kdj_day).max()\n",
    "    high_list.fillna(value = df['high'].expanding().max(), inplace = True)\n",
    "\n",
    "    rsv = (df['close'] - low_list) / (high_list - low_list) * 100\n",
    "    df['K'] = pd.DataFrame(rsv).ewm(com=k_stat-1).mean()\n",
    "    df['D'] = df['K'].ewm(com=d_stat-1).mean()\n",
    "    df['J'] = 3 * df['K'] - 2 * df['D']\n",
    "    return df\n",
    "def new_macd(df2,col,MACD_EMA_SHORT = 12,MACD_EMA_LONG = 26, MACD_EMA_SIGNAL = 9):\n",
    "    fast=df2[col].ewm(\n",
    "                ignore_na=False, span=MACD_EMA_SHORT,\n",
    "                min_periods=0, adjust=True).mean()\n",
    "    slow=df2[col].ewm(\n",
    "                ignore_na=False, span=MACD_EMA_LONG,\n",
    "                min_periods=0, adjust=True).mean()\n",
    "    # df2[\"volume_26\"].plot(secondary_y=True, style='r*-')\n",
    "    # df2[\"volume_12\"].plot(secondary_y=True, style='b*-')\n",
    "    df2['macd'] = fast-slow\n",
    "    df2['macds'] = df2[\"macd\"].ewm(\n",
    "                ignore_na=False, span=MACD_EMA_SIGNAL,\n",
    "                min_periods=0, adjust=True).mean()\n",
    "    df2['macdh'] = (df2['macd'] - df2['macds'])\n",
    "    return df2"
   ]
  },
  {
   "cell_type": "code",
   "execution_count": 16,
   "metadata": {},
   "outputs": [
    {
     "name": "stderr",
     "output_type": "stream",
     "text": [
      "/home/davidyu/software/Anaconda/lib/python3.7/site-packages/ipykernel_launcher.py:8: SettingWithCopyWarning:\n",
      "\n",
      "\n",
      "A value is trying to be set on a copy of a slice from a DataFrame.\n",
      "Try using .loc[row_indexer,col_indexer] = value instead\n",
      "\n",
      "See the caveats in the documentation: http://pandas.pydata.org/pandas-docs/stable/user_guide/indexing.html#returning-a-view-versus-a-copy\n",
      "\n",
      "/home/davidyu/software/Anaconda/lib/python3.7/site-packages/ipykernel_launcher.py:9: SettingWithCopyWarning:\n",
      "\n",
      "\n",
      "A value is trying to be set on a copy of a slice from a DataFrame.\n",
      "Try using .loc[row_indexer,col_indexer] = value instead\n",
      "\n",
      "See the caveats in the documentation: http://pandas.pydata.org/pandas-docs/stable/user_guide/indexing.html#returning-a-view-versus-a-copy\n",
      "\n",
      "/home/davidyu/software/Anaconda/lib/python3.7/site-packages/ipykernel_launcher.py:10: SettingWithCopyWarning:\n",
      "\n",
      "\n",
      "A value is trying to be set on a copy of a slice from a DataFrame.\n",
      "Try using .loc[row_indexer,col_indexer] = value instead\n",
      "\n",
      "See the caveats in the documentation: http://pandas.pydata.org/pandas-docs/stable/user_guide/indexing.html#returning-a-view-versus-a-copy\n",
      "\n"
     ]
    }
   ],
   "source": [
    "\n",
    "# df"
   ]
  },
  {
   "cell_type": "code",
   "execution_count": 18,
   "metadata": {},
   "outputs": [],
   "source": [
    "import plotly.graph_objects as go\n",
    "import plotly.express as px\n",
    "import pandas as pd\n",
    "# df2 = df1[df1[\"dt\"]>=\"2020-03-01\"]\n",
    "from plotly.subplots import make_subplots\n",
    "\n",
    "\n",
    "def plot_new_kdj(df2):\n",
    "    df2 = df\n",
    "    layout = dict(title_x=0.5, # title居中\n",
    "              font=dict(family=\"Times New Roman\",size=20,color=\"RebeccaPurple\"),\n",
    "              # 字体设置\n",
    "              coloraxis_colorbar=dict(xanchor=\"left\",x=0.75,ticks=\"outside\"),\n",
    "              # 颜色条设置\n",
    "              margin=dict(b= 0,l=20, r=0, t= 0),\n",
    "              width=1000,\n",
    "              height=800\n",
    "              # 大小设置\n",
    "             )\n",
    "    fig_all = make_subplots(rows=2,  # 将画布分为两行\n",
    "            cols=1,  # 将画布分为两列\n",
    "            subplot_titles=[\"\", \n",
    "                            \"\"\n",
    "                         ],  # 子图的标题\n",
    "            x_title=\"\",\n",
    "            y_title=\"y轴标题\", shared_xaxes=True\n",
    "           )\n",
    "\n",
    "    trace0 = go.Scatter(\n",
    "        name=\"close\",\n",
    "        x=df2[\"dt\"], y=df2[\"close\"],mode='markers+lines'\n",
    "    )\n",
    "\n",
    "    trace2 = go.Scatter(\n",
    "         name=\"K\",\n",
    "         x=df2[\"dt\"], y=df2[\"K\"],mode='markers+lines'\n",
    "    )\n",
    "    trace3 = go.Scatter(\n",
    "         name=\"D\",\n",
    "         x=df2[\"dt\"], y=df2[\"D\"],mode='markers+lines'\n",
    "    )\n",
    "\n",
    "    trace4 = go.Scatter(\n",
    "         name=\"J\",\n",
    "         x=df2[\"dt\"], y=df2[\"J\"],mode='markers+lines'\n",
    "    )\n",
    "\n",
    "    a1=tuple([trace2,trace3,trace4])\n",
    "    fig_all.append_trace(trace0,1,1)  # 将trace0添加到第一行第一列的位置\n",
    "    fig_all.add_traces(a1,2,1)\n",
    "\n",
    "    fig_all['layout']['yaxis1'].update(domain=[0.5, 1])\n",
    "    fig_all['layout']['yaxis2'].update(domain=[0, 0.46])\n",
    "\n",
    "    fig_all.update_layout(layout)\n",
    "    fig_all.update_layout(xaxis1_rangeslider_visible=False)\n",
    "\n",
    "\n",
    "    fig_all.show()\n",
    "# fig.show()\n"
   ]
  },
  {
   "cell_type": "code",
   "execution_count": null,
   "metadata": {},
   "outputs": [],
   "source": [
    "import plotly.graph_objects as go\n",
    "import plotly.express as px\n",
    "import pandas as pd\n",
    "# df2 = df1[df1[\"dt\"]>=\"2020-03-01\"]\n",
    "from plotly.subplots import make_subplots\n",
    "\n",
    "def plot_new_macd(df3):\n",
    "    layout = dict(title_x=0.5, # title居中\n",
    "              font=dict(family=\"Times New Roman\",size=20,color=\"RebeccaPurple\"),\n",
    "              # 字体设置\n",
    "              coloraxis_colorbar=dict(xanchor=\"left\",x=0.75,ticks=\"outside\"),\n",
    "              # 颜色条设置\n",
    "              margin=dict(b= 0,l=20, r=0, t= 0),\n",
    "              width=1000,\n",
    "              height=800\n",
    "              # 大小设置\n",
    "             )\n",
    "    fig_all = make_subplots(rows=4,  # 将画布分为两行\n",
    "            cols=1,  # 将画布分为两列\n",
    "            subplot_titles=[\"\", \n",
    "                            \"\"\n",
    "                         ],  # 子图的标题\n",
    "            x_title=\"\",\n",
    "            y_title=\"y轴标题\", shared_xaxes=True\n",
    "           )\n",
    "\n",
    "    trace0 = go.Scatter(\n",
    "        name=\"close\",\n",
    "        x=df3[\"dt\"], y=df3[\"close\"],mode='markers+lines'\n",
    "    )\n",
    "    trace1 = go.Bar(\n",
    "        name=\"macd_close\",\n",
    "        x=df3[\"dt\"], y=df3[\"macd_close\"]\n",
    "    )\n",
    "\n",
    "    trace2 = go.Bar(\n",
    "         name=\"macd_high\",\n",
    "         x=df3[\"dt\"], y=df3[\"macd_high\"],\n",
    "    )\n",
    "    trace3 = go.Bar(\n",
    "         name=\"macd_low\",\n",
    "         x=df3[\"dt\"], y=df3[\"macd_low\"],\n",
    "    )\n",
    "\n",
    "    # fig = px.bar(df2, x='dt', y=\"macdh_volume\")\n",
    "\n",
    "    fig_all.append_trace(trace0,1,1)  # 将trace0添加到第一行第一列的位置\n",
    "    fig_all.append_trace(trace1,2,1)  # 将trace0添加到第一行第一列的位置\n",
    "    fig_all.append_trace(trace2,3,1)  # 将trace0添加到第一行第一列的位置\n",
    "    fig_all.append_trace(trace3,4,1)  # 将trace0添加到第一行第一列的位置\n",
    "\n",
    "    fig_all['layout']['yaxis1'].update(domain=[0.8, 1])\n",
    "    fig_all['layout']['yaxis2'].update(domain=[0.6, 0.75])\n",
    "    fig_all['layout']['yaxis3'].update(domain=[0.4, 0.55])\n",
    "    fig_all['layout']['yaxis4'].update(domain=[0.1, 0.35])\n",
    "\n",
    "\n",
    "\n",
    "    fig_all.update_layout(layout)\n",
    "    fig_all.update_layout(xaxis1_rangeslider_visible=False)\n",
    "    fig_all.update_layout(xaxis2_rangeslider_visible=False)\n",
    "    fig_all.update_layout(xaxis4_rangeslider_visible=True)\n",
    "\n",
    "    fig_all.show()\n",
    "# fig.show()"
   ]
  },
  {
   "cell_type": "code",
   "execution_count": 23,
   "metadata": {},
   "outputs": [
    {
     "data": {
      "application/vnd.plotly.v1+json": {
       "config": {
        "plotlyServerURL": "https://plot.ly"
       },
       "data": [
        {
         "mode": "markers+lines",
         "name": "close",
         "type": "scatter",
         "x": [
          "2020-11-02",
          "2020-11-03",
          "2020-11-04",
          "2020-11-05",
          "2020-11-06",
          "2020-11-09",
          "2020-11-10",
          "2020-11-11",
          "2020-11-12",
          "2020-11-13",
          "2020-11-16",
          "2020-11-17",
          "2020-11-18",
          "2020-11-19",
          "2020-11-20",
          "2020-11-23",
          "2020-11-24",
          "2020-11-25",
          "2020-11-26",
          "2020-11-27",
          "2020-11-30",
          "2020-12-01",
          "2020-12-02",
          "2020-12-03",
          "2020-12-04",
          "2020-12-07",
          "2020-12-08",
          "2020-12-09",
          "2020-12-10",
          "2020-12-11",
          "2020-12-14",
          "2020-12-15",
          "2020-12-16",
          "2020-12-17",
          "2020-12-18",
          "2020-12-21",
          "2020-12-22",
          "2020-12-23",
          "2020-12-24",
          "2020-12-25",
          "2020-12-28",
          "2020-12-29",
          "2020-12-30",
          "2020-12-31",
          "2021-01-04",
          "2021-01-05",
          "2021-01-06",
          "2021-01-07",
          "2021-01-08",
          "2021-01-11",
          "2021-01-12",
          "2021-01-13",
          "2021-01-14",
          "2021-01-15",
          "2021-01-18",
          "2021-01-19",
          "2021-01-20",
          "2021-01-21",
          "2021-01-22",
          "2021-01-25",
          "2021-01-26",
          "2021-01-27",
          "2021-01-28",
          "2021-01-29",
          "2021-02-01",
          "2021-02-02",
          "2021-02-03",
          "2021-02-04",
          "2021-02-05",
          "2021-02-08",
          "2021-02-09",
          "2021-02-10"
         ],
         "xaxis": "x",
         "y": [
          24.19,
          24.84,
          24.6,
          24.89,
          25.82,
          25.9,
          24.89,
          24.66,
          24.4,
          24.45,
          24.74,
          24.31,
          24.37,
          24.2,
          24.45,
          24.62,
          23.97,
          23.88,
          23.8,
          23.91,
          23.84,
          24.11,
          24.32,
          24.33,
          24.36,
          24.07,
          24.5,
          24.03,
          23.7,
          23.48,
          23.53,
          23.83,
          23.75,
          23.91,
          23.94,
          24.45,
          23.51,
          23.38,
          23.31,
          23.41,
          23.66,
          23.4,
          23.44,
          23.62,
          24.17,
          24.73,
          24.36,
          24.64,
          24.26,
          23.39,
          23.5,
          23.34,
          22.78,
          22.88,
          23.07,
          23.14,
          23.02,
          23.06,
          22.58,
          22.04,
          23.01,
          22.23,
          22.06,
          22.21,
          22.83,
          22.3,
          22.06,
          21.25,
          20.81,
          21.18,
          21.39,
          21.73
         ],
         "yaxis": "y"
        },
        {
         "mode": "markers+lines",
         "name": "K",
         "type": "scatter",
         "x": [
          "2020-11-02",
          "2020-11-03",
          "2020-11-04",
          "2020-11-05",
          "2020-11-06",
          "2020-11-09",
          "2020-11-10",
          "2020-11-11",
          "2020-11-12",
          "2020-11-13",
          "2020-11-16",
          "2020-11-17",
          "2020-11-18",
          "2020-11-19",
          "2020-11-20",
          "2020-11-23",
          "2020-11-24",
          "2020-11-25",
          "2020-11-26",
          "2020-11-27",
          "2020-11-30",
          "2020-12-01",
          "2020-12-02",
          "2020-12-03",
          "2020-12-04",
          "2020-12-07",
          "2020-12-08",
          "2020-12-09",
          "2020-12-10",
          "2020-12-11",
          "2020-12-14",
          "2020-12-15",
          "2020-12-16",
          "2020-12-17",
          "2020-12-18",
          "2020-12-21",
          "2020-12-22",
          "2020-12-23",
          "2020-12-24",
          "2020-12-25",
          "2020-12-28",
          "2020-12-29",
          "2020-12-30",
          "2020-12-31",
          "2021-01-04",
          "2021-01-05",
          "2021-01-06",
          "2021-01-07",
          "2021-01-08",
          "2021-01-11",
          "2021-01-12",
          "2021-01-13",
          "2021-01-14",
          "2021-01-15",
          "2021-01-18",
          "2021-01-19",
          "2021-01-20",
          "2021-01-21",
          "2021-01-22",
          "2021-01-25",
          "2021-01-26",
          "2021-01-27",
          "2021-01-28",
          "2021-01-29",
          "2021-02-01",
          "2021-02-02",
          "2021-02-03",
          "2021-02-04",
          "2021-02-05",
          "2021-02-08",
          "2021-02-09",
          "2021-02-10"
         ],
         "xaxis": "x2",
         "y": [
          86.44067796610197,
          88.11473272490231,
          79.89844232484741,
          85.37258048340192,
          84.56484618272185,
          85.22861138001178,
          67.0839717317192,
          48.68961329221825,
          32.92691112036698,
          24.04245444072768,
          23.847275543642596,
          20.14313890422379,
          24.071655518382663,
          20.430903390686492,
          27.189149337754905,
          37.9226604529382,
          29.81900329914673,
          24.297368083841217,
          18.21570401340149,
          18.41448951880593,
          24.11321765205726,
          47.74530369940078,
          55.78153581697774,
          61.38555430543591,
          65.86215175801439,
          61.6857686873493,
          67.72327865677853,
          47.88834572286342,
          34.86663842166857,
          26.629799325213558,
          26.803972782628044,
          33.54261999061304,
          37.150484629695484,
          55.0352074106551,
          63.75285053133875,
          74.62750919782462,
          57.100748813732935,
          41.292969110790565,
          29.128644423689536,
          26.036743061658683,
          30.102926992145758,
          29.003325854345885,
          31.530672588507162,
          40.53264367510273,
          55.632873741015764,
          68.08645945063726,
          68.38675355939827,
          74.43732290710358,
          68.60298411412485,
          48.84091277386832,
          38.947834054470675,
          29.158835470608278,
          20.64197278400796,
          16.999410426305403,
          28.26842415749872,
          40.858194723084786,
          45.828540072256295,
          54.30714932072032,
          42.426988435550975,
          28.85445952646541,
          45.673087960477304,
          41.94297818050301,
          36.19953334634268,
          35.24413334200113,
          46.48459464183407,
          43.82497880336198,
          34.32175764066458,
          25.673492877362325,
          18.004550807124993,
          18.373404241787203,
          23.41822062890685,
          36.68741590314498
         ],
         "yaxis": "y2"
        },
        {
         "mode": "markers+lines",
         "name": "D",
         "type": "scatter",
         "x": [
          "2020-11-02",
          "2020-11-03",
          "2020-11-04",
          "2020-11-05",
          "2020-11-06",
          "2020-11-09",
          "2020-11-10",
          "2020-11-11",
          "2020-11-12",
          "2020-11-13",
          "2020-11-16",
          "2020-11-17",
          "2020-11-18",
          "2020-11-19",
          "2020-11-20",
          "2020-11-23",
          "2020-11-24",
          "2020-11-25",
          "2020-11-26",
          "2020-11-27",
          "2020-11-30",
          "2020-12-01",
          "2020-12-02",
          "2020-12-03",
          "2020-12-04",
          "2020-12-07",
          "2020-12-08",
          "2020-12-09",
          "2020-12-10",
          "2020-12-11",
          "2020-12-14",
          "2020-12-15",
          "2020-12-16",
          "2020-12-17",
          "2020-12-18",
          "2020-12-21",
          "2020-12-22",
          "2020-12-23",
          "2020-12-24",
          "2020-12-25",
          "2020-12-28",
          "2020-12-29",
          "2020-12-30",
          "2020-12-31",
          "2021-01-04",
          "2021-01-05",
          "2021-01-06",
          "2021-01-07",
          "2021-01-08",
          "2021-01-11",
          "2021-01-12",
          "2021-01-13",
          "2021-01-14",
          "2021-01-15",
          "2021-01-18",
          "2021-01-19",
          "2021-01-20",
          "2021-01-21",
          "2021-01-22",
          "2021-01-25",
          "2021-01-26",
          "2021-01-27",
          "2021-01-28",
          "2021-01-29",
          "2021-02-01",
          "2021-02-02",
          "2021-02-03",
          "2021-02-04",
          "2021-02-05",
          "2021-02-08",
          "2021-02-09",
          "2021-02-10"
         ],
         "xaxis": "x2",
         "y": [
          86.44067796610197,
          87.44511082138217,
          83.87037311249726,
          84.49436694348843,
          84.52142295475812,
          84.77983917631698,
          78.5145223394487,
          68.1692287492357,
          56.108050617525954,
          45.230891986799186,
          38.019650532810566,
          32.0145297760588,
          29.353230653619566,
          26.36889877475425,
          26.64294144890436,
          30.408580739096433,
          30.21185525743709,
          28.23902463781147,
          24.896409932947403,
          22.735119833025013,
          23.194577887505744,
          31.37924709796086,
          39.51406818914268,
          46.80499666566503,
          53.157633274376536,
          56.00042013230689,
          59.90810841947385,
          55.90147384023167,
          48.88980718428186,
          41.46976586837168,
          36.58115117673028,
          35.56830510042962,
          36.09569909178781,
          42.408875034879394,
          49.523538419775996,
          57.891532510336255,
          57.627937864345526,
          52.1829471718539,
          44.49817854664294,
          38.34436616177805,
          35.59721960627016,
          33.399254933949216,
          32.7763941354448,
          35.36181069485062,
          42.1188317907117,
          50.7747077460783,
          56.645389714925784,
          62.57603413324608,
          64.5850174649318,
          59.336982559679996,
          52.54059971750425,
          44.74667829643962,
          36.711776455228666,
          30.140987776885325,
          29.516799903627547,
          33.29726484396714,
          37.47435658711361,
          43.0852874986592,
          42.86585447761417,
          38.19538949377089,
          40.68795564938488,
          41.10629649309599,
          39.47070877749837,
          38.06185029899172,
          40.869431746615895,
          41.85461409886694,
          39.34366194612882,
          34.786938923201824,
          29.19280955117226,
          25.586341114708876,
          24.863634286107974,
          28.80489482512113
         ],
         "yaxis": "y2"
        },
        {
         "mode": "markers+lines",
         "name": "J",
         "type": "scatter",
         "x": [
          "2020-11-02",
          "2020-11-03",
          "2020-11-04",
          "2020-11-05",
          "2020-11-06",
          "2020-11-09",
          "2020-11-10",
          "2020-11-11",
          "2020-11-12",
          "2020-11-13",
          "2020-11-16",
          "2020-11-17",
          "2020-11-18",
          "2020-11-19",
          "2020-11-20",
          "2020-11-23",
          "2020-11-24",
          "2020-11-25",
          "2020-11-26",
          "2020-11-27",
          "2020-11-30",
          "2020-12-01",
          "2020-12-02",
          "2020-12-03",
          "2020-12-04",
          "2020-12-07",
          "2020-12-08",
          "2020-12-09",
          "2020-12-10",
          "2020-12-11",
          "2020-12-14",
          "2020-12-15",
          "2020-12-16",
          "2020-12-17",
          "2020-12-18",
          "2020-12-21",
          "2020-12-22",
          "2020-12-23",
          "2020-12-24",
          "2020-12-25",
          "2020-12-28",
          "2020-12-29",
          "2020-12-30",
          "2020-12-31",
          "2021-01-04",
          "2021-01-05",
          "2021-01-06",
          "2021-01-07",
          "2021-01-08",
          "2021-01-11",
          "2021-01-12",
          "2021-01-13",
          "2021-01-14",
          "2021-01-15",
          "2021-01-18",
          "2021-01-19",
          "2021-01-20",
          "2021-01-21",
          "2021-01-22",
          "2021-01-25",
          "2021-01-26",
          "2021-01-27",
          "2021-01-28",
          "2021-01-29",
          "2021-02-01",
          "2021-02-02",
          "2021-02-03",
          "2021-02-04",
          "2021-02-05",
          "2021-02-08",
          "2021-02-09",
          "2021-02-10"
         ],
         "xaxis": "x2",
         "y": [
          86.44067796610196,
          89.4539765319426,
          71.95458074954772,
          87.1290075632289,
          84.65169263864931,
          86.12615578740139,
          44.2228705162602,
          9.73038237818335,
          -13.435367873950966,
          -18.33442065141533,
          -4.497474434693345,
          -3.5996428394462328,
          13.50850524790885,
          8.554912622550972,
          28.28156511545599,
          52.950819880621744,
          29.033299382566007,
          16.414054975900704,
          4.854292174309656,
          9.773228890367761,
          25.950497181160287,
          80.47741690228062,
          88.31647107264786,
          90.54666958497768,
          91.2711887252901,
          73.05646579743411,
          83.35361913138792,
          31.862089488126927,
          6.820300896441992,
          -3.0501337611026855,
          7.249615994423564,
          29.491249770979877,
          39.26005570551084,
          80.28787216220651,
          92.21147475446425,
          108.09946257280136,
          56.04637071250775,
          19.513012988663903,
          -1.610423822217271,
          1.4214968614199535,
          19.11434176389696,
          20.21146769513922,
          29.039229494631897,
          50.87430963560696,
          82.66095764162388,
          102.70996285975518,
          91.86948124834325,
          98.15990045481857,
          76.63891741251095,
          27.848773202244956,
          11.762302728403526,
          -2.0168501810544086,
          -11.497634558433447,
          -9.283744274854442,
          25.771672665241077,
          55.98005448132008,
          62.53690704254167,
          76.75087296484256,
          41.549256351424575,
          10.17259959185445,
          55.64335258266216,
          43.61634155531705,
          29.657182484031296,
          29.608699428019932,
          57.71492043227043,
          47.76570821235207,
          24.277949029736106,
          7.44660078568333,
          -4.3719666809695426,
          3.947530495943859,
          20.527393314504607,
          52.45245805919268
         ],
         "yaxis": "y2"
        }
       ],
       "layout": {
        "annotations": [
         {
          "font": {
           "size": 16
          },
          "showarrow": false,
          "text": "y轴标题",
          "textangle": -90,
          "x": 0,
          "xanchor": "right",
          "xref": "paper",
          "xshift": -40,
          "y": 0.5,
          "yanchor": "middle",
          "yref": "paper"
         }
        ],
        "coloraxis": {
         "colorbar": {
          "ticks": "outside",
          "x": 0.75,
          "xanchor": "left"
         }
        },
        "font": {
         "color": "RebeccaPurple",
         "family": "Times New Roman",
         "size": 20
        },
        "height": 800,
        "margin": {
         "b": 0,
         "l": 20,
         "r": 0,
         "t": 0
        },
        "template": {
         "data": {
          "bar": [
           {
            "error_x": {
             "color": "#2a3f5f"
            },
            "error_y": {
             "color": "#2a3f5f"
            },
            "marker": {
             "line": {
              "color": "#E5ECF6",
              "width": 0.5
             }
            },
            "type": "bar"
           }
          ],
          "barpolar": [
           {
            "marker": {
             "line": {
              "color": "#E5ECF6",
              "width": 0.5
             }
            },
            "type": "barpolar"
           }
          ],
          "carpet": [
           {
            "aaxis": {
             "endlinecolor": "#2a3f5f",
             "gridcolor": "white",
             "linecolor": "white",
             "minorgridcolor": "white",
             "startlinecolor": "#2a3f5f"
            },
            "baxis": {
             "endlinecolor": "#2a3f5f",
             "gridcolor": "white",
             "linecolor": "white",
             "minorgridcolor": "white",
             "startlinecolor": "#2a3f5f"
            },
            "type": "carpet"
           }
          ],
          "choropleth": [
           {
            "colorbar": {
             "outlinewidth": 0,
             "ticks": ""
            },
            "type": "choropleth"
           }
          ],
          "contour": [
           {
            "colorbar": {
             "outlinewidth": 0,
             "ticks": ""
            },
            "colorscale": [
             [
              0,
              "#0d0887"
             ],
             [
              0.1111111111111111,
              "#46039f"
             ],
             [
              0.2222222222222222,
              "#7201a8"
             ],
             [
              0.3333333333333333,
              "#9c179e"
             ],
             [
              0.4444444444444444,
              "#bd3786"
             ],
             [
              0.5555555555555556,
              "#d8576b"
             ],
             [
              0.6666666666666666,
              "#ed7953"
             ],
             [
              0.7777777777777778,
              "#fb9f3a"
             ],
             [
              0.8888888888888888,
              "#fdca26"
             ],
             [
              1,
              "#f0f921"
             ]
            ],
            "type": "contour"
           }
          ],
          "contourcarpet": [
           {
            "colorbar": {
             "outlinewidth": 0,
             "ticks": ""
            },
            "type": "contourcarpet"
           }
          ],
          "heatmap": [
           {
            "colorbar": {
             "outlinewidth": 0,
             "ticks": ""
            },
            "colorscale": [
             [
              0,
              "#0d0887"
             ],
             [
              0.1111111111111111,
              "#46039f"
             ],
             [
              0.2222222222222222,
              "#7201a8"
             ],
             [
              0.3333333333333333,
              "#9c179e"
             ],
             [
              0.4444444444444444,
              "#bd3786"
             ],
             [
              0.5555555555555556,
              "#d8576b"
             ],
             [
              0.6666666666666666,
              "#ed7953"
             ],
             [
              0.7777777777777778,
              "#fb9f3a"
             ],
             [
              0.8888888888888888,
              "#fdca26"
             ],
             [
              1,
              "#f0f921"
             ]
            ],
            "type": "heatmap"
           }
          ],
          "heatmapgl": [
           {
            "colorbar": {
             "outlinewidth": 0,
             "ticks": ""
            },
            "colorscale": [
             [
              0,
              "#0d0887"
             ],
             [
              0.1111111111111111,
              "#46039f"
             ],
             [
              0.2222222222222222,
              "#7201a8"
             ],
             [
              0.3333333333333333,
              "#9c179e"
             ],
             [
              0.4444444444444444,
              "#bd3786"
             ],
             [
              0.5555555555555556,
              "#d8576b"
             ],
             [
              0.6666666666666666,
              "#ed7953"
             ],
             [
              0.7777777777777778,
              "#fb9f3a"
             ],
             [
              0.8888888888888888,
              "#fdca26"
             ],
             [
              1,
              "#f0f921"
             ]
            ],
            "type": "heatmapgl"
           }
          ],
          "histogram": [
           {
            "marker": {
             "colorbar": {
              "outlinewidth": 0,
              "ticks": ""
             }
            },
            "type": "histogram"
           }
          ],
          "histogram2d": [
           {
            "colorbar": {
             "outlinewidth": 0,
             "ticks": ""
            },
            "colorscale": [
             [
              0,
              "#0d0887"
             ],
             [
              0.1111111111111111,
              "#46039f"
             ],
             [
              0.2222222222222222,
              "#7201a8"
             ],
             [
              0.3333333333333333,
              "#9c179e"
             ],
             [
              0.4444444444444444,
              "#bd3786"
             ],
             [
              0.5555555555555556,
              "#d8576b"
             ],
             [
              0.6666666666666666,
              "#ed7953"
             ],
             [
              0.7777777777777778,
              "#fb9f3a"
             ],
             [
              0.8888888888888888,
              "#fdca26"
             ],
             [
              1,
              "#f0f921"
             ]
            ],
            "type": "histogram2d"
           }
          ],
          "histogram2dcontour": [
           {
            "colorbar": {
             "outlinewidth": 0,
             "ticks": ""
            },
            "colorscale": [
             [
              0,
              "#0d0887"
             ],
             [
              0.1111111111111111,
              "#46039f"
             ],
             [
              0.2222222222222222,
              "#7201a8"
             ],
             [
              0.3333333333333333,
              "#9c179e"
             ],
             [
              0.4444444444444444,
              "#bd3786"
             ],
             [
              0.5555555555555556,
              "#d8576b"
             ],
             [
              0.6666666666666666,
              "#ed7953"
             ],
             [
              0.7777777777777778,
              "#fb9f3a"
             ],
             [
              0.8888888888888888,
              "#fdca26"
             ],
             [
              1,
              "#f0f921"
             ]
            ],
            "type": "histogram2dcontour"
           }
          ],
          "mesh3d": [
           {
            "colorbar": {
             "outlinewidth": 0,
             "ticks": ""
            },
            "type": "mesh3d"
           }
          ],
          "parcoords": [
           {
            "line": {
             "colorbar": {
              "outlinewidth": 0,
              "ticks": ""
             }
            },
            "type": "parcoords"
           }
          ],
          "pie": [
           {
            "automargin": true,
            "type": "pie"
           }
          ],
          "scatter": [
           {
            "marker": {
             "colorbar": {
              "outlinewidth": 0,
              "ticks": ""
             }
            },
            "type": "scatter"
           }
          ],
          "scatter3d": [
           {
            "line": {
             "colorbar": {
              "outlinewidth": 0,
              "ticks": ""
             }
            },
            "marker": {
             "colorbar": {
              "outlinewidth": 0,
              "ticks": ""
             }
            },
            "type": "scatter3d"
           }
          ],
          "scattercarpet": [
           {
            "marker": {
             "colorbar": {
              "outlinewidth": 0,
              "ticks": ""
             }
            },
            "type": "scattercarpet"
           }
          ],
          "scattergeo": [
           {
            "marker": {
             "colorbar": {
              "outlinewidth": 0,
              "ticks": ""
             }
            },
            "type": "scattergeo"
           }
          ],
          "scattergl": [
           {
            "marker": {
             "colorbar": {
              "outlinewidth": 0,
              "ticks": ""
             }
            },
            "type": "scattergl"
           }
          ],
          "scattermapbox": [
           {
            "marker": {
             "colorbar": {
              "outlinewidth": 0,
              "ticks": ""
             }
            },
            "type": "scattermapbox"
           }
          ],
          "scatterpolar": [
           {
            "marker": {
             "colorbar": {
              "outlinewidth": 0,
              "ticks": ""
             }
            },
            "type": "scatterpolar"
           }
          ],
          "scatterpolargl": [
           {
            "marker": {
             "colorbar": {
              "outlinewidth": 0,
              "ticks": ""
             }
            },
            "type": "scatterpolargl"
           }
          ],
          "scatterternary": [
           {
            "marker": {
             "colorbar": {
              "outlinewidth": 0,
              "ticks": ""
             }
            },
            "type": "scatterternary"
           }
          ],
          "surface": [
           {
            "colorbar": {
             "outlinewidth": 0,
             "ticks": ""
            },
            "colorscale": [
             [
              0,
              "#0d0887"
             ],
             [
              0.1111111111111111,
              "#46039f"
             ],
             [
              0.2222222222222222,
              "#7201a8"
             ],
             [
              0.3333333333333333,
              "#9c179e"
             ],
             [
              0.4444444444444444,
              "#bd3786"
             ],
             [
              0.5555555555555556,
              "#d8576b"
             ],
             [
              0.6666666666666666,
              "#ed7953"
             ],
             [
              0.7777777777777778,
              "#fb9f3a"
             ],
             [
              0.8888888888888888,
              "#fdca26"
             ],
             [
              1,
              "#f0f921"
             ]
            ],
            "type": "surface"
           }
          ],
          "table": [
           {
            "cells": {
             "fill": {
              "color": "#EBF0F8"
             },
             "line": {
              "color": "white"
             }
            },
            "header": {
             "fill": {
              "color": "#C8D4E3"
             },
             "line": {
              "color": "white"
             }
            },
            "type": "table"
           }
          ]
         },
         "layout": {
          "annotationdefaults": {
           "arrowcolor": "#2a3f5f",
           "arrowhead": 0,
           "arrowwidth": 1
          },
          "autotypenumbers": "strict",
          "coloraxis": {
           "colorbar": {
            "outlinewidth": 0,
            "ticks": ""
           }
          },
          "colorscale": {
           "diverging": [
            [
             0,
             "#8e0152"
            ],
            [
             0.1,
             "#c51b7d"
            ],
            [
             0.2,
             "#de77ae"
            ],
            [
             0.3,
             "#f1b6da"
            ],
            [
             0.4,
             "#fde0ef"
            ],
            [
             0.5,
             "#f7f7f7"
            ],
            [
             0.6,
             "#e6f5d0"
            ],
            [
             0.7,
             "#b8e186"
            ],
            [
             0.8,
             "#7fbc41"
            ],
            [
             0.9,
             "#4d9221"
            ],
            [
             1,
             "#276419"
            ]
           ],
           "sequential": [
            [
             0,
             "#0d0887"
            ],
            [
             0.1111111111111111,
             "#46039f"
            ],
            [
             0.2222222222222222,
             "#7201a8"
            ],
            [
             0.3333333333333333,
             "#9c179e"
            ],
            [
             0.4444444444444444,
             "#bd3786"
            ],
            [
             0.5555555555555556,
             "#d8576b"
            ],
            [
             0.6666666666666666,
             "#ed7953"
            ],
            [
             0.7777777777777778,
             "#fb9f3a"
            ],
            [
             0.8888888888888888,
             "#fdca26"
            ],
            [
             1,
             "#f0f921"
            ]
           ],
           "sequentialminus": [
            [
             0,
             "#0d0887"
            ],
            [
             0.1111111111111111,
             "#46039f"
            ],
            [
             0.2222222222222222,
             "#7201a8"
            ],
            [
             0.3333333333333333,
             "#9c179e"
            ],
            [
             0.4444444444444444,
             "#bd3786"
            ],
            [
             0.5555555555555556,
             "#d8576b"
            ],
            [
             0.6666666666666666,
             "#ed7953"
            ],
            [
             0.7777777777777778,
             "#fb9f3a"
            ],
            [
             0.8888888888888888,
             "#fdca26"
            ],
            [
             1,
             "#f0f921"
            ]
           ]
          },
          "colorway": [
           "#636efa",
           "#EF553B",
           "#00cc96",
           "#ab63fa",
           "#FFA15A",
           "#19d3f3",
           "#FF6692",
           "#B6E880",
           "#FF97FF",
           "#FECB52"
          ],
          "font": {
           "color": "#2a3f5f"
          },
          "geo": {
           "bgcolor": "white",
           "lakecolor": "white",
           "landcolor": "#E5ECF6",
           "showlakes": true,
           "showland": true,
           "subunitcolor": "white"
          },
          "hoverlabel": {
           "align": "left"
          },
          "hovermode": "closest",
          "mapbox": {
           "style": "light"
          },
          "paper_bgcolor": "white",
          "plot_bgcolor": "#E5ECF6",
          "polar": {
           "angularaxis": {
            "gridcolor": "white",
            "linecolor": "white",
            "ticks": ""
           },
           "bgcolor": "#E5ECF6",
           "radialaxis": {
            "gridcolor": "white",
            "linecolor": "white",
            "ticks": ""
           }
          },
          "scene": {
           "xaxis": {
            "backgroundcolor": "#E5ECF6",
            "gridcolor": "white",
            "gridwidth": 2,
            "linecolor": "white",
            "showbackground": true,
            "ticks": "",
            "zerolinecolor": "white"
           },
           "yaxis": {
            "backgroundcolor": "#E5ECF6",
            "gridcolor": "white",
            "gridwidth": 2,
            "linecolor": "white",
            "showbackground": true,
            "ticks": "",
            "zerolinecolor": "white"
           },
           "zaxis": {
            "backgroundcolor": "#E5ECF6",
            "gridcolor": "white",
            "gridwidth": 2,
            "linecolor": "white",
            "showbackground": true,
            "ticks": "",
            "zerolinecolor": "white"
           }
          },
          "shapedefaults": {
           "line": {
            "color": "#2a3f5f"
           }
          },
          "ternary": {
           "aaxis": {
            "gridcolor": "white",
            "linecolor": "white",
            "ticks": ""
           },
           "baxis": {
            "gridcolor": "white",
            "linecolor": "white",
            "ticks": ""
           },
           "bgcolor": "#E5ECF6",
           "caxis": {
            "gridcolor": "white",
            "linecolor": "white",
            "ticks": ""
           }
          },
          "title": {
           "x": 0.05
          },
          "xaxis": {
           "automargin": true,
           "gridcolor": "white",
           "linecolor": "white",
           "ticks": "",
           "title": {
            "standoff": 15
           },
           "zerolinecolor": "white",
           "zerolinewidth": 2
          },
          "yaxis": {
           "automargin": true,
           "gridcolor": "white",
           "linecolor": "white",
           "ticks": "",
           "title": {
            "standoff": 15
           },
           "zerolinecolor": "white",
           "zerolinewidth": 2
          }
         }
        },
        "title": {
         "x": 0.5
        },
        "width": 1000,
        "xaxis": {
         "anchor": "y",
         "domain": [
          0,
          1
         ],
         "matches": "x2",
         "rangeslider": {
          "visible": false
         },
         "showticklabels": false
        },
        "xaxis2": {
         "anchor": "y2",
         "domain": [
          0,
          1
         ]
        },
        "yaxis": {
         "anchor": "x",
         "domain": [
          0.5,
          1
         ]
        },
        "yaxis2": {
         "anchor": "x2",
         "domain": [
          0,
          0.46
         ]
        }
       }
      },
      "text/html": [
       "<div>                            <div id=\"fd87aac4-69a7-4a90-87e2-77d50b399564\" class=\"plotly-graph-div\" style=\"height:800px; width:1000px;\"></div>            <script type=\"text/javascript\">                require([\"plotly\"], function(Plotly) {                    window.PLOTLYENV=window.PLOTLYENV || {};                                    if (document.getElementById(\"fd87aac4-69a7-4a90-87e2-77d50b399564\")) {                    Plotly.newPlot(                        \"fd87aac4-69a7-4a90-87e2-77d50b399564\",                        [{\"mode\": \"markers+lines\", \"name\": \"close\", \"type\": \"scatter\", \"x\": [\"2020-11-02\", \"2020-11-03\", \"2020-11-04\", \"2020-11-05\", \"2020-11-06\", \"2020-11-09\", \"2020-11-10\", \"2020-11-11\", \"2020-11-12\", \"2020-11-13\", \"2020-11-16\", \"2020-11-17\", \"2020-11-18\", \"2020-11-19\", \"2020-11-20\", \"2020-11-23\", \"2020-11-24\", \"2020-11-25\", \"2020-11-26\", \"2020-11-27\", \"2020-11-30\", \"2020-12-01\", \"2020-12-02\", \"2020-12-03\", \"2020-12-04\", \"2020-12-07\", \"2020-12-08\", \"2020-12-09\", \"2020-12-10\", \"2020-12-11\", \"2020-12-14\", \"2020-12-15\", \"2020-12-16\", \"2020-12-17\", \"2020-12-18\", \"2020-12-21\", \"2020-12-22\", \"2020-12-23\", \"2020-12-24\", \"2020-12-25\", \"2020-12-28\", \"2020-12-29\", \"2020-12-30\", \"2020-12-31\", \"2021-01-04\", \"2021-01-05\", \"2021-01-06\", \"2021-01-07\", \"2021-01-08\", \"2021-01-11\", \"2021-01-12\", \"2021-01-13\", \"2021-01-14\", \"2021-01-15\", \"2021-01-18\", \"2021-01-19\", \"2021-01-20\", \"2021-01-21\", \"2021-01-22\", \"2021-01-25\", \"2021-01-26\", \"2021-01-27\", \"2021-01-28\", \"2021-01-29\", \"2021-02-01\", \"2021-02-02\", \"2021-02-03\", \"2021-02-04\", \"2021-02-05\", \"2021-02-08\", \"2021-02-09\", \"2021-02-10\"], \"xaxis\": \"x\", \"y\": [24.19, 24.84, 24.6, 24.89, 25.82, 25.9, 24.89, 24.66, 24.4, 24.45, 24.74, 24.31, 24.37, 24.2, 24.45, 24.62, 23.97, 23.88, 23.8, 23.91, 23.84, 24.11, 24.32, 24.33, 24.36, 24.07, 24.5, 24.03, 23.7, 23.48, 23.53, 23.83, 23.75, 23.91, 23.94, 24.45, 23.51, 23.38, 23.31, 23.41, 23.66, 23.4, 23.44, 23.62, 24.17, 24.73, 24.36, 24.64, 24.26, 23.39, 23.5, 23.34, 22.78, 22.88, 23.07, 23.14, 23.02, 23.06, 22.58, 22.04, 23.01, 22.23, 22.06, 22.21, 22.83, 22.3, 22.06, 21.25, 20.81, 21.18, 21.39, 21.73], \"yaxis\": \"y\"}, {\"mode\": \"markers+lines\", \"name\": \"K\", \"type\": \"scatter\", \"x\": [\"2020-11-02\", \"2020-11-03\", \"2020-11-04\", \"2020-11-05\", \"2020-11-06\", \"2020-11-09\", \"2020-11-10\", \"2020-11-11\", \"2020-11-12\", \"2020-11-13\", \"2020-11-16\", \"2020-11-17\", \"2020-11-18\", \"2020-11-19\", \"2020-11-20\", \"2020-11-23\", \"2020-11-24\", \"2020-11-25\", \"2020-11-26\", \"2020-11-27\", \"2020-11-30\", \"2020-12-01\", \"2020-12-02\", \"2020-12-03\", \"2020-12-04\", \"2020-12-07\", \"2020-12-08\", \"2020-12-09\", \"2020-12-10\", \"2020-12-11\", \"2020-12-14\", \"2020-12-15\", \"2020-12-16\", \"2020-12-17\", \"2020-12-18\", \"2020-12-21\", \"2020-12-22\", \"2020-12-23\", \"2020-12-24\", \"2020-12-25\", \"2020-12-28\", \"2020-12-29\", \"2020-12-30\", \"2020-12-31\", \"2021-01-04\", \"2021-01-05\", \"2021-01-06\", \"2021-01-07\", \"2021-01-08\", \"2021-01-11\", \"2021-01-12\", \"2021-01-13\", \"2021-01-14\", \"2021-01-15\", \"2021-01-18\", \"2021-01-19\", \"2021-01-20\", \"2021-01-21\", \"2021-01-22\", \"2021-01-25\", \"2021-01-26\", \"2021-01-27\", \"2021-01-28\", \"2021-01-29\", \"2021-02-01\", \"2021-02-02\", \"2021-02-03\", \"2021-02-04\", \"2021-02-05\", \"2021-02-08\", \"2021-02-09\", \"2021-02-10\"], \"xaxis\": \"x2\", \"y\": [86.44067796610197, 88.11473272490231, 79.89844232484741, 85.37258048340192, 84.56484618272185, 85.22861138001178, 67.0839717317192, 48.68961329221825, 32.92691112036698, 24.04245444072768, 23.847275543642596, 20.14313890422379, 24.071655518382663, 20.430903390686492, 27.189149337754905, 37.9226604529382, 29.81900329914673, 24.297368083841217, 18.21570401340149, 18.41448951880593, 24.11321765205726, 47.74530369940078, 55.78153581697774, 61.38555430543591, 65.86215175801439, 61.6857686873493, 67.72327865677853, 47.88834572286342, 34.86663842166857, 26.629799325213558, 26.803972782628044, 33.54261999061304, 37.150484629695484, 55.0352074106551, 63.75285053133875, 74.62750919782462, 57.100748813732935, 41.292969110790565, 29.128644423689536, 26.036743061658683, 30.102926992145758, 29.003325854345885, 31.530672588507162, 40.53264367510273, 55.632873741015764, 68.08645945063726, 68.38675355939827, 74.43732290710358, 68.60298411412485, 48.84091277386832, 38.947834054470675, 29.158835470608278, 20.64197278400796, 16.999410426305403, 28.26842415749872, 40.858194723084786, 45.828540072256295, 54.30714932072032, 42.426988435550975, 28.85445952646541, 45.673087960477304, 41.94297818050301, 36.19953334634268, 35.24413334200113, 46.48459464183407, 43.82497880336198, 34.32175764066458, 25.673492877362325, 18.004550807124993, 18.373404241787203, 23.41822062890685, 36.68741590314498], \"yaxis\": \"y2\"}, {\"mode\": \"markers+lines\", \"name\": \"D\", \"type\": \"scatter\", \"x\": [\"2020-11-02\", \"2020-11-03\", \"2020-11-04\", \"2020-11-05\", \"2020-11-06\", \"2020-11-09\", \"2020-11-10\", \"2020-11-11\", \"2020-11-12\", \"2020-11-13\", \"2020-11-16\", \"2020-11-17\", \"2020-11-18\", \"2020-11-19\", \"2020-11-20\", \"2020-11-23\", \"2020-11-24\", \"2020-11-25\", \"2020-11-26\", \"2020-11-27\", \"2020-11-30\", \"2020-12-01\", \"2020-12-02\", \"2020-12-03\", \"2020-12-04\", \"2020-12-07\", \"2020-12-08\", \"2020-12-09\", \"2020-12-10\", \"2020-12-11\", \"2020-12-14\", \"2020-12-15\", \"2020-12-16\", \"2020-12-17\", \"2020-12-18\", \"2020-12-21\", \"2020-12-22\", \"2020-12-23\", \"2020-12-24\", \"2020-12-25\", \"2020-12-28\", \"2020-12-29\", \"2020-12-30\", \"2020-12-31\", \"2021-01-04\", \"2021-01-05\", \"2021-01-06\", \"2021-01-07\", \"2021-01-08\", \"2021-01-11\", \"2021-01-12\", \"2021-01-13\", \"2021-01-14\", \"2021-01-15\", \"2021-01-18\", \"2021-01-19\", \"2021-01-20\", \"2021-01-21\", \"2021-01-22\", \"2021-01-25\", \"2021-01-26\", \"2021-01-27\", \"2021-01-28\", \"2021-01-29\", \"2021-02-01\", \"2021-02-02\", \"2021-02-03\", \"2021-02-04\", \"2021-02-05\", \"2021-02-08\", \"2021-02-09\", \"2021-02-10\"], \"xaxis\": \"x2\", \"y\": [86.44067796610197, 87.44511082138217, 83.87037311249726, 84.49436694348843, 84.52142295475812, 84.77983917631698, 78.5145223394487, 68.1692287492357, 56.108050617525954, 45.230891986799186, 38.019650532810566, 32.0145297760588, 29.353230653619566, 26.36889877475425, 26.64294144890436, 30.408580739096433, 30.21185525743709, 28.23902463781147, 24.896409932947403, 22.735119833025013, 23.194577887505744, 31.37924709796086, 39.51406818914268, 46.80499666566503, 53.157633274376536, 56.00042013230689, 59.90810841947385, 55.90147384023167, 48.88980718428186, 41.46976586837168, 36.58115117673028, 35.56830510042962, 36.09569909178781, 42.408875034879394, 49.523538419775996, 57.891532510336255, 57.627937864345526, 52.1829471718539, 44.49817854664294, 38.34436616177805, 35.59721960627016, 33.399254933949216, 32.7763941354448, 35.36181069485062, 42.1188317907117, 50.7747077460783, 56.645389714925784, 62.57603413324608, 64.5850174649318, 59.336982559679996, 52.54059971750425, 44.74667829643962, 36.711776455228666, 30.140987776885325, 29.516799903627547, 33.29726484396714, 37.47435658711361, 43.0852874986592, 42.86585447761417, 38.19538949377089, 40.68795564938488, 41.10629649309599, 39.47070877749837, 38.06185029899172, 40.869431746615895, 41.85461409886694, 39.34366194612882, 34.786938923201824, 29.19280955117226, 25.586341114708876, 24.863634286107974, 28.80489482512113], \"yaxis\": \"y2\"}, {\"mode\": \"markers+lines\", \"name\": \"J\", \"type\": \"scatter\", \"x\": [\"2020-11-02\", \"2020-11-03\", \"2020-11-04\", \"2020-11-05\", \"2020-11-06\", \"2020-11-09\", \"2020-11-10\", \"2020-11-11\", \"2020-11-12\", \"2020-11-13\", \"2020-11-16\", \"2020-11-17\", \"2020-11-18\", \"2020-11-19\", \"2020-11-20\", \"2020-11-23\", \"2020-11-24\", \"2020-11-25\", \"2020-11-26\", \"2020-11-27\", \"2020-11-30\", \"2020-12-01\", \"2020-12-02\", \"2020-12-03\", \"2020-12-04\", \"2020-12-07\", \"2020-12-08\", \"2020-12-09\", \"2020-12-10\", \"2020-12-11\", \"2020-12-14\", \"2020-12-15\", \"2020-12-16\", \"2020-12-17\", \"2020-12-18\", \"2020-12-21\", \"2020-12-22\", \"2020-12-23\", \"2020-12-24\", \"2020-12-25\", \"2020-12-28\", \"2020-12-29\", \"2020-12-30\", \"2020-12-31\", \"2021-01-04\", \"2021-01-05\", \"2021-01-06\", \"2021-01-07\", \"2021-01-08\", \"2021-01-11\", \"2021-01-12\", \"2021-01-13\", \"2021-01-14\", \"2021-01-15\", \"2021-01-18\", \"2021-01-19\", \"2021-01-20\", \"2021-01-21\", \"2021-01-22\", \"2021-01-25\", \"2021-01-26\", \"2021-01-27\", \"2021-01-28\", \"2021-01-29\", \"2021-02-01\", \"2021-02-02\", \"2021-02-03\", \"2021-02-04\", \"2021-02-05\", \"2021-02-08\", \"2021-02-09\", \"2021-02-10\"], \"xaxis\": \"x2\", \"y\": [86.44067796610196, 89.4539765319426, 71.95458074954772, 87.1290075632289, 84.65169263864931, 86.12615578740139, 44.2228705162602, 9.73038237818335, -13.435367873950966, -18.33442065141533, -4.497474434693345, -3.5996428394462328, 13.50850524790885, 8.554912622550972, 28.28156511545599, 52.950819880621744, 29.033299382566007, 16.414054975900704, 4.854292174309656, 9.773228890367761, 25.950497181160287, 80.47741690228062, 88.31647107264786, 90.54666958497768, 91.2711887252901, 73.05646579743411, 83.35361913138792, 31.862089488126927, 6.820300896441992, -3.0501337611026855, 7.249615994423564, 29.491249770979877, 39.26005570551084, 80.28787216220651, 92.21147475446425, 108.09946257280136, 56.04637071250775, 19.513012988663903, -1.610423822217271, 1.4214968614199535, 19.11434176389696, 20.21146769513922, 29.039229494631897, 50.87430963560696, 82.66095764162388, 102.70996285975518, 91.86948124834325, 98.15990045481857, 76.63891741251095, 27.848773202244956, 11.762302728403526, -2.0168501810544086, -11.497634558433447, -9.283744274854442, 25.771672665241077, 55.98005448132008, 62.53690704254167, 76.75087296484256, 41.549256351424575, 10.17259959185445, 55.64335258266216, 43.61634155531705, 29.657182484031296, 29.608699428019932, 57.71492043227043, 47.76570821235207, 24.277949029736106, 7.44660078568333, -4.3719666809695426, 3.947530495943859, 20.527393314504607, 52.45245805919268], \"yaxis\": \"y2\"}],                        {\"annotations\": [{\"font\": {\"size\": 16}, \"showarrow\": false, \"text\": \"y\\u8f74\\u6807\\u9898\", \"textangle\": -90, \"x\": 0, \"xanchor\": \"right\", \"xref\": \"paper\", \"xshift\": -40, \"y\": 0.5, \"yanchor\": \"middle\", \"yref\": \"paper\"}], \"coloraxis\": {\"colorbar\": {\"ticks\": \"outside\", \"x\": 0.75, \"xanchor\": \"left\"}}, \"font\": {\"color\": \"RebeccaPurple\", \"family\": \"Times New Roman\", \"size\": 20}, \"height\": 800, \"margin\": {\"b\": 0, \"l\": 20, \"r\": 0, \"t\": 0}, \"template\": {\"data\": {\"bar\": [{\"error_x\": {\"color\": \"#2a3f5f\"}, \"error_y\": {\"color\": \"#2a3f5f\"}, \"marker\": {\"line\": {\"color\": \"#E5ECF6\", \"width\": 0.5}}, \"type\": \"bar\"}], \"barpolar\": [{\"marker\": {\"line\": {\"color\": \"#E5ECF6\", \"width\": 0.5}}, \"type\": \"barpolar\"}], \"carpet\": [{\"aaxis\": {\"endlinecolor\": \"#2a3f5f\", \"gridcolor\": \"white\", \"linecolor\": \"white\", \"minorgridcolor\": \"white\", \"startlinecolor\": \"#2a3f5f\"}, \"baxis\": {\"endlinecolor\": \"#2a3f5f\", \"gridcolor\": \"white\", \"linecolor\": \"white\", \"minorgridcolor\": \"white\", \"startlinecolor\": \"#2a3f5f\"}, \"type\": \"carpet\"}], \"choropleth\": [{\"colorbar\": {\"outlinewidth\": 0, \"ticks\": \"\"}, \"type\": \"choropleth\"}], \"contour\": [{\"colorbar\": {\"outlinewidth\": 0, \"ticks\": \"\"}, \"colorscale\": [[0.0, \"#0d0887\"], [0.1111111111111111, \"#46039f\"], [0.2222222222222222, \"#7201a8\"], [0.3333333333333333, \"#9c179e\"], [0.4444444444444444, \"#bd3786\"], [0.5555555555555556, \"#d8576b\"], [0.6666666666666666, \"#ed7953\"], [0.7777777777777778, \"#fb9f3a\"], [0.8888888888888888, \"#fdca26\"], [1.0, \"#f0f921\"]], \"type\": \"contour\"}], \"contourcarpet\": [{\"colorbar\": {\"outlinewidth\": 0, \"ticks\": \"\"}, \"type\": \"contourcarpet\"}], \"heatmap\": [{\"colorbar\": {\"outlinewidth\": 0, \"ticks\": \"\"}, \"colorscale\": [[0.0, \"#0d0887\"], [0.1111111111111111, \"#46039f\"], [0.2222222222222222, \"#7201a8\"], [0.3333333333333333, \"#9c179e\"], [0.4444444444444444, \"#bd3786\"], [0.5555555555555556, \"#d8576b\"], [0.6666666666666666, \"#ed7953\"], [0.7777777777777778, \"#fb9f3a\"], [0.8888888888888888, \"#fdca26\"], [1.0, \"#f0f921\"]], \"type\": \"heatmap\"}], \"heatmapgl\": [{\"colorbar\": {\"outlinewidth\": 0, \"ticks\": \"\"}, \"colorscale\": [[0.0, \"#0d0887\"], [0.1111111111111111, \"#46039f\"], [0.2222222222222222, \"#7201a8\"], [0.3333333333333333, \"#9c179e\"], [0.4444444444444444, \"#bd3786\"], [0.5555555555555556, \"#d8576b\"], [0.6666666666666666, \"#ed7953\"], [0.7777777777777778, \"#fb9f3a\"], [0.8888888888888888, \"#fdca26\"], [1.0, \"#f0f921\"]], \"type\": \"heatmapgl\"}], \"histogram\": [{\"marker\": {\"colorbar\": {\"outlinewidth\": 0, \"ticks\": \"\"}}, \"type\": \"histogram\"}], \"histogram2d\": [{\"colorbar\": {\"outlinewidth\": 0, \"ticks\": \"\"}, \"colorscale\": [[0.0, \"#0d0887\"], [0.1111111111111111, \"#46039f\"], [0.2222222222222222, \"#7201a8\"], [0.3333333333333333, \"#9c179e\"], [0.4444444444444444, \"#bd3786\"], [0.5555555555555556, \"#d8576b\"], [0.6666666666666666, \"#ed7953\"], [0.7777777777777778, \"#fb9f3a\"], [0.8888888888888888, \"#fdca26\"], [1.0, \"#f0f921\"]], \"type\": \"histogram2d\"}], \"histogram2dcontour\": [{\"colorbar\": {\"outlinewidth\": 0, \"ticks\": \"\"}, \"colorscale\": [[0.0, \"#0d0887\"], [0.1111111111111111, \"#46039f\"], [0.2222222222222222, \"#7201a8\"], [0.3333333333333333, \"#9c179e\"], [0.4444444444444444, \"#bd3786\"], [0.5555555555555556, \"#d8576b\"], [0.6666666666666666, \"#ed7953\"], [0.7777777777777778, \"#fb9f3a\"], [0.8888888888888888, \"#fdca26\"], [1.0, \"#f0f921\"]], \"type\": \"histogram2dcontour\"}], \"mesh3d\": [{\"colorbar\": {\"outlinewidth\": 0, \"ticks\": \"\"}, \"type\": \"mesh3d\"}], \"parcoords\": [{\"line\": {\"colorbar\": {\"outlinewidth\": 0, \"ticks\": \"\"}}, \"type\": \"parcoords\"}], \"pie\": [{\"automargin\": true, \"type\": \"pie\"}], \"scatter\": [{\"marker\": {\"colorbar\": {\"outlinewidth\": 0, \"ticks\": \"\"}}, \"type\": \"scatter\"}], \"scatter3d\": [{\"line\": {\"colorbar\": {\"outlinewidth\": 0, \"ticks\": \"\"}}, \"marker\": {\"colorbar\": {\"outlinewidth\": 0, \"ticks\": \"\"}}, \"type\": \"scatter3d\"}], \"scattercarpet\": [{\"marker\": {\"colorbar\": {\"outlinewidth\": 0, \"ticks\": \"\"}}, \"type\": \"scattercarpet\"}], \"scattergeo\": [{\"marker\": {\"colorbar\": {\"outlinewidth\": 0, \"ticks\": \"\"}}, \"type\": \"scattergeo\"}], \"scattergl\": [{\"marker\": {\"colorbar\": {\"outlinewidth\": 0, \"ticks\": \"\"}}, \"type\": \"scattergl\"}], \"scattermapbox\": [{\"marker\": {\"colorbar\": {\"outlinewidth\": 0, \"ticks\": \"\"}}, \"type\": \"scattermapbox\"}], \"scatterpolar\": [{\"marker\": {\"colorbar\": {\"outlinewidth\": 0, \"ticks\": \"\"}}, \"type\": \"scatterpolar\"}], \"scatterpolargl\": [{\"marker\": {\"colorbar\": {\"outlinewidth\": 0, \"ticks\": \"\"}}, \"type\": \"scatterpolargl\"}], \"scatterternary\": [{\"marker\": {\"colorbar\": {\"outlinewidth\": 0, \"ticks\": \"\"}}, \"type\": \"scatterternary\"}], \"surface\": [{\"colorbar\": {\"outlinewidth\": 0, \"ticks\": \"\"}, \"colorscale\": [[0.0, \"#0d0887\"], [0.1111111111111111, \"#46039f\"], [0.2222222222222222, \"#7201a8\"], [0.3333333333333333, \"#9c179e\"], [0.4444444444444444, \"#bd3786\"], [0.5555555555555556, \"#d8576b\"], [0.6666666666666666, \"#ed7953\"], [0.7777777777777778, \"#fb9f3a\"], [0.8888888888888888, \"#fdca26\"], [1.0, \"#f0f921\"]], \"type\": \"surface\"}], \"table\": [{\"cells\": {\"fill\": {\"color\": \"#EBF0F8\"}, \"line\": {\"color\": \"white\"}}, \"header\": {\"fill\": {\"color\": \"#C8D4E3\"}, \"line\": {\"color\": \"white\"}}, \"type\": \"table\"}]}, \"layout\": {\"annotationdefaults\": {\"arrowcolor\": \"#2a3f5f\", \"arrowhead\": 0, \"arrowwidth\": 1}, \"autotypenumbers\": \"strict\", \"coloraxis\": {\"colorbar\": {\"outlinewidth\": 0, \"ticks\": \"\"}}, \"colorscale\": {\"diverging\": [[0, \"#8e0152\"], [0.1, \"#c51b7d\"], [0.2, \"#de77ae\"], [0.3, \"#f1b6da\"], [0.4, \"#fde0ef\"], [0.5, \"#f7f7f7\"], [0.6, \"#e6f5d0\"], [0.7, \"#b8e186\"], [0.8, \"#7fbc41\"], [0.9, \"#4d9221\"], [1, \"#276419\"]], \"sequential\": [[0.0, \"#0d0887\"], [0.1111111111111111, \"#46039f\"], [0.2222222222222222, \"#7201a8\"], [0.3333333333333333, \"#9c179e\"], [0.4444444444444444, \"#bd3786\"], [0.5555555555555556, \"#d8576b\"], [0.6666666666666666, \"#ed7953\"], [0.7777777777777778, \"#fb9f3a\"], [0.8888888888888888, \"#fdca26\"], [1.0, \"#f0f921\"]], \"sequentialminus\": [[0.0, \"#0d0887\"], [0.1111111111111111, \"#46039f\"], [0.2222222222222222, \"#7201a8\"], [0.3333333333333333, \"#9c179e\"], [0.4444444444444444, \"#bd3786\"], [0.5555555555555556, \"#d8576b\"], [0.6666666666666666, \"#ed7953\"], [0.7777777777777778, \"#fb9f3a\"], [0.8888888888888888, \"#fdca26\"], [1.0, \"#f0f921\"]]}, \"colorway\": [\"#636efa\", \"#EF553B\", \"#00cc96\", \"#ab63fa\", \"#FFA15A\", \"#19d3f3\", \"#FF6692\", \"#B6E880\", \"#FF97FF\", \"#FECB52\"], \"font\": {\"color\": \"#2a3f5f\"}, \"geo\": {\"bgcolor\": \"white\", \"lakecolor\": \"white\", \"landcolor\": \"#E5ECF6\", \"showlakes\": true, \"showland\": true, \"subunitcolor\": \"white\"}, \"hoverlabel\": {\"align\": \"left\"}, \"hovermode\": \"closest\", \"mapbox\": {\"style\": \"light\"}, \"paper_bgcolor\": \"white\", \"plot_bgcolor\": \"#E5ECF6\", \"polar\": {\"angularaxis\": {\"gridcolor\": \"white\", \"linecolor\": \"white\", \"ticks\": \"\"}, \"bgcolor\": \"#E5ECF6\", \"radialaxis\": {\"gridcolor\": \"white\", \"linecolor\": \"white\", \"ticks\": \"\"}}, \"scene\": {\"xaxis\": {\"backgroundcolor\": \"#E5ECF6\", \"gridcolor\": \"white\", \"gridwidth\": 2, \"linecolor\": \"white\", \"showbackground\": true, \"ticks\": \"\", \"zerolinecolor\": \"white\"}, \"yaxis\": {\"backgroundcolor\": \"#E5ECF6\", \"gridcolor\": \"white\", \"gridwidth\": 2, \"linecolor\": \"white\", \"showbackground\": true, \"ticks\": \"\", \"zerolinecolor\": \"white\"}, \"zaxis\": {\"backgroundcolor\": \"#E5ECF6\", \"gridcolor\": \"white\", \"gridwidth\": 2, \"linecolor\": \"white\", \"showbackground\": true, \"ticks\": \"\", \"zerolinecolor\": \"white\"}}, \"shapedefaults\": {\"line\": {\"color\": \"#2a3f5f\"}}, \"ternary\": {\"aaxis\": {\"gridcolor\": \"white\", \"linecolor\": \"white\", \"ticks\": \"\"}, \"baxis\": {\"gridcolor\": \"white\", \"linecolor\": \"white\", \"ticks\": \"\"}, \"bgcolor\": \"#E5ECF6\", \"caxis\": {\"gridcolor\": \"white\", \"linecolor\": \"white\", \"ticks\": \"\"}}, \"title\": {\"x\": 0.05}, \"xaxis\": {\"automargin\": true, \"gridcolor\": \"white\", \"linecolor\": \"white\", \"ticks\": \"\", \"title\": {\"standoff\": 15}, \"zerolinecolor\": \"white\", \"zerolinewidth\": 2}, \"yaxis\": {\"automargin\": true, \"gridcolor\": \"white\", \"linecolor\": \"white\", \"ticks\": \"\", \"title\": {\"standoff\": 15}, \"zerolinecolor\": \"white\", \"zerolinewidth\": 2}}}, \"title\": {\"x\": 0.5}, \"width\": 1000, \"xaxis\": {\"anchor\": \"y\", \"domain\": [0.0, 1.0], \"matches\": \"x2\", \"rangeslider\": {\"visible\": false}, \"showticklabels\": false}, \"xaxis2\": {\"anchor\": \"y2\", \"domain\": [0.0, 1.0]}, \"yaxis\": {\"anchor\": \"x\", \"domain\": [0.5, 1]}, \"yaxis2\": {\"anchor\": \"x2\", \"domain\": [0, 0.46]}},                        {\"responsive\": true}                    ).then(function(){\n",
       "                            \n",
       "var gd = document.getElementById('fd87aac4-69a7-4a90-87e2-77d50b399564');\n",
       "var x = new MutationObserver(function (mutations, observer) {{\n",
       "        var display = window.getComputedStyle(gd).display;\n",
       "        if (!display || display === 'none') {{\n",
       "            console.log([gd, 'removed!']);\n",
       "            Plotly.purge(gd);\n",
       "            observer.disconnect();\n",
       "        }}\n",
       "}});\n",
       "\n",
       "// Listen for the removal of the full notebook cells\n",
       "var notebookContainer = gd.closest('#notebook-container');\n",
       "if (notebookContainer) {{\n",
       "    x.observe(notebookContainer, {childList: true});\n",
       "}}\n",
       "\n",
       "// Listen for the clearing of the current output cell\n",
       "var outputEl = gd.closest('.output');\n",
       "if (outputEl) {{\n",
       "    x.observe(outputEl, {childList: true});\n",
       "}}\n",
       "\n",
       "                        })                };                });            </script>        </div>"
      ]
     },
     "metadata": {},
     "output_type": "display_data"
    }
   ],
   "source": [
    "stock_index=\"600547\"\n",
    "start_date = \"2020-11-01\"\n",
    "file_name=os.path.join(\"/home/davidyu/stock/data/history_data/dfcf_fuquan/stock_index\",stock_index+\"_fuquan.csv\")\n",
    "df1 = pd.read_csv(file_name)\n",
    "df2 = df1[df1[\"dt\"]>=start_date]\n",
    "df = df2.copy()\n",
    "kdj_day = 6\n",
    "k_stat = 3\n",
    "d_stat = 3\n",
    "j_stat = 2\n",
    "df = new_kdj(df,kdj_day,k_stat,d_stat)  # 卖点\n",
    "plot_new_kdj(df2)"
   ]
  },
  {
   "cell_type": "code",
   "execution_count": 30,
   "metadata": {},
   "outputs": [
    {
     "data": {
      "application/vnd.plotly.v1+json": {
       "config": {
        "plotlyServerURL": "https://plot.ly"
       },
       "data": [
        {
         "mode": "markers+lines",
         "name": "close",
         "type": "scatter",
         "x": [
          "2020-12-01",
          "2020-12-02",
          "2020-12-03",
          "2020-12-04",
          "2020-12-07",
          "2020-12-08",
          "2020-12-09",
          "2020-12-10",
          "2020-12-11",
          "2020-12-14",
          "2020-12-15",
          "2020-12-16",
          "2020-12-17",
          "2020-12-18",
          "2020-12-21",
          "2020-12-22",
          "2020-12-23",
          "2020-12-24",
          "2020-12-25",
          "2020-12-28",
          "2020-12-29",
          "2020-12-30",
          "2020-12-31",
          "2021-01-04",
          "2021-01-05",
          "2021-01-06",
          "2021-01-07",
          "2021-01-08",
          "2021-01-11",
          "2021-01-12",
          "2021-01-13",
          "2021-01-14",
          "2021-01-15",
          "2021-01-18",
          "2021-01-19",
          "2021-01-20",
          "2021-01-21",
          "2021-01-22",
          "2021-01-25",
          "2021-01-26",
          "2021-01-27",
          "2021-01-28",
          "2021-01-29",
          "2021-02-01",
          "2021-02-02",
          "2021-02-03",
          "2021-02-04",
          "2021-02-05",
          "2021-02-08",
          "2021-02-09",
          "2021-02-10"
         ],
         "xaxis": "x",
         "y": [
          24.11,
          24.32,
          24.33,
          24.36,
          24.07,
          24.5,
          24.03,
          23.7,
          23.48,
          23.53,
          23.83,
          23.75,
          23.91,
          23.94,
          24.45,
          23.51,
          23.38,
          23.31,
          23.41,
          23.66,
          23.4,
          23.44,
          23.62,
          24.17,
          24.73,
          24.36,
          24.64,
          24.26,
          23.39,
          23.5,
          23.34,
          22.78,
          22.88,
          23.07,
          23.14,
          23.02,
          23.06,
          22.58,
          22.04,
          23.01,
          22.23,
          22.06,
          22.21,
          22.83,
          22.3,
          22.06,
          21.25,
          20.81,
          21.18,
          21.39,
          21.73
         ],
         "yaxis": "y"
        },
        {
         "mode": "markers+lines",
         "name": "K",
         "type": "scatter",
         "x": [
          "2020-12-01",
          "2020-12-02",
          "2020-12-03",
          "2020-12-04",
          "2020-12-07",
          "2020-12-08",
          "2020-12-09",
          "2020-12-10",
          "2020-12-11",
          "2020-12-14",
          "2020-12-15",
          "2020-12-16",
          "2020-12-17",
          "2020-12-18",
          "2020-12-21",
          "2020-12-22",
          "2020-12-23",
          "2020-12-24",
          "2020-12-25",
          "2020-12-28",
          "2020-12-29",
          "2020-12-30",
          "2020-12-31",
          "2021-01-04",
          "2021-01-05",
          "2021-01-06",
          "2021-01-07",
          "2021-01-08",
          "2021-01-11",
          "2021-01-12",
          "2021-01-13",
          "2021-01-14",
          "2021-01-15",
          "2021-01-18",
          "2021-01-19",
          "2021-01-20",
          "2021-01-21",
          "2021-01-22",
          "2021-01-25",
          "2021-01-26",
          "2021-01-27",
          "2021-01-28",
          "2021-01-29",
          "2021-02-01",
          "2021-02-02",
          "2021-02-03",
          "2021-02-04",
          "2021-02-05",
          "2021-02-08",
          "2021-02-09",
          "2021-02-10"
         ],
         "xaxis": "x2",
         "y": [
          97.56097560975572,
          77.95471343143167,
          71.89071091510101,
          69.88389217315817,
          60.543481180008264,
          65.36842982018574,
          57.728822789757004,
          46.98477758592253,
          39.26224008951109,
          36.616054114338695,
          38.21849984911208,
          38.529162362817395,
          40.63807587276978,
          42.67337469232183,
          50.070815848167015,
          45.59766036950564,
          40.51141265692172,
          35.57844248267339,
          32.6150159893118,
          32.882355829377445,
          30.29940482939934,
          28.59414245434788,
          29.110508157064935,
          35.413998495855104,
          45.215182458919415,
          49.6642334825304,
          56.07708941623227,
          57.72355478749272,
          50.668452988158904,
          45.864358838686464,
          40.32029654704419,
          34.12730085219297,
          29.752740100612566,
          29.1495711604617,
          29.13222045126043,
          28.286722527877377,
          27.859456619541803,
          24.180797810526897,
          20.265253612869568,
          24.033132067907676,
          23.132689584443987,
          21.502143790425016,
          20.920294456349726,
          23.64565306701311,
          23.172490415671046,
          21.53570860511626,
          18.655096722381813,
          15.789362917419815,
          14.905653383343207,
          15.15644811302892,
          17.03306099351698
         ],
         "yaxis": "y2"
        },
        {
         "mode": "markers+lines",
         "name": "D",
         "type": "scatter",
         "x": [
          "2020-12-01",
          "2020-12-02",
          "2020-12-03",
          "2020-12-04",
          "2020-12-07",
          "2020-12-08",
          "2020-12-09",
          "2020-12-10",
          "2020-12-11",
          "2020-12-14",
          "2020-12-15",
          "2020-12-16",
          "2020-12-17",
          "2020-12-18",
          "2020-12-21",
          "2020-12-22",
          "2020-12-23",
          "2020-12-24",
          "2020-12-25",
          "2020-12-28",
          "2020-12-29",
          "2020-12-30",
          "2020-12-31",
          "2021-01-04",
          "2021-01-05",
          "2021-01-06",
          "2021-01-07",
          "2021-01-08",
          "2021-01-11",
          "2021-01-12",
          "2021-01-13",
          "2021-01-14",
          "2021-01-15",
          "2021-01-18",
          "2021-01-19",
          "2021-01-20",
          "2021-01-21",
          "2021-01-22",
          "2021-01-25",
          "2021-01-26",
          "2021-01-27",
          "2021-01-28",
          "2021-01-29",
          "2021-02-01",
          "2021-02-02",
          "2021-02-03",
          "2021-02-04",
          "2021-02-05",
          "2021-02-08",
          "2021-02-09",
          "2021-02-10"
         ],
         "xaxis": "x2",
         "y": [
          97.56097560975572,
          85.7972183027613,
          79.20992532965906,
          75.33603463388177,
          69.65737667291612,
          68.0901374470312,
          64.42165838673354,
          58.373369994763095,
          51.832859676659794,
          46.671077963895186,
          43.82059746372198,
          42.043085865394616,
          41.572330350566055,
          41.940606656995314,
          44.656879426132946,
          44.970951229035244,
          43.4829280888481,
          40.84631551728502,
          38.101310755555815,
          36.36113579301202,
          34.34015362696891,
          32.424560536653985,
          31.319777968707697,
          32.68459921916237,
          36.861625718219635,
          41.129274311633914,
          46.11196704660478,
          49.982541710750674,
          50.21118059178033,
          48.76223245101343,
          45.94824403287897,
          42.0079205063562,
          37.92285405880912,
          34.998423413447135,
          33.04302108315655,
          31.457587505520348,
          30.258210177444763,
          28.232405642918206,
          25.57668793930305,
          25.062169268972692,
          24.419009335352513,
          23.446720781295987,
          22.604578650414222,
          22.95160346214652,
          23.025232447531575,
          22.5287244961177,
          21.237515231371226,
          19.42146445364572,
          17.91619409333708,
          16.996278765124963,
          17.008539507935122
         ],
         "yaxis": "y2"
        },
        {
         "mode": "markers+lines",
         "name": "J",
         "type": "scatter",
         "x": [
          "2020-12-01",
          "2020-12-02",
          "2020-12-03",
          "2020-12-04",
          "2020-12-07",
          "2020-12-08",
          "2020-12-09",
          "2020-12-10",
          "2020-12-11",
          "2020-12-14",
          "2020-12-15",
          "2020-12-16",
          "2020-12-17",
          "2020-12-18",
          "2020-12-21",
          "2020-12-22",
          "2020-12-23",
          "2020-12-24",
          "2020-12-25",
          "2020-12-28",
          "2020-12-29",
          "2020-12-30",
          "2020-12-31",
          "2021-01-04",
          "2021-01-05",
          "2021-01-06",
          "2021-01-07",
          "2021-01-08",
          "2021-01-11",
          "2021-01-12",
          "2021-01-13",
          "2021-01-14",
          "2021-01-15",
          "2021-01-18",
          "2021-01-19",
          "2021-01-20",
          "2021-01-21",
          "2021-01-22",
          "2021-01-25",
          "2021-01-26",
          "2021-01-27",
          "2021-01-28",
          "2021-01-29",
          "2021-02-01",
          "2021-02-02",
          "2021-02-03",
          "2021-02-04",
          "2021-02-05",
          "2021-02-08",
          "2021-02-09",
          "2021-02-10"
         ],
         "xaxis": "x2",
         "y": [
          97.56097560975573,
          62.26970368877241,
          57.252282085984916,
          58.97960725171097,
          42.31569019419257,
          59.92501456649484,
          44.34315159580393,
          24.207592768241398,
          14.12100091521367,
          16.506006415225713,
          27.014304619892272,
          31.501315357662946,
          38.769566917177244,
          44.13891076297486,
          60.89868869223517,
          46.85107865044644,
          34.568381793068966,
          25.04269641345013,
          21.64242645682377,
          25.9247959021083,
          22.217907234260196,
          20.93330628973567,
          24.691968533779402,
          40.87279704924056,
          61.92229594031899,
          66.73415182432338,
          76.00733415548724,
          73.20558094097682,
          51.582997780916074,
          40.068611614032534,
          29.064401575374617,
          18.366061543866493,
          13.412512184219452,
          17.45186665449083,
          21.31061918746819,
          21.94499257259144,
          23.06194950373588,
          16.07758214574428,
          9.642384960002602,
          21.975057665777648,
          20.56005008262693,
          17.612989808683082,
          17.551726068220738,
          25.03375227674629,
          23.467006351949983,
          19.54967682311338,
          13.490259704402987,
          8.525159844968009,
          8.884571963355462,
          11.476786808836835,
          17.08210396468069
         ],
         "yaxis": "y2"
        }
       ],
       "layout": {
        "annotations": [
         {
          "font": {
           "size": 16
          },
          "showarrow": false,
          "text": "y轴标题",
          "textangle": -90,
          "x": 0,
          "xanchor": "right",
          "xref": "paper",
          "xshift": -40,
          "y": 0.5,
          "yanchor": "middle",
          "yref": "paper"
         }
        ],
        "coloraxis": {
         "colorbar": {
          "ticks": "outside",
          "x": 0.75,
          "xanchor": "left"
         }
        },
        "font": {
         "color": "RebeccaPurple",
         "family": "Times New Roman",
         "size": 20
        },
        "height": 800,
        "margin": {
         "b": 0,
         "l": 20,
         "r": 0,
         "t": 0
        },
        "template": {
         "data": {
          "bar": [
           {
            "error_x": {
             "color": "#2a3f5f"
            },
            "error_y": {
             "color": "#2a3f5f"
            },
            "marker": {
             "line": {
              "color": "#E5ECF6",
              "width": 0.5
             }
            },
            "type": "bar"
           }
          ],
          "barpolar": [
           {
            "marker": {
             "line": {
              "color": "#E5ECF6",
              "width": 0.5
             }
            },
            "type": "barpolar"
           }
          ],
          "carpet": [
           {
            "aaxis": {
             "endlinecolor": "#2a3f5f",
             "gridcolor": "white",
             "linecolor": "white",
             "minorgridcolor": "white",
             "startlinecolor": "#2a3f5f"
            },
            "baxis": {
             "endlinecolor": "#2a3f5f",
             "gridcolor": "white",
             "linecolor": "white",
             "minorgridcolor": "white",
             "startlinecolor": "#2a3f5f"
            },
            "type": "carpet"
           }
          ],
          "choropleth": [
           {
            "colorbar": {
             "outlinewidth": 0,
             "ticks": ""
            },
            "type": "choropleth"
           }
          ],
          "contour": [
           {
            "colorbar": {
             "outlinewidth": 0,
             "ticks": ""
            },
            "colorscale": [
             [
              0,
              "#0d0887"
             ],
             [
              0.1111111111111111,
              "#46039f"
             ],
             [
              0.2222222222222222,
              "#7201a8"
             ],
             [
              0.3333333333333333,
              "#9c179e"
             ],
             [
              0.4444444444444444,
              "#bd3786"
             ],
             [
              0.5555555555555556,
              "#d8576b"
             ],
             [
              0.6666666666666666,
              "#ed7953"
             ],
             [
              0.7777777777777778,
              "#fb9f3a"
             ],
             [
              0.8888888888888888,
              "#fdca26"
             ],
             [
              1,
              "#f0f921"
             ]
            ],
            "type": "contour"
           }
          ],
          "contourcarpet": [
           {
            "colorbar": {
             "outlinewidth": 0,
             "ticks": ""
            },
            "type": "contourcarpet"
           }
          ],
          "heatmap": [
           {
            "colorbar": {
             "outlinewidth": 0,
             "ticks": ""
            },
            "colorscale": [
             [
              0,
              "#0d0887"
             ],
             [
              0.1111111111111111,
              "#46039f"
             ],
             [
              0.2222222222222222,
              "#7201a8"
             ],
             [
              0.3333333333333333,
              "#9c179e"
             ],
             [
              0.4444444444444444,
              "#bd3786"
             ],
             [
              0.5555555555555556,
              "#d8576b"
             ],
             [
              0.6666666666666666,
              "#ed7953"
             ],
             [
              0.7777777777777778,
              "#fb9f3a"
             ],
             [
              0.8888888888888888,
              "#fdca26"
             ],
             [
              1,
              "#f0f921"
             ]
            ],
            "type": "heatmap"
           }
          ],
          "heatmapgl": [
           {
            "colorbar": {
             "outlinewidth": 0,
             "ticks": ""
            },
            "colorscale": [
             [
              0,
              "#0d0887"
             ],
             [
              0.1111111111111111,
              "#46039f"
             ],
             [
              0.2222222222222222,
              "#7201a8"
             ],
             [
              0.3333333333333333,
              "#9c179e"
             ],
             [
              0.4444444444444444,
              "#bd3786"
             ],
             [
              0.5555555555555556,
              "#d8576b"
             ],
             [
              0.6666666666666666,
              "#ed7953"
             ],
             [
              0.7777777777777778,
              "#fb9f3a"
             ],
             [
              0.8888888888888888,
              "#fdca26"
             ],
             [
              1,
              "#f0f921"
             ]
            ],
            "type": "heatmapgl"
           }
          ],
          "histogram": [
           {
            "marker": {
             "colorbar": {
              "outlinewidth": 0,
              "ticks": ""
             }
            },
            "type": "histogram"
           }
          ],
          "histogram2d": [
           {
            "colorbar": {
             "outlinewidth": 0,
             "ticks": ""
            },
            "colorscale": [
             [
              0,
              "#0d0887"
             ],
             [
              0.1111111111111111,
              "#46039f"
             ],
             [
              0.2222222222222222,
              "#7201a8"
             ],
             [
              0.3333333333333333,
              "#9c179e"
             ],
             [
              0.4444444444444444,
              "#bd3786"
             ],
             [
              0.5555555555555556,
              "#d8576b"
             ],
             [
              0.6666666666666666,
              "#ed7953"
             ],
             [
              0.7777777777777778,
              "#fb9f3a"
             ],
             [
              0.8888888888888888,
              "#fdca26"
             ],
             [
              1,
              "#f0f921"
             ]
            ],
            "type": "histogram2d"
           }
          ],
          "histogram2dcontour": [
           {
            "colorbar": {
             "outlinewidth": 0,
             "ticks": ""
            },
            "colorscale": [
             [
              0,
              "#0d0887"
             ],
             [
              0.1111111111111111,
              "#46039f"
             ],
             [
              0.2222222222222222,
              "#7201a8"
             ],
             [
              0.3333333333333333,
              "#9c179e"
             ],
             [
              0.4444444444444444,
              "#bd3786"
             ],
             [
              0.5555555555555556,
              "#d8576b"
             ],
             [
              0.6666666666666666,
              "#ed7953"
             ],
             [
              0.7777777777777778,
              "#fb9f3a"
             ],
             [
              0.8888888888888888,
              "#fdca26"
             ],
             [
              1,
              "#f0f921"
             ]
            ],
            "type": "histogram2dcontour"
           }
          ],
          "mesh3d": [
           {
            "colorbar": {
             "outlinewidth": 0,
             "ticks": ""
            },
            "type": "mesh3d"
           }
          ],
          "parcoords": [
           {
            "line": {
             "colorbar": {
              "outlinewidth": 0,
              "ticks": ""
             }
            },
            "type": "parcoords"
           }
          ],
          "pie": [
           {
            "automargin": true,
            "type": "pie"
           }
          ],
          "scatter": [
           {
            "marker": {
             "colorbar": {
              "outlinewidth": 0,
              "ticks": ""
             }
            },
            "type": "scatter"
           }
          ],
          "scatter3d": [
           {
            "line": {
             "colorbar": {
              "outlinewidth": 0,
              "ticks": ""
             }
            },
            "marker": {
             "colorbar": {
              "outlinewidth": 0,
              "ticks": ""
             }
            },
            "type": "scatter3d"
           }
          ],
          "scattercarpet": [
           {
            "marker": {
             "colorbar": {
              "outlinewidth": 0,
              "ticks": ""
             }
            },
            "type": "scattercarpet"
           }
          ],
          "scattergeo": [
           {
            "marker": {
             "colorbar": {
              "outlinewidth": 0,
              "ticks": ""
             }
            },
            "type": "scattergeo"
           }
          ],
          "scattergl": [
           {
            "marker": {
             "colorbar": {
              "outlinewidth": 0,
              "ticks": ""
             }
            },
            "type": "scattergl"
           }
          ],
          "scattermapbox": [
           {
            "marker": {
             "colorbar": {
              "outlinewidth": 0,
              "ticks": ""
             }
            },
            "type": "scattermapbox"
           }
          ],
          "scatterpolar": [
           {
            "marker": {
             "colorbar": {
              "outlinewidth": 0,
              "ticks": ""
             }
            },
            "type": "scatterpolar"
           }
          ],
          "scatterpolargl": [
           {
            "marker": {
             "colorbar": {
              "outlinewidth": 0,
              "ticks": ""
             }
            },
            "type": "scatterpolargl"
           }
          ],
          "scatterternary": [
           {
            "marker": {
             "colorbar": {
              "outlinewidth": 0,
              "ticks": ""
             }
            },
            "type": "scatterternary"
           }
          ],
          "surface": [
           {
            "colorbar": {
             "outlinewidth": 0,
             "ticks": ""
            },
            "colorscale": [
             [
              0,
              "#0d0887"
             ],
             [
              0.1111111111111111,
              "#46039f"
             ],
             [
              0.2222222222222222,
              "#7201a8"
             ],
             [
              0.3333333333333333,
              "#9c179e"
             ],
             [
              0.4444444444444444,
              "#bd3786"
             ],
             [
              0.5555555555555556,
              "#d8576b"
             ],
             [
              0.6666666666666666,
              "#ed7953"
             ],
             [
              0.7777777777777778,
              "#fb9f3a"
             ],
             [
              0.8888888888888888,
              "#fdca26"
             ],
             [
              1,
              "#f0f921"
             ]
            ],
            "type": "surface"
           }
          ],
          "table": [
           {
            "cells": {
             "fill": {
              "color": "#EBF0F8"
             },
             "line": {
              "color": "white"
             }
            },
            "header": {
             "fill": {
              "color": "#C8D4E3"
             },
             "line": {
              "color": "white"
             }
            },
            "type": "table"
           }
          ]
         },
         "layout": {
          "annotationdefaults": {
           "arrowcolor": "#2a3f5f",
           "arrowhead": 0,
           "arrowwidth": 1
          },
          "autotypenumbers": "strict",
          "coloraxis": {
           "colorbar": {
            "outlinewidth": 0,
            "ticks": ""
           }
          },
          "colorscale": {
           "diverging": [
            [
             0,
             "#8e0152"
            ],
            [
             0.1,
             "#c51b7d"
            ],
            [
             0.2,
             "#de77ae"
            ],
            [
             0.3,
             "#f1b6da"
            ],
            [
             0.4,
             "#fde0ef"
            ],
            [
             0.5,
             "#f7f7f7"
            ],
            [
             0.6,
             "#e6f5d0"
            ],
            [
             0.7,
             "#b8e186"
            ],
            [
             0.8,
             "#7fbc41"
            ],
            [
             0.9,
             "#4d9221"
            ],
            [
             1,
             "#276419"
            ]
           ],
           "sequential": [
            [
             0,
             "#0d0887"
            ],
            [
             0.1111111111111111,
             "#46039f"
            ],
            [
             0.2222222222222222,
             "#7201a8"
            ],
            [
             0.3333333333333333,
             "#9c179e"
            ],
            [
             0.4444444444444444,
             "#bd3786"
            ],
            [
             0.5555555555555556,
             "#d8576b"
            ],
            [
             0.6666666666666666,
             "#ed7953"
            ],
            [
             0.7777777777777778,
             "#fb9f3a"
            ],
            [
             0.8888888888888888,
             "#fdca26"
            ],
            [
             1,
             "#f0f921"
            ]
           ],
           "sequentialminus": [
            [
             0,
             "#0d0887"
            ],
            [
             0.1111111111111111,
             "#46039f"
            ],
            [
             0.2222222222222222,
             "#7201a8"
            ],
            [
             0.3333333333333333,
             "#9c179e"
            ],
            [
             0.4444444444444444,
             "#bd3786"
            ],
            [
             0.5555555555555556,
             "#d8576b"
            ],
            [
             0.6666666666666666,
             "#ed7953"
            ],
            [
             0.7777777777777778,
             "#fb9f3a"
            ],
            [
             0.8888888888888888,
             "#fdca26"
            ],
            [
             1,
             "#f0f921"
            ]
           ]
          },
          "colorway": [
           "#636efa",
           "#EF553B",
           "#00cc96",
           "#ab63fa",
           "#FFA15A",
           "#19d3f3",
           "#FF6692",
           "#B6E880",
           "#FF97FF",
           "#FECB52"
          ],
          "font": {
           "color": "#2a3f5f"
          },
          "geo": {
           "bgcolor": "white",
           "lakecolor": "white",
           "landcolor": "#E5ECF6",
           "showlakes": true,
           "showland": true,
           "subunitcolor": "white"
          },
          "hoverlabel": {
           "align": "left"
          },
          "hovermode": "closest",
          "mapbox": {
           "style": "light"
          },
          "paper_bgcolor": "white",
          "plot_bgcolor": "#E5ECF6",
          "polar": {
           "angularaxis": {
            "gridcolor": "white",
            "linecolor": "white",
            "ticks": ""
           },
           "bgcolor": "#E5ECF6",
           "radialaxis": {
            "gridcolor": "white",
            "linecolor": "white",
            "ticks": ""
           }
          },
          "scene": {
           "xaxis": {
            "backgroundcolor": "#E5ECF6",
            "gridcolor": "white",
            "gridwidth": 2,
            "linecolor": "white",
            "showbackground": true,
            "ticks": "",
            "zerolinecolor": "white"
           },
           "yaxis": {
            "backgroundcolor": "#E5ECF6",
            "gridcolor": "white",
            "gridwidth": 2,
            "linecolor": "white",
            "showbackground": true,
            "ticks": "",
            "zerolinecolor": "white"
           },
           "zaxis": {
            "backgroundcolor": "#E5ECF6",
            "gridcolor": "white",
            "gridwidth": 2,
            "linecolor": "white",
            "showbackground": true,
            "ticks": "",
            "zerolinecolor": "white"
           }
          },
          "shapedefaults": {
           "line": {
            "color": "#2a3f5f"
           }
          },
          "ternary": {
           "aaxis": {
            "gridcolor": "white",
            "linecolor": "white",
            "ticks": ""
           },
           "baxis": {
            "gridcolor": "white",
            "linecolor": "white",
            "ticks": ""
           },
           "bgcolor": "#E5ECF6",
           "caxis": {
            "gridcolor": "white",
            "linecolor": "white",
            "ticks": ""
           }
          },
          "title": {
           "x": 0.05
          },
          "xaxis": {
           "automargin": true,
           "gridcolor": "white",
           "linecolor": "white",
           "ticks": "",
           "title": {
            "standoff": 15
           },
           "zerolinecolor": "white",
           "zerolinewidth": 2
          },
          "yaxis": {
           "automargin": true,
           "gridcolor": "white",
           "linecolor": "white",
           "ticks": "",
           "title": {
            "standoff": 15
           },
           "zerolinecolor": "white",
           "zerolinewidth": 2
          }
         }
        },
        "title": {
         "x": 0.5
        },
        "width": 1000,
        "xaxis": {
         "anchor": "y",
         "domain": [
          0,
          1
         ],
         "matches": "x2",
         "rangeslider": {
          "visible": false
         },
         "showticklabels": false
        },
        "xaxis2": {
         "anchor": "y2",
         "domain": [
          0,
          1
         ]
        },
        "yaxis": {
         "anchor": "x",
         "domain": [
          0.5,
          1
         ]
        },
        "yaxis2": {
         "anchor": "x2",
         "domain": [
          0,
          0.46
         ]
        }
       }
      },
      "text/html": [
       "<div>                            <div id=\"774fd798-87e2-45c1-917c-94ef99a5d153\" class=\"plotly-graph-div\" style=\"height:800px; width:1000px;\"></div>            <script type=\"text/javascript\">                require([\"plotly\"], function(Plotly) {                    window.PLOTLYENV=window.PLOTLYENV || {};                                    if (document.getElementById(\"774fd798-87e2-45c1-917c-94ef99a5d153\")) {                    Plotly.newPlot(                        \"774fd798-87e2-45c1-917c-94ef99a5d153\",                        [{\"mode\": \"markers+lines\", \"name\": \"close\", \"type\": \"scatter\", \"x\": [\"2020-12-01\", \"2020-12-02\", \"2020-12-03\", \"2020-12-04\", \"2020-12-07\", \"2020-12-08\", \"2020-12-09\", \"2020-12-10\", \"2020-12-11\", \"2020-12-14\", \"2020-12-15\", \"2020-12-16\", \"2020-12-17\", \"2020-12-18\", \"2020-12-21\", \"2020-12-22\", \"2020-12-23\", \"2020-12-24\", \"2020-12-25\", \"2020-12-28\", \"2020-12-29\", \"2020-12-30\", \"2020-12-31\", \"2021-01-04\", \"2021-01-05\", \"2021-01-06\", \"2021-01-07\", \"2021-01-08\", \"2021-01-11\", \"2021-01-12\", \"2021-01-13\", \"2021-01-14\", \"2021-01-15\", \"2021-01-18\", \"2021-01-19\", \"2021-01-20\", \"2021-01-21\", \"2021-01-22\", \"2021-01-25\", \"2021-01-26\", \"2021-01-27\", \"2021-01-28\", \"2021-01-29\", \"2021-02-01\", \"2021-02-02\", \"2021-02-03\", \"2021-02-04\", \"2021-02-05\", \"2021-02-08\", \"2021-02-09\", \"2021-02-10\"], \"xaxis\": \"x\", \"y\": [24.11, 24.32, 24.33, 24.36, 24.07, 24.5, 24.03, 23.7, 23.48, 23.53, 23.83, 23.75, 23.91, 23.94, 24.45, 23.51, 23.38, 23.31, 23.41, 23.66, 23.4, 23.44, 23.62, 24.17, 24.73, 24.36, 24.64, 24.26, 23.39, 23.5, 23.34, 22.78, 22.88, 23.07, 23.14, 23.02, 23.06, 22.58, 22.04, 23.01, 22.23, 22.06, 22.21, 22.83, 22.3, 22.06, 21.25, 20.81, 21.18, 21.39, 21.73], \"yaxis\": \"y\"}, {\"mode\": \"markers+lines\", \"name\": \"K\", \"type\": \"scatter\", \"x\": [\"2020-12-01\", \"2020-12-02\", \"2020-12-03\", \"2020-12-04\", \"2020-12-07\", \"2020-12-08\", \"2020-12-09\", \"2020-12-10\", \"2020-12-11\", \"2020-12-14\", \"2020-12-15\", \"2020-12-16\", \"2020-12-17\", \"2020-12-18\", \"2020-12-21\", \"2020-12-22\", \"2020-12-23\", \"2020-12-24\", \"2020-12-25\", \"2020-12-28\", \"2020-12-29\", \"2020-12-30\", \"2020-12-31\", \"2021-01-04\", \"2021-01-05\", \"2021-01-06\", \"2021-01-07\", \"2021-01-08\", \"2021-01-11\", \"2021-01-12\", \"2021-01-13\", \"2021-01-14\", \"2021-01-15\", \"2021-01-18\", \"2021-01-19\", \"2021-01-20\", \"2021-01-21\", \"2021-01-22\", \"2021-01-25\", \"2021-01-26\", \"2021-01-27\", \"2021-01-28\", \"2021-01-29\", \"2021-02-01\", \"2021-02-02\", \"2021-02-03\", \"2021-02-04\", \"2021-02-05\", \"2021-02-08\", \"2021-02-09\", \"2021-02-10\"], \"xaxis\": \"x2\", \"y\": [97.56097560975572, 77.95471343143167, 71.89071091510101, 69.88389217315817, 60.543481180008264, 65.36842982018574, 57.728822789757004, 46.98477758592253, 39.26224008951109, 36.616054114338695, 38.21849984911208, 38.529162362817395, 40.63807587276978, 42.67337469232183, 50.070815848167015, 45.59766036950564, 40.51141265692172, 35.57844248267339, 32.6150159893118, 32.882355829377445, 30.29940482939934, 28.59414245434788, 29.110508157064935, 35.413998495855104, 45.215182458919415, 49.6642334825304, 56.07708941623227, 57.72355478749272, 50.668452988158904, 45.864358838686464, 40.32029654704419, 34.12730085219297, 29.752740100612566, 29.1495711604617, 29.13222045126043, 28.286722527877377, 27.859456619541803, 24.180797810526897, 20.265253612869568, 24.033132067907676, 23.132689584443987, 21.502143790425016, 20.920294456349726, 23.64565306701311, 23.172490415671046, 21.53570860511626, 18.655096722381813, 15.789362917419815, 14.905653383343207, 15.15644811302892, 17.03306099351698], \"yaxis\": \"y2\"}, {\"mode\": \"markers+lines\", \"name\": \"D\", \"type\": \"scatter\", \"x\": [\"2020-12-01\", \"2020-12-02\", \"2020-12-03\", \"2020-12-04\", \"2020-12-07\", \"2020-12-08\", \"2020-12-09\", \"2020-12-10\", \"2020-12-11\", \"2020-12-14\", \"2020-12-15\", \"2020-12-16\", \"2020-12-17\", \"2020-12-18\", \"2020-12-21\", \"2020-12-22\", \"2020-12-23\", \"2020-12-24\", \"2020-12-25\", \"2020-12-28\", \"2020-12-29\", \"2020-12-30\", \"2020-12-31\", \"2021-01-04\", \"2021-01-05\", \"2021-01-06\", \"2021-01-07\", \"2021-01-08\", \"2021-01-11\", \"2021-01-12\", \"2021-01-13\", \"2021-01-14\", \"2021-01-15\", \"2021-01-18\", \"2021-01-19\", \"2021-01-20\", \"2021-01-21\", \"2021-01-22\", \"2021-01-25\", \"2021-01-26\", \"2021-01-27\", \"2021-01-28\", \"2021-01-29\", \"2021-02-01\", \"2021-02-02\", \"2021-02-03\", \"2021-02-04\", \"2021-02-05\", \"2021-02-08\", \"2021-02-09\", \"2021-02-10\"], \"xaxis\": \"x2\", \"y\": [97.56097560975572, 85.7972183027613, 79.20992532965906, 75.33603463388177, 69.65737667291612, 68.0901374470312, 64.42165838673354, 58.373369994763095, 51.832859676659794, 46.671077963895186, 43.82059746372198, 42.043085865394616, 41.572330350566055, 41.940606656995314, 44.656879426132946, 44.970951229035244, 43.4829280888481, 40.84631551728502, 38.101310755555815, 36.36113579301202, 34.34015362696891, 32.424560536653985, 31.319777968707697, 32.68459921916237, 36.861625718219635, 41.129274311633914, 46.11196704660478, 49.982541710750674, 50.21118059178033, 48.76223245101343, 45.94824403287897, 42.0079205063562, 37.92285405880912, 34.998423413447135, 33.04302108315655, 31.457587505520348, 30.258210177444763, 28.232405642918206, 25.57668793930305, 25.062169268972692, 24.419009335352513, 23.446720781295987, 22.604578650414222, 22.95160346214652, 23.025232447531575, 22.5287244961177, 21.237515231371226, 19.42146445364572, 17.91619409333708, 16.996278765124963, 17.008539507935122], \"yaxis\": \"y2\"}, {\"mode\": \"markers+lines\", \"name\": \"J\", \"type\": \"scatter\", \"x\": [\"2020-12-01\", \"2020-12-02\", \"2020-12-03\", \"2020-12-04\", \"2020-12-07\", \"2020-12-08\", \"2020-12-09\", \"2020-12-10\", \"2020-12-11\", \"2020-12-14\", \"2020-12-15\", \"2020-12-16\", \"2020-12-17\", \"2020-12-18\", \"2020-12-21\", \"2020-12-22\", \"2020-12-23\", \"2020-12-24\", \"2020-12-25\", \"2020-12-28\", \"2020-12-29\", \"2020-12-30\", \"2020-12-31\", \"2021-01-04\", \"2021-01-05\", \"2021-01-06\", \"2021-01-07\", \"2021-01-08\", \"2021-01-11\", \"2021-01-12\", \"2021-01-13\", \"2021-01-14\", \"2021-01-15\", \"2021-01-18\", \"2021-01-19\", \"2021-01-20\", \"2021-01-21\", \"2021-01-22\", \"2021-01-25\", \"2021-01-26\", \"2021-01-27\", \"2021-01-28\", \"2021-01-29\", \"2021-02-01\", \"2021-02-02\", \"2021-02-03\", \"2021-02-04\", \"2021-02-05\", \"2021-02-08\", \"2021-02-09\", \"2021-02-10\"], \"xaxis\": \"x2\", \"y\": [97.56097560975573, 62.26970368877241, 57.252282085984916, 58.97960725171097, 42.31569019419257, 59.92501456649484, 44.34315159580393, 24.207592768241398, 14.12100091521367, 16.506006415225713, 27.014304619892272, 31.501315357662946, 38.769566917177244, 44.13891076297486, 60.89868869223517, 46.85107865044644, 34.568381793068966, 25.04269641345013, 21.64242645682377, 25.9247959021083, 22.217907234260196, 20.93330628973567, 24.691968533779402, 40.87279704924056, 61.92229594031899, 66.73415182432338, 76.00733415548724, 73.20558094097682, 51.582997780916074, 40.068611614032534, 29.064401575374617, 18.366061543866493, 13.412512184219452, 17.45186665449083, 21.31061918746819, 21.94499257259144, 23.06194950373588, 16.07758214574428, 9.642384960002602, 21.975057665777648, 20.56005008262693, 17.612989808683082, 17.551726068220738, 25.03375227674629, 23.467006351949983, 19.54967682311338, 13.490259704402987, 8.525159844968009, 8.884571963355462, 11.476786808836835, 17.08210396468069], \"yaxis\": \"y2\"}],                        {\"annotations\": [{\"font\": {\"size\": 16}, \"showarrow\": false, \"text\": \"y\\u8f74\\u6807\\u9898\", \"textangle\": -90, \"x\": 0, \"xanchor\": \"right\", \"xref\": \"paper\", \"xshift\": -40, \"y\": 0.5, \"yanchor\": \"middle\", \"yref\": \"paper\"}], \"coloraxis\": {\"colorbar\": {\"ticks\": \"outside\", \"x\": 0.75, \"xanchor\": \"left\"}}, \"font\": {\"color\": \"RebeccaPurple\", \"family\": \"Times New Roman\", \"size\": 20}, \"height\": 800, \"margin\": {\"b\": 0, \"l\": 20, \"r\": 0, \"t\": 0}, \"template\": {\"data\": {\"bar\": [{\"error_x\": {\"color\": \"#2a3f5f\"}, \"error_y\": {\"color\": \"#2a3f5f\"}, \"marker\": {\"line\": {\"color\": \"#E5ECF6\", \"width\": 0.5}}, \"type\": \"bar\"}], \"barpolar\": [{\"marker\": {\"line\": {\"color\": \"#E5ECF6\", \"width\": 0.5}}, \"type\": \"barpolar\"}], \"carpet\": [{\"aaxis\": {\"endlinecolor\": \"#2a3f5f\", \"gridcolor\": \"white\", \"linecolor\": \"white\", \"minorgridcolor\": \"white\", \"startlinecolor\": \"#2a3f5f\"}, \"baxis\": {\"endlinecolor\": \"#2a3f5f\", \"gridcolor\": \"white\", \"linecolor\": \"white\", \"minorgridcolor\": \"white\", \"startlinecolor\": \"#2a3f5f\"}, \"type\": \"carpet\"}], \"choropleth\": [{\"colorbar\": {\"outlinewidth\": 0, \"ticks\": \"\"}, \"type\": \"choropleth\"}], \"contour\": [{\"colorbar\": {\"outlinewidth\": 0, \"ticks\": \"\"}, \"colorscale\": [[0.0, \"#0d0887\"], [0.1111111111111111, \"#46039f\"], [0.2222222222222222, \"#7201a8\"], [0.3333333333333333, \"#9c179e\"], [0.4444444444444444, \"#bd3786\"], [0.5555555555555556, \"#d8576b\"], [0.6666666666666666, \"#ed7953\"], [0.7777777777777778, \"#fb9f3a\"], [0.8888888888888888, \"#fdca26\"], [1.0, \"#f0f921\"]], \"type\": \"contour\"}], \"contourcarpet\": [{\"colorbar\": {\"outlinewidth\": 0, \"ticks\": \"\"}, \"type\": \"contourcarpet\"}], \"heatmap\": [{\"colorbar\": {\"outlinewidth\": 0, \"ticks\": \"\"}, \"colorscale\": [[0.0, \"#0d0887\"], [0.1111111111111111, \"#46039f\"], [0.2222222222222222, \"#7201a8\"], [0.3333333333333333, \"#9c179e\"], [0.4444444444444444, \"#bd3786\"], [0.5555555555555556, \"#d8576b\"], [0.6666666666666666, \"#ed7953\"], [0.7777777777777778, \"#fb9f3a\"], [0.8888888888888888, \"#fdca26\"], [1.0, \"#f0f921\"]], \"type\": \"heatmap\"}], \"heatmapgl\": [{\"colorbar\": {\"outlinewidth\": 0, \"ticks\": \"\"}, \"colorscale\": [[0.0, \"#0d0887\"], [0.1111111111111111, \"#46039f\"], [0.2222222222222222, \"#7201a8\"], [0.3333333333333333, \"#9c179e\"], [0.4444444444444444, \"#bd3786\"], [0.5555555555555556, \"#d8576b\"], [0.6666666666666666, \"#ed7953\"], [0.7777777777777778, \"#fb9f3a\"], [0.8888888888888888, \"#fdca26\"], [1.0, \"#f0f921\"]], \"type\": \"heatmapgl\"}], \"histogram\": [{\"marker\": {\"colorbar\": {\"outlinewidth\": 0, \"ticks\": \"\"}}, \"type\": \"histogram\"}], \"histogram2d\": [{\"colorbar\": {\"outlinewidth\": 0, \"ticks\": \"\"}, \"colorscale\": [[0.0, \"#0d0887\"], [0.1111111111111111, \"#46039f\"], [0.2222222222222222, \"#7201a8\"], [0.3333333333333333, \"#9c179e\"], [0.4444444444444444, \"#bd3786\"], [0.5555555555555556, \"#d8576b\"], [0.6666666666666666, \"#ed7953\"], [0.7777777777777778, \"#fb9f3a\"], [0.8888888888888888, \"#fdca26\"], [1.0, \"#f0f921\"]], \"type\": \"histogram2d\"}], \"histogram2dcontour\": [{\"colorbar\": {\"outlinewidth\": 0, \"ticks\": \"\"}, \"colorscale\": [[0.0, \"#0d0887\"], [0.1111111111111111, \"#46039f\"], [0.2222222222222222, \"#7201a8\"], [0.3333333333333333, \"#9c179e\"], [0.4444444444444444, \"#bd3786\"], [0.5555555555555556, \"#d8576b\"], [0.6666666666666666, \"#ed7953\"], [0.7777777777777778, \"#fb9f3a\"], [0.8888888888888888, \"#fdca26\"], [1.0, \"#f0f921\"]], \"type\": \"histogram2dcontour\"}], \"mesh3d\": [{\"colorbar\": {\"outlinewidth\": 0, \"ticks\": \"\"}, \"type\": \"mesh3d\"}], \"parcoords\": [{\"line\": {\"colorbar\": {\"outlinewidth\": 0, \"ticks\": \"\"}}, \"type\": \"parcoords\"}], \"pie\": [{\"automargin\": true, \"type\": \"pie\"}], \"scatter\": [{\"marker\": {\"colorbar\": {\"outlinewidth\": 0, \"ticks\": \"\"}}, \"type\": \"scatter\"}], \"scatter3d\": [{\"line\": {\"colorbar\": {\"outlinewidth\": 0, \"ticks\": \"\"}}, \"marker\": {\"colorbar\": {\"outlinewidth\": 0, \"ticks\": \"\"}}, \"type\": \"scatter3d\"}], \"scattercarpet\": [{\"marker\": {\"colorbar\": {\"outlinewidth\": 0, \"ticks\": \"\"}}, \"type\": \"scattercarpet\"}], \"scattergeo\": [{\"marker\": {\"colorbar\": {\"outlinewidth\": 0, \"ticks\": \"\"}}, \"type\": \"scattergeo\"}], \"scattergl\": [{\"marker\": {\"colorbar\": {\"outlinewidth\": 0, \"ticks\": \"\"}}, \"type\": \"scattergl\"}], \"scattermapbox\": [{\"marker\": {\"colorbar\": {\"outlinewidth\": 0, \"ticks\": \"\"}}, \"type\": \"scattermapbox\"}], \"scatterpolar\": [{\"marker\": {\"colorbar\": {\"outlinewidth\": 0, \"ticks\": \"\"}}, \"type\": \"scatterpolar\"}], \"scatterpolargl\": [{\"marker\": {\"colorbar\": {\"outlinewidth\": 0, \"ticks\": \"\"}}, \"type\": \"scatterpolargl\"}], \"scatterternary\": [{\"marker\": {\"colorbar\": {\"outlinewidth\": 0, \"ticks\": \"\"}}, \"type\": \"scatterternary\"}], \"surface\": [{\"colorbar\": {\"outlinewidth\": 0, \"ticks\": \"\"}, \"colorscale\": [[0.0, \"#0d0887\"], [0.1111111111111111, \"#46039f\"], [0.2222222222222222, \"#7201a8\"], [0.3333333333333333, \"#9c179e\"], [0.4444444444444444, \"#bd3786\"], [0.5555555555555556, \"#d8576b\"], [0.6666666666666666, \"#ed7953\"], [0.7777777777777778, \"#fb9f3a\"], [0.8888888888888888, \"#fdca26\"], [1.0, \"#f0f921\"]], \"type\": \"surface\"}], \"table\": [{\"cells\": {\"fill\": {\"color\": \"#EBF0F8\"}, \"line\": {\"color\": \"white\"}}, \"header\": {\"fill\": {\"color\": \"#C8D4E3\"}, \"line\": {\"color\": \"white\"}}, \"type\": \"table\"}]}, \"layout\": {\"annotationdefaults\": {\"arrowcolor\": \"#2a3f5f\", \"arrowhead\": 0, \"arrowwidth\": 1}, \"autotypenumbers\": \"strict\", \"coloraxis\": {\"colorbar\": {\"outlinewidth\": 0, \"ticks\": \"\"}}, \"colorscale\": {\"diverging\": [[0, \"#8e0152\"], [0.1, \"#c51b7d\"], [0.2, \"#de77ae\"], [0.3, \"#f1b6da\"], [0.4, \"#fde0ef\"], [0.5, \"#f7f7f7\"], [0.6, \"#e6f5d0\"], [0.7, \"#b8e186\"], [0.8, \"#7fbc41\"], [0.9, \"#4d9221\"], [1, \"#276419\"]], \"sequential\": [[0.0, \"#0d0887\"], [0.1111111111111111, \"#46039f\"], [0.2222222222222222, \"#7201a8\"], [0.3333333333333333, \"#9c179e\"], [0.4444444444444444, \"#bd3786\"], [0.5555555555555556, \"#d8576b\"], [0.6666666666666666, \"#ed7953\"], [0.7777777777777778, \"#fb9f3a\"], [0.8888888888888888, \"#fdca26\"], [1.0, \"#f0f921\"]], \"sequentialminus\": [[0.0, \"#0d0887\"], [0.1111111111111111, \"#46039f\"], [0.2222222222222222, \"#7201a8\"], [0.3333333333333333, \"#9c179e\"], [0.4444444444444444, \"#bd3786\"], [0.5555555555555556, \"#d8576b\"], [0.6666666666666666, \"#ed7953\"], [0.7777777777777778, \"#fb9f3a\"], [0.8888888888888888, \"#fdca26\"], [1.0, \"#f0f921\"]]}, \"colorway\": [\"#636efa\", \"#EF553B\", \"#00cc96\", \"#ab63fa\", \"#FFA15A\", \"#19d3f3\", \"#FF6692\", \"#B6E880\", \"#FF97FF\", \"#FECB52\"], \"font\": {\"color\": \"#2a3f5f\"}, \"geo\": {\"bgcolor\": \"white\", \"lakecolor\": \"white\", \"landcolor\": \"#E5ECF6\", \"showlakes\": true, \"showland\": true, \"subunitcolor\": \"white\"}, \"hoverlabel\": {\"align\": \"left\"}, \"hovermode\": \"closest\", \"mapbox\": {\"style\": \"light\"}, \"paper_bgcolor\": \"white\", \"plot_bgcolor\": \"#E5ECF6\", \"polar\": {\"angularaxis\": {\"gridcolor\": \"white\", \"linecolor\": \"white\", \"ticks\": \"\"}, \"bgcolor\": \"#E5ECF6\", \"radialaxis\": {\"gridcolor\": \"white\", \"linecolor\": \"white\", \"ticks\": \"\"}}, \"scene\": {\"xaxis\": {\"backgroundcolor\": \"#E5ECF6\", \"gridcolor\": \"white\", \"gridwidth\": 2, \"linecolor\": \"white\", \"showbackground\": true, \"ticks\": \"\", \"zerolinecolor\": \"white\"}, \"yaxis\": {\"backgroundcolor\": \"#E5ECF6\", \"gridcolor\": \"white\", \"gridwidth\": 2, \"linecolor\": \"white\", \"showbackground\": true, \"ticks\": \"\", \"zerolinecolor\": \"white\"}, \"zaxis\": {\"backgroundcolor\": \"#E5ECF6\", \"gridcolor\": \"white\", \"gridwidth\": 2, \"linecolor\": \"white\", \"showbackground\": true, \"ticks\": \"\", \"zerolinecolor\": \"white\"}}, \"shapedefaults\": {\"line\": {\"color\": \"#2a3f5f\"}}, \"ternary\": {\"aaxis\": {\"gridcolor\": \"white\", \"linecolor\": \"white\", \"ticks\": \"\"}, \"baxis\": {\"gridcolor\": \"white\", \"linecolor\": \"white\", \"ticks\": \"\"}, \"bgcolor\": \"#E5ECF6\", \"caxis\": {\"gridcolor\": \"white\", \"linecolor\": \"white\", \"ticks\": \"\"}}, \"title\": {\"x\": 0.05}, \"xaxis\": {\"automargin\": true, \"gridcolor\": \"white\", \"linecolor\": \"white\", \"ticks\": \"\", \"title\": {\"standoff\": 15}, \"zerolinecolor\": \"white\", \"zerolinewidth\": 2}, \"yaxis\": {\"automargin\": true, \"gridcolor\": \"white\", \"linecolor\": \"white\", \"ticks\": \"\", \"title\": {\"standoff\": 15}, \"zerolinecolor\": \"white\", \"zerolinewidth\": 2}}}, \"title\": {\"x\": 0.5}, \"width\": 1000, \"xaxis\": {\"anchor\": \"y\", \"domain\": [0.0, 1.0], \"matches\": \"x2\", \"rangeslider\": {\"visible\": false}, \"showticklabels\": false}, \"xaxis2\": {\"anchor\": \"y2\", \"domain\": [0.0, 1.0]}, \"yaxis\": {\"anchor\": \"x\", \"domain\": [0.5, 1]}, \"yaxis2\": {\"anchor\": \"x2\", \"domain\": [0, 0.46]}},                        {\"responsive\": true}                    ).then(function(){\n",
       "                            \n",
       "var gd = document.getElementById('774fd798-87e2-45c1-917c-94ef99a5d153');\n",
       "var x = new MutationObserver(function (mutations, observer) {{\n",
       "        var display = window.getComputedStyle(gd).display;\n",
       "        if (!display || display === 'none') {{\n",
       "            console.log([gd, 'removed!']);\n",
       "            Plotly.purge(gd);\n",
       "            observer.disconnect();\n",
       "        }}\n",
       "}});\n",
       "\n",
       "// Listen for the removal of the full notebook cells\n",
       "var notebookContainer = gd.closest('#notebook-container');\n",
       "if (notebookContainer) {{\n",
       "    x.observe(notebookContainer, {childList: true});\n",
       "}}\n",
       "\n",
       "// Listen for the clearing of the current output cell\n",
       "var outputEl = gd.closest('.output');\n",
       "if (outputEl) {{\n",
       "    x.observe(outputEl, {childList: true});\n",
       "}}\n",
       "\n",
       "                        })                };                });            </script>        </div>"
      ]
     },
     "metadata": {},
     "output_type": "display_data"
    }
   ],
   "source": [
    "stock_index=\"600547\"\n",
    "start_date = \"2020-12-01\"\n",
    "file_name=os.path.join(\"/home/davidyu/stock/data/history_data/dfcf_fuquan/stock_index\",stock_index+\"_fuquan.csv\")\n",
    "df1 = pd.read_csv(file_name)\n",
    "df2 = df1[df1[\"dt\"]>=start_date]\n",
    "df = df2.copy()\n",
    "kdj_day = 24\n",
    "k_stat = 6\n",
    "d_stat = 3\n",
    "j_stat = 2\n",
    "df = new_kdj(df,kdj_day,k_stat,d_stat)  # 卖点\n",
    "plot_new_kdj(df2)"
   ]
  },
  {
   "cell_type": "code",
   "execution_count": 75,
   "metadata": {},
   "outputs": [
    {
     "data": {
      "application/vnd.plotly.v1+json": {
       "config": {
        "plotlyServerURL": "https://plot.ly"
       },
       "data": [
        {
         "mode": "markers+lines",
         "name": "close",
         "type": "scatter",
         "x": [
          "2020-05-06",
          "2020-05-07",
          "2020-05-08",
          "2020-05-11",
          "2020-05-12",
          "2020-05-13",
          "2020-05-14",
          "2020-05-15",
          "2020-05-18",
          "2020-05-19",
          "2020-05-20",
          "2020-05-21",
          "2020-05-22",
          "2020-05-25",
          "2020-05-26",
          "2020-05-27",
          "2020-05-28",
          "2020-05-29",
          "2020-06-01",
          "2020-06-02",
          "2020-06-03",
          "2020-06-04",
          "2020-06-05",
          "2020-06-08",
          "2020-06-09",
          "2020-06-10",
          "2020-06-11",
          "2020-06-12",
          "2020-06-15",
          "2020-06-16",
          "2020-06-17",
          "2020-06-18",
          "2020-06-19",
          "2020-06-22",
          "2020-06-23",
          "2020-06-24",
          "2020-06-29",
          "2020-06-30",
          "2020-07-01",
          "2020-07-02",
          "2020-07-03",
          "2020-07-06",
          "2020-07-07",
          "2020-07-08",
          "2020-07-09",
          "2020-07-10",
          "2020-07-13",
          "2020-07-14",
          "2020-07-15",
          "2020-07-16",
          "2020-07-17",
          "2020-07-20",
          "2020-07-21",
          "2020-07-22",
          "2020-07-23",
          "2020-07-24",
          "2020-07-27",
          "2020-07-28",
          "2020-07-29",
          "2020-07-30",
          "2020-07-31",
          "2020-08-03",
          "2020-08-04",
          "2020-08-05",
          "2020-08-06",
          "2020-08-07",
          "2020-08-10",
          "2020-08-11",
          "2020-08-12",
          "2020-08-13",
          "2020-08-14",
          "2020-08-17",
          "2020-08-18",
          "2020-08-19",
          "2020-08-20",
          "2020-08-21",
          "2020-08-24",
          "2020-08-25",
          "2020-08-26",
          "2020-08-27",
          "2020-08-28",
          "2020-08-31",
          "2020-09-01",
          "2020-09-02",
          "2020-09-03",
          "2020-09-04",
          "2020-09-07",
          "2020-09-08",
          "2020-09-09",
          "2020-09-10",
          "2020-09-11",
          "2020-09-14",
          "2020-09-15",
          "2020-09-16",
          "2020-09-17",
          "2020-09-18",
          "2020-09-21",
          "2020-09-22",
          "2020-09-23",
          "2020-09-24",
          "2020-09-25",
          "2020-09-28",
          "2020-09-29",
          "2020-09-30",
          "2020-10-09",
          "2020-10-12",
          "2020-10-13",
          "2020-10-14",
          "2020-10-15",
          "2020-10-16",
          "2020-10-19",
          "2020-10-20",
          "2020-10-21",
          "2020-10-22",
          "2020-10-23",
          "2020-10-26",
          "2020-10-27",
          "2020-10-28",
          "2020-10-29",
          "2020-10-30",
          "2020-11-02",
          "2020-11-03",
          "2020-11-04",
          "2020-11-05",
          "2020-11-06",
          "2020-11-09",
          "2020-11-10",
          "2020-11-11",
          "2020-11-12",
          "2020-11-13",
          "2020-11-16",
          "2020-11-17",
          "2020-11-18",
          "2020-11-19",
          "2020-11-20",
          "2020-11-23",
          "2020-11-24",
          "2020-11-25",
          "2020-11-26",
          "2020-11-27",
          "2020-11-30",
          "2020-12-01",
          "2020-12-02",
          "2020-12-03",
          "2020-12-04",
          "2020-12-07",
          "2020-12-08",
          "2020-12-09",
          "2020-12-10",
          "2020-12-11",
          "2020-12-14",
          "2020-12-15",
          "2020-12-16",
          "2020-12-17",
          "2020-12-18",
          "2020-12-21",
          "2020-12-22",
          "2020-12-23",
          "2020-12-24",
          "2020-12-25",
          "2020-12-28",
          "2020-12-29",
          "2020-12-30",
          "2020-12-31",
          "2021-01-04",
          "2021-01-05",
          "2021-01-06",
          "2021-01-07",
          "2021-01-08",
          "2021-01-11",
          "2021-01-12",
          "2021-01-13",
          "2021-01-14",
          "2021-01-15",
          "2021-01-18",
          "2021-01-19",
          "2021-01-20",
          "2021-01-21",
          "2021-01-22",
          "2021-01-25",
          "2021-01-26",
          "2021-01-27",
          "2021-01-28",
          "2021-01-29",
          "2021-02-01",
          "2021-02-02",
          "2021-02-03",
          "2021-02-04",
          "2021-02-05",
          "2021-02-08",
          "2021-02-09",
          "2021-02-10"
         ],
         "xaxis": "x",
         "y": [
          6.38,
          6.38,
          6.41,
          6.37,
          6.28,
          6.29,
          6.35,
          6.32,
          6.21,
          6.29,
          6.1,
          6.28,
          6.17,
          6.17,
          6.2,
          6.11,
          6.16,
          6.45,
          6.51,
          6.47,
          6.38,
          6.33,
          6.42,
          6.33,
          6.39,
          6.34,
          6.25,
          6.21,
          6.27,
          6.32,
          6.42,
          6.38,
          6.38,
          6.33,
          6.29,
          6.46,
          6.26,
          6.31,
          6.28,
          6.38,
          6.49,
          6.81,
          6.82,
          6.99,
          7.02,
          7.55,
          7.55,
          7.94,
          7.28,
          6.98,
          7.02,
          7.26,
          7.2,
          7.16,
          7.06,
          6.67,
          6.68,
          6.67,
          6.89,
          7.05,
          7.2,
          7.28,
          7.2,
          7.12,
          7.18,
          6.93,
          7.27,
          6.97,
          7.13,
          6.89,
          6.91,
          6.98,
          7.01,
          6.85,
          6.8,
          6.82,
          6.73,
          6.65,
          6.55,
          6.76,
          6.68,
          6.66,
          6.73,
          6.71,
          6.63,
          6.57,
          6.51,
          6.53,
          6.4,
          6.27,
          6.3,
          6.31,
          6.35,
          6.26,
          6.34,
          6.42,
          6.38,
          6.27,
          6.27,
          6.15,
          6.14,
          6.11,
          6.11,
          6.09,
          6.16,
          6.37,
          6.33,
          6.26,
          5.69,
          5.64,
          5.62,
          5.57,
          5.53,
          5.51,
          5.43,
          5.31,
          5.28,
          5.19,
          5.26,
          5.14,
          5.18,
          5.28,
          5.23,
          5.34,
          5.31,
          5.4,
          5.37,
          5.27,
          5.26,
          5.27,
          5.33,
          5.3,
          5.32,
          5.31,
          5.36,
          5.37,
          5.41,
          5.67,
          5.64,
          5.61,
          5.68,
          5.69,
          5.61,
          5.53,
          5.56,
          5.47,
          5.42,
          5.28,
          5.31,
          5.2,
          5.19,
          5.26,
          5.14,
          5.17,
          5.14,
          5.18,
          5.1,
          5.08,
          4.81,
          4.85,
          4.78,
          4.83,
          4.82,
          4.85,
          4.88,
          4.8,
          4.61,
          4.4,
          4.48,
          4.44,
          4.36,
          4.13,
          4.27,
          4.39,
          4.39,
          4.56,
          4.45,
          4.46,
          4.36,
          4.22,
          4.18,
          4.25,
          4.34,
          4.26,
          4.13,
          4.17,
          4.04,
          3.91,
          3.95,
          3.99,
          4,
          4.05
         ],
         "yaxis": "y"
        },
        {
         "name": "macd_close",
         "type": "bar",
         "x": [
          "2020-05-06",
          "2020-05-07",
          "2020-05-08",
          "2020-05-11",
          "2020-05-12",
          "2020-05-13",
          "2020-05-14",
          "2020-05-15",
          "2020-05-18",
          "2020-05-19",
          "2020-05-20",
          "2020-05-21",
          "2020-05-22",
          "2020-05-25",
          "2020-05-26",
          "2020-05-27",
          "2020-05-28",
          "2020-05-29",
          "2020-06-01",
          "2020-06-02",
          "2020-06-03",
          "2020-06-04",
          "2020-06-05",
          "2020-06-08",
          "2020-06-09",
          "2020-06-10",
          "2020-06-11",
          "2020-06-12",
          "2020-06-15",
          "2020-06-16",
          "2020-06-17",
          "2020-06-18",
          "2020-06-19",
          "2020-06-22",
          "2020-06-23",
          "2020-06-24",
          "2020-06-29",
          "2020-06-30",
          "2020-07-01",
          "2020-07-02",
          "2020-07-03",
          "2020-07-06",
          "2020-07-07",
          "2020-07-08",
          "2020-07-09",
          "2020-07-10",
          "2020-07-13",
          "2020-07-14",
          "2020-07-15",
          "2020-07-16",
          "2020-07-17",
          "2020-07-20",
          "2020-07-21",
          "2020-07-22",
          "2020-07-23",
          "2020-07-24",
          "2020-07-27",
          "2020-07-28",
          "2020-07-29",
          "2020-07-30",
          "2020-07-31",
          "2020-08-03",
          "2020-08-04",
          "2020-08-05",
          "2020-08-06",
          "2020-08-07",
          "2020-08-10",
          "2020-08-11",
          "2020-08-12",
          "2020-08-13",
          "2020-08-14",
          "2020-08-17",
          "2020-08-18",
          "2020-08-19",
          "2020-08-20",
          "2020-08-21",
          "2020-08-24",
          "2020-08-25",
          "2020-08-26",
          "2020-08-27",
          "2020-08-28",
          "2020-08-31",
          "2020-09-01",
          "2020-09-02",
          "2020-09-03",
          "2020-09-04",
          "2020-09-07",
          "2020-09-08",
          "2020-09-09",
          "2020-09-10",
          "2020-09-11",
          "2020-09-14",
          "2020-09-15",
          "2020-09-16",
          "2020-09-17",
          "2020-09-18",
          "2020-09-21",
          "2020-09-22",
          "2020-09-23",
          "2020-09-24",
          "2020-09-25",
          "2020-09-28",
          "2020-09-29",
          "2020-09-30",
          "2020-10-09",
          "2020-10-12",
          "2020-10-13",
          "2020-10-14",
          "2020-10-15",
          "2020-10-16",
          "2020-10-19",
          "2020-10-20",
          "2020-10-21",
          "2020-10-22",
          "2020-10-23",
          "2020-10-26",
          "2020-10-27",
          "2020-10-28",
          "2020-10-29",
          "2020-10-30",
          "2020-11-02",
          "2020-11-03",
          "2020-11-04",
          "2020-11-05",
          "2020-11-06",
          "2020-11-09",
          "2020-11-10",
          "2020-11-11",
          "2020-11-12",
          "2020-11-13",
          "2020-11-16",
          "2020-11-17",
          "2020-11-18",
          "2020-11-19",
          "2020-11-20",
          "2020-11-23",
          "2020-11-24",
          "2020-11-25",
          "2020-11-26",
          "2020-11-27",
          "2020-11-30",
          "2020-12-01",
          "2020-12-02",
          "2020-12-03",
          "2020-12-04",
          "2020-12-07",
          "2020-12-08",
          "2020-12-09",
          "2020-12-10",
          "2020-12-11",
          "2020-12-14",
          "2020-12-15",
          "2020-12-16",
          "2020-12-17",
          "2020-12-18",
          "2020-12-21",
          "2020-12-22",
          "2020-12-23",
          "2020-12-24",
          "2020-12-25",
          "2020-12-28",
          "2020-12-29",
          "2020-12-30",
          "2020-12-31",
          "2021-01-04",
          "2021-01-05",
          "2021-01-06",
          "2021-01-07",
          "2021-01-08",
          "2021-01-11",
          "2021-01-12",
          "2021-01-13",
          "2021-01-14",
          "2021-01-15",
          "2021-01-18",
          "2021-01-19",
          "2021-01-20",
          "2021-01-21",
          "2021-01-22",
          "2021-01-25",
          "2021-01-26",
          "2021-01-27",
          "2021-01-28",
          "2021-01-29",
          "2021-02-01",
          "2021-02-02",
          "2021-02-03",
          "2021-02-04",
          "2021-02-05",
          "2021-02-08",
          "2021-02-09",
          "2021-02-10"
         ],
         "xaxis": "x2",
         "y": [
          0,
          0,
          0.0019035238108160673,
          -0.0014859666060649838,
          -0.011048227693800722,
          -0.010862681684758076,
          -0.00140572295481208,
          -0.0011709317174567677,
          -0.015274931382081455,
          -0.006684033532491522,
          -0.02907927463285989,
          -0.005998867194822219,
          -0.011659309761793905,
          -0.011224383253531006,
          -0.0036036451185704962,
          -0.01332497481806856,
          -0.006073841599382776,
          0.046510003275331877,
          0.07193958272497071,
          0.06535574150664435,
          0.037602511909721435,
          0.011546562008651756,
          0.01371679977547173,
          -0.0037287468165991128,
          -0.0009062763113388828,
          -0.009142440323037904,
          -0.02771828441878716,
          -0.039047360604410164,
          -0.027948649032652897,
          -0.01064263370494316,
          0.015748966380941136,
          0.017328242644913318,
          0.015352752873755617,
          0.0031627224218127407,
          -0.009826414831785923,
          0.016291071954377016,
          -0.011329197642910536,
          -0.012574387407736153,
          -0.01694795647264322,
          0.0015057317258961042,
          0.028735990857986938,
          0.09361708868472857,
          0.10861321771403412,
          0.1289707786478757,
          0.12256334167927957,
          0.1957704482506601,
          0.19469310089639918,
          0.2323440654495219,
          0.08856643176681545,
          -0.046339033266344254,
          -0.09675802776324216,
          -0.06782415240392492,
          -0.06392239031205221,
          -0.0669469549726478,
          -0.08296107126866498,
          -0.15463772433743916,
          -0.16567426454241013,
          -0.15240615793446968,
          -0.08773154187110208,
          -0.02081321784021893,
          0.03618505018422698,
          0.0681789160694184,
          0.055584406188356056,
          0.025694796382824292,
          0.01815288515333091,
          -0.03594443365017205,
          0.006290544791506619,
          -0.034340338776545215,
          -0.01949964729949713,
          -0.05673158785450044,
          -0.06259539679788137,
          -0.04494114373300666,
          -0.02690732915006322,
          -0.04589742971741752,
          -0.05730233941825185,
          -0.050747421644698094,
          -0.057450572794986846,
          -0.06658753976113851,
          -0.07874649480143991,
          -0.03303688091421372,
          -0.022424691886206105,
          -0.016793934359988272,
          0.0026320373203976843,
          0.008618650680181417,
          -0.002930545550641872,
          -0.016552788016607256,
          -0.029078038399475037,
          -0.024535596004603616,
          -0.04089620360381327,
          -0.06352024165313139,
          -0.055843735226219826,
          -0.039845537035772594,
          -0.016774265421886203,
          -0.017701481682016462,
          0.0028319809433810517,
          0.029534135626004487,
          0.03290585077254876,
          0.012951454829411901,
          0.006107010608031482,
          -0.016431642358586296,
          -0.022121702482266192,
          -0.023515772749501895,
          -0.017249392699062505,
          -0.012200616263286501,
          0.008289930982210036,
          0.058167184000621985,
          0.067163607590319,
          0.051853028479156155,
          -0.06391417778157371,
          -0.10984756532448775,
          -0.11402802996002004,
          -0.10494049737673006,
          -0.08902704046799786,
          -0.06817925544766384,
          -0.05872246258454217,
          -0.062320769537106635,
          -0.053934964682354036,
          -0.05237558188700431,
          -0.024102577320064378,
          -0.02332082824533044,
          -0.0045624610829680945,
          0.03024228895709602,
          0.03921213724149086,
          0.06533850408366593,
          0.06889772842627306,
          0.08416925179904622,
          0.079636441390039,
          0.05403026507440539,
          0.03931558814206165,
          0.0346060077640824,
          0.04371748015092941,
          0.040528956199695376,
          0.041569622269256146,
          0.038452973596350026,
          0.04482224175202831,
          0.0466477436385436,
          0.05154717944433185,
          0.09724395009291534,
          0.09978710207356666,
          0.08326619476771675,
          0.0788949236686699,
          0.06866354615069252,
          0.04036655750700464,
          0.008105826290630433,
          -0.001210264793369064,
          -0.021726487586062704,
          -0.03663260920876339,
          -0.06349126305055341,
          -0.05998835760554673,
          -0.06963687506121201,
          -0.06462498752939483,
          -0.03901381238735113,
          -0.043002311199592,
          -0.030958541179783777,
          -0.024691424584049854,
          -0.008655137761053533,
          -0.012754080642047722,
          -0.01360269214802709,
          -0.05891799051297553,
          -0.0592284455066629,
          -0.06051500718982805,
          -0.03955585292005642,
          -0.022932151086013874,
          -0.002883921875660278,
          0.015880875407793926,
          0.011191716124587081,
          -0.023010450772410262,
          -0.06844746526262302,
          -0.058558981833484125,
          -0.04855962420383486,
          -0.046935512265971646,
          -0.07636355052796356,
          -0.0461754287967735,
          0.0014843837237435986,
          0.027855164652770048,
          0.07282951271693411,
          0.06744259131348257,
          0.06335417159993711,
          0.03971187002784865,
          0.003485750309657032,
          -0.014677947717063156,
          -0.0024460808762341024,
          0.024551260361134475,
          0.022593326114055567,
          -0.0005807336357463444,
          0.001823250921408448,
          -0.016695577872307688,
          -0.04134808457435629,
          -0.03364160818925582,
          -0.013213587792618664,
          0.004316868414563135,
          0.025577705377142657
         ],
         "yaxis": "y2"
        },
        {
         "name": "macd_high",
         "type": "bar",
         "x": [
          "2020-05-06",
          "2020-05-07",
          "2020-05-08",
          "2020-05-11",
          "2020-05-12",
          "2020-05-13",
          "2020-05-14",
          "2020-05-15",
          "2020-05-18",
          "2020-05-19",
          "2020-05-20",
          "2020-05-21",
          "2020-05-22",
          "2020-05-25",
          "2020-05-26",
          "2020-05-27",
          "2020-05-28",
          "2020-05-29",
          "2020-06-01",
          "2020-06-02",
          "2020-06-03",
          "2020-06-04",
          "2020-06-05",
          "2020-06-08",
          "2020-06-09",
          "2020-06-10",
          "2020-06-11",
          "2020-06-12",
          "2020-06-15",
          "2020-06-16",
          "2020-06-17",
          "2020-06-18",
          "2020-06-19",
          "2020-06-22",
          "2020-06-23",
          "2020-06-24",
          "2020-06-29",
          "2020-06-30",
          "2020-07-01",
          "2020-07-02",
          "2020-07-03",
          "2020-07-06",
          "2020-07-07",
          "2020-07-08",
          "2020-07-09",
          "2020-07-10",
          "2020-07-13",
          "2020-07-14",
          "2020-07-15",
          "2020-07-16",
          "2020-07-17",
          "2020-07-20",
          "2020-07-21",
          "2020-07-22",
          "2020-07-23",
          "2020-07-24",
          "2020-07-27",
          "2020-07-28",
          "2020-07-29",
          "2020-07-30",
          "2020-07-31",
          "2020-08-03",
          "2020-08-04",
          "2020-08-05",
          "2020-08-06",
          "2020-08-07",
          "2020-08-10",
          "2020-08-11",
          "2020-08-12",
          "2020-08-13",
          "2020-08-14",
          "2020-08-17",
          "2020-08-18",
          "2020-08-19",
          "2020-08-20",
          "2020-08-21",
          "2020-08-24",
          "2020-08-25",
          "2020-08-26",
          "2020-08-27",
          "2020-08-28",
          "2020-08-31",
          "2020-09-01",
          "2020-09-02",
          "2020-09-03",
          "2020-09-04",
          "2020-09-07",
          "2020-09-08",
          "2020-09-09",
          "2020-09-10",
          "2020-09-11",
          "2020-09-14",
          "2020-09-15",
          "2020-09-16",
          "2020-09-17",
          "2020-09-18",
          "2020-09-21",
          "2020-09-22",
          "2020-09-23",
          "2020-09-24",
          "2020-09-25",
          "2020-09-28",
          "2020-09-29",
          "2020-09-30",
          "2020-10-09",
          "2020-10-12",
          "2020-10-13",
          "2020-10-14",
          "2020-10-15",
          "2020-10-16",
          "2020-10-19",
          "2020-10-20",
          "2020-10-21",
          "2020-10-22",
          "2020-10-23",
          "2020-10-26",
          "2020-10-27",
          "2020-10-28",
          "2020-10-29",
          "2020-10-30",
          "2020-11-02",
          "2020-11-03",
          "2020-11-04",
          "2020-11-05",
          "2020-11-06",
          "2020-11-09",
          "2020-11-10",
          "2020-11-11",
          "2020-11-12",
          "2020-11-13",
          "2020-11-16",
          "2020-11-17",
          "2020-11-18",
          "2020-11-19",
          "2020-11-20",
          "2020-11-23",
          "2020-11-24",
          "2020-11-25",
          "2020-11-26",
          "2020-11-27",
          "2020-11-30",
          "2020-12-01",
          "2020-12-02",
          "2020-12-03",
          "2020-12-04",
          "2020-12-07",
          "2020-12-08",
          "2020-12-09",
          "2020-12-10",
          "2020-12-11",
          "2020-12-14",
          "2020-12-15",
          "2020-12-16",
          "2020-12-17",
          "2020-12-18",
          "2020-12-21",
          "2020-12-22",
          "2020-12-23",
          "2020-12-24",
          "2020-12-25",
          "2020-12-28",
          "2020-12-29",
          "2020-12-30",
          "2020-12-31",
          "2021-01-04",
          "2021-01-05",
          "2021-01-06",
          "2021-01-07",
          "2021-01-08",
          "2021-01-11",
          "2021-01-12",
          "2021-01-13",
          "2021-01-14",
          "2021-01-15",
          "2021-01-18",
          "2021-01-19",
          "2021-01-20",
          "2021-01-21",
          "2021-01-22",
          "2021-01-25",
          "2021-01-26",
          "2021-01-27",
          "2021-01-28",
          "2021-01-29",
          "2021-02-01",
          "2021-02-02",
          "2021-02-03",
          "2021-02-04",
          "2021-02-05",
          "2021-02-08",
          "2021-02-09",
          "2021-02-10"
         ],
         "xaxis": "x3",
         "y": [
          0,
          0.004435294117647004,
          -0.002772095432376793,
          0.003567069618361912,
          -0.011237558434058775,
          -0.019499441047777684,
          -0.005560134210520656,
          -0.00039453803807826086,
          -0.0060445562852967025,
          -0.004087976197426513,
          -0.018090646111757192,
          0.010851181311733269,
          -0.007556519528007451,
          -0.0009088248906246703,
          -0.018033626135191765,
          -0.02642613163758932,
          -0.01368962093346883,
          0.03717371177281223,
          0.0615296340378672,
          0.08445504168854052,
          0.045696856633549936,
          0.013738587338362904,
          0.0009789057180771138,
          -0.017485687698013758,
          -0.020042654318284732,
          -0.020699170388336928,
          -0.029042936218411728,
          -0.0479658696196863,
          -0.020889977631054393,
          -0.011808143938689918,
          0.006279409179943428,
          0.01669174924317239,
          0.013462007080831397,
          0.004907671431226317,
          -0.006497878762395689,
          0.018314619944538507,
          0.009860535784147402,
          -0.011363506618103357,
          -0.024115592624557446,
          -0.007996601732822935,
          0.012589820162134654,
          0.08449719621106291,
          0.1330170810796658,
          0.13887717839046387,
          0.13064935304847092,
          0.2166002595438119,
          0.2034138900290795,
          0.258338314203707,
          0.16521826264016004,
          0.03651297209080795,
          -0.07685567816656824,
          -0.10758025678648753,
          -0.08968533268012502,
          -0.09527627846315162,
          -0.12207290443001112,
          -0.1222135524324443,
          -0.16520667886842705,
          -0.16980367358543977,
          -0.13465557320470323,
          -0.024606308698644136,
          0.04696874016897859,
          0.05388742510149869,
          0.030619479571395603,
          -0.004125421457407408,
          -0.00040186031177297243,
          -0.030574153306832552,
          0.008238678257615872,
          0.013718002709573074,
          -0.017610283969416496,
          -0.04527241847519836,
          -0.08751365311082947,
          -0.07812474803115882,
          -0.04973283629868498,
          -0.048162957620477384,
          -0.05773395241934097,
          -0.06294714303008989,
          -0.05970991631475668,
          -0.06401946537646892,
          -0.07233142969935608,
          -0.014563292127750732,
          -0.0343303411852989,
          -0.0285130415005031,
          -0.016269132310203854,
          0.000773819553124111,
          -0.0027326498786460207,
          -0.027224396100141518,
          -0.022049152450737963,
          -0.03076009306391511,
          -0.034707888838691,
          -0.034061692206441174,
          -0.0552763181462092,
          -0.04193143053901249,
          -0.03038126442521566,
          -0.01360927076824664,
          -0.004213775135378073,
          0.022912902576398664,
          0.037057716573671906,
          0.025194521548479065,
          0.009413634293367223,
          -0.00407411834844279,
          -0.01473400719636303,
          -0.015299070177258234,
          -0.016981657132737527,
          -0.013274093018892763,
          0.003312455391626723,
          0.052457567735627764,
          0.06402768745094295,
          0.056025710786314714,
          -0.016501050403216005,
          -0.08949205099755297,
          -0.10796664503875081,
          -0.11327493935739491,
          -0.09505531120668193,
          -0.08174657143042124,
          -0.06627129353652539,
          -0.05158042772771354,
          -0.060987277813552176,
          -0.054888889972136146,
          -0.026209384977640027,
          -0.008385477284804987,
          -0.0011728319573791612,
          0.01718453790824548,
          0.030232314646830516,
          0.05380966985691027,
          0.06351031258436735,
          0.06935026201863087,
          0.07417557562861415,
          0.05903505796776409,
          0.037219922029777586,
          0.02639596868423011,
          0.034375307870104954,
          0.03972071206153577,
          0.03929807332678914,
          0.03626642619027037,
          0.04337177218607102,
          0.04611489742749392,
          0.06109188740407581,
          0.13767984520795373,
          0.12196845755007324,
          0.08736164959546204,
          0.08214748038304837,
          0.059981383067496126,
          0.04072148388402493,
          0.012161701657387811,
          0.005620702321764832,
          -0.018454204915486758,
          -0.026219701388453153,
          -0.04801874940070336,
          -0.07057657758319827,
          -0.07335394039786604,
          -0.07252115070272191,
          -0.04773412205192695,
          -0.03808445471958244,
          -0.043218406074936766,
          -0.033318626657759864,
          -0.023782593496370324,
          -0.013708523710966342,
          -0.010220877330127026,
          -0.0209518831780037,
          -0.05445565075623776,
          -0.05759937189502684,
          -0.049067218408683055,
          -0.030971787154464636,
          -0.018507434088184394,
          -0.002621780116684125,
          0.00518066398433259,
          -0.0043908905041837865,
          -0.030955999001862355,
          -0.05161303912833359,
          -0.044551732023732804,
          -0.0468099981977364,
          -0.05236813278166119,
          -0.049011570079765754,
          -0.007082486520374076,
          0.012188950955796418,
          0.05608280515212538,
          0.05975643142234094,
          0.05121876296802058,
          0.03656297869747843,
          0.011905594391633134,
          -0.011811332710231437,
          -0.0023614389407294323,
          0.02523570325557456,
          0.04177983019664655,
          0.018025806397528044,
          0.009973325054165982,
          -0.00703493642767361,
          -0.03831851161863664,
          -0.04345140312097051,
          -0.03480809399295026,
          -0.023192050206054915,
          0.001120129373223644
         ],
         "yaxis": "y3"
        },
        {
         "name": "macd_low",
         "type": "bar",
         "x": [
          "2020-05-06",
          "2020-05-07",
          "2020-05-08",
          "2020-05-11",
          "2020-05-12",
          "2020-05-13",
          "2020-05-14",
          "2020-05-15",
          "2020-05-18",
          "2020-05-19",
          "2020-05-20",
          "2020-05-21",
          "2020-05-22",
          "2020-05-25",
          "2020-05-26",
          "2020-05-27",
          "2020-05-28",
          "2020-05-29",
          "2020-06-01",
          "2020-06-02",
          "2020-06-03",
          "2020-06-04",
          "2020-06-05",
          "2020-06-08",
          "2020-06-09",
          "2020-06-10",
          "2020-06-11",
          "2020-06-12",
          "2020-06-15",
          "2020-06-16",
          "2020-06-17",
          "2020-06-18",
          "2020-06-19",
          "2020-06-22",
          "2020-06-23",
          "2020-06-24",
          "2020-06-29",
          "2020-06-30",
          "2020-07-01",
          "2020-07-02",
          "2020-07-03",
          "2020-07-06",
          "2020-07-07",
          "2020-07-08",
          "2020-07-09",
          "2020-07-10",
          "2020-07-13",
          "2020-07-14",
          "2020-07-15",
          "2020-07-16",
          "2020-07-17",
          "2020-07-20",
          "2020-07-21",
          "2020-07-22",
          "2020-07-23",
          "2020-07-24",
          "2020-07-27",
          "2020-07-28",
          "2020-07-29",
          "2020-07-30",
          "2020-07-31",
          "2020-08-03",
          "2020-08-04",
          "2020-08-05",
          "2020-08-06",
          "2020-08-07",
          "2020-08-10",
          "2020-08-11",
          "2020-08-12",
          "2020-08-13",
          "2020-08-14",
          "2020-08-17",
          "2020-08-18",
          "2020-08-19",
          "2020-08-20",
          "2020-08-21",
          "2020-08-24",
          "2020-08-25",
          "2020-08-26",
          "2020-08-27",
          "2020-08-28",
          "2020-08-31",
          "2020-09-01",
          "2020-09-02",
          "2020-09-03",
          "2020-09-04",
          "2020-09-07",
          "2020-09-08",
          "2020-09-09",
          "2020-09-10",
          "2020-09-11",
          "2020-09-14",
          "2020-09-15",
          "2020-09-16",
          "2020-09-17",
          "2020-09-18",
          "2020-09-21",
          "2020-09-22",
          "2020-09-23",
          "2020-09-24",
          "2020-09-25",
          "2020-09-28",
          "2020-09-29",
          "2020-09-30",
          "2020-10-09",
          "2020-10-12",
          "2020-10-13",
          "2020-10-14",
          "2020-10-15",
          "2020-10-16",
          "2020-10-19",
          "2020-10-20",
          "2020-10-21",
          "2020-10-22",
          "2020-10-23",
          "2020-10-26",
          "2020-10-27",
          "2020-10-28",
          "2020-10-29",
          "2020-10-30",
          "2020-11-02",
          "2020-11-03",
          "2020-11-04",
          "2020-11-05",
          "2020-11-06",
          "2020-11-09",
          "2020-11-10",
          "2020-11-11",
          "2020-11-12",
          "2020-11-13",
          "2020-11-16",
          "2020-11-17",
          "2020-11-18",
          "2020-11-19",
          "2020-11-20",
          "2020-11-23",
          "2020-11-24",
          "2020-11-25",
          "2020-11-26",
          "2020-11-27",
          "2020-11-30",
          "2020-12-01",
          "2020-12-02",
          "2020-12-03",
          "2020-12-04",
          "2020-12-07",
          "2020-12-08",
          "2020-12-09",
          "2020-12-10",
          "2020-12-11",
          "2020-12-14",
          "2020-12-15",
          "2020-12-16",
          "2020-12-17",
          "2020-12-18",
          "2020-12-21",
          "2020-12-22",
          "2020-12-23",
          "2020-12-24",
          "2020-12-25",
          "2020-12-28",
          "2020-12-29",
          "2020-12-30",
          "2020-12-31",
          "2021-01-04",
          "2021-01-05",
          "2021-01-06",
          "2021-01-07",
          "2021-01-08",
          "2021-01-11",
          "2021-01-12",
          "2021-01-13",
          "2021-01-14",
          "2021-01-15",
          "2021-01-18",
          "2021-01-19",
          "2021-01-20",
          "2021-01-21",
          "2021-01-22",
          "2021-01-25",
          "2021-01-26",
          "2021-01-27",
          "2021-01-28",
          "2021-01-29",
          "2021-02-01",
          "2021-02-02",
          "2021-02-03",
          "2021-02-04",
          "2021-02-05",
          "2021-02-08",
          "2021-02-09",
          "2021-02-10"
         ],
         "xaxis": "x4",
         "y": [
          0,
          0.005800000000000338,
          0.004037855672999883,
          -0.00020340195351798394,
          -0.01060536325041483,
          -0.009995471626231362,
          -0.010402876320619448,
          0.00024363284057485942,
          -0.010320420483157428,
          -0.00695503716926045,
          -0.025830099612884166,
          -0.018401149185380453,
          -0.020975146649204857,
          -0.011721024201056293,
          -0.005201841841818683,
          -0.005538228753449344,
          -0.002169747025052883,
          0.0268279635319911,
          0.05382138970567513,
          0.07079129725516642,
          0.05378552803581679,
          0.023065348534280043,
          0.007931887387494709,
          0.003066703594108197,
          -0.0003161240471330484,
          -0.006063581574074481,
          -0.020651582799198716,
          -0.04722748168365706,
          -0.023808765797214297,
          -0.007375478931416129,
          -0.003155965061424842,
          0.01314465805918348,
          0.019683714422417207,
          0.013994382636694763,
          0.00033751468077533944,
          -0.005801860290752157,
          -0.01329341905715702,
          -0.013040299836100118,
          -0.014899326000530018,
          -0.011880478315087161,
          0.012677658979083265,
          0.04998379161423272,
          0.0998047336604944,
          0.11837735617048259,
          0.13144765144978457,
          0.11780683472385267,
          0.17401678112324603,
          0.18334343310453632,
          0.11060357543442173,
          0.0037498860312205062,
          -0.06991351037260096,
          -0.06261424863022735,
          -0.025679151776151876,
          -0.025025651315530306,
          -0.08145470892228529,
          -0.12791907230773086,
          -0.14108143810758722,
          -0.12844789867541068,
          -0.1040898319690987,
          -0.0134470749936111,
          0.023057178152954827,
          0.07204009692442306,
          0.06229954884964997,
          0.03257740630594674,
          0.01851311631365765,
          -0.033017460556185346,
          -0.017787001675737185,
          -0.027925917522034438,
          -0.030608669877163236,
          -0.04428403432918718,
          -0.05673712036067752,
          -0.037240724255277385,
          -0.015970575832135583,
          -0.02797991150534862,
          -0.041087150528362155,
          -0.03974186914560074,
          -0.04880725453200707,
          -0.06068303173857956,
          -0.0772390997312039,
          -0.03235400945376281,
          -0.03750313157726484,
          -0.02406803750235717,
          -0.030267896596971544,
          -0.008722063183660589,
          -0.0005057610471427276,
          -0.015543103362689215,
          -0.01794117725723926,
          -0.025637639470149215,
          -0.03434013588520543,
          -0.05309377988129124,
          -0.06212326653443609,
          -0.04153671299130407,
          -0.02212811052498631,
          -0.01492261451253446,
          -0.0026809263191615584,
          0.01921493291062565,
          0.036522741358598926,
          0.019870644016205308,
          0.015058384684831644,
          -0.008154815176291796,
          -0.019294522694015687,
          -0.0182111735528116,
          -0.012038954885883635,
          -0.01738419879639247,
          0.002732132597765058,
          0.023390635766314227,
          0.05419059770610521,
          0.05524033930953523,
          -0.05606519136359864,
          -0.10318169588884546,
          -0.10710994092288217,
          -0.10829159037728608,
          -0.09090649075436791,
          -0.08226435816459565,
          -0.05953520841668836,
          -0.06124140847770143,
          -0.05783820414302221,
          -0.0652779956271371,
          -0.048217615411864645,
          -0.02107321618408753,
          -0.004321397341919497,
          0.022384476983723034,
          0.045791048309816396,
          0.06801052243689554,
          0.07706183558020041,
          0.08439298803587425,
          0.0876252597499218,
          0.0605260263204479,
          0.04428350327476621,
          0.03452634962262158,
          0.03780492104810751,
          0.04401710422966271,
          0.046648671364443284,
          0.04160086326348983,
          0.03560105208598091,
          0.04084207472571991,
          0.05165974603540638,
          0.05932711103974517,
          0.08082136821027028,
          0.08072701645881059,
          0.08029222761451678,
          0.07742309579016837,
          0.05686323986298929,
          0.02581220537532842,
          0.00916937346123522,
          -0.006586871703576731,
          -0.019778874535963782,
          -0.050223183656074005,
          -0.057645173740671705,
          -0.07061150437886186,
          -0.07079426422946973,
          -0.05225713952850522,
          -0.042804023386131235,
          -0.047382322696728485,
          -0.021931271703176325,
          -0.016691314144821057,
          -0.011323908342342648,
          -0.004722678190666713,
          -0.04818897380837961,
          -0.0714128299931705,
          -0.05859435869265822,
          -0.04125651030041305,
          -0.018605939340133493,
          0.0014557760827573207,
          0.012161037237104377,
          0.013724418413241957,
          -0.02014488323299196,
          -0.0677932860484976,
          -0.09586841108851002,
          -0.056062655741892786,
          -0.04076210803623931,
          -0.06333781477698952,
          -0.05779391874851092,
          -0.013237597954998015,
          0.03062094036638563,
          0.04959300179096365,
          0.07180304468953597,
          0.0734695977889479,
          0.05846843459289425,
          0.0234291734149914,
          0.0011987357363431594,
          0.00025165039057367666,
          0.010192237653633474,
          0.017749796010481933,
          0.0010692274415832759,
          -0.0032441280070263367,
          -0.009130688706465329,
          -0.044275186675790945,
          -0.03320486339883627,
          -0.022481354349177363,
          0.0033470952392812836,
          0.022751855991862246
         ],
         "yaxis": "y4"
        }
       ],
       "layout": {
        "annotations": [
         {
          "font": {
           "size": 16
          },
          "showarrow": false,
          "text": "y轴标题",
          "textangle": -90,
          "x": 0,
          "xanchor": "right",
          "xref": "paper",
          "xshift": -40,
          "y": 0.5,
          "yanchor": "middle",
          "yref": "paper"
         }
        ],
        "coloraxis": {
         "colorbar": {
          "ticks": "outside",
          "x": 0.75,
          "xanchor": "left"
         }
        },
        "font": {
         "color": "RebeccaPurple",
         "family": "Times New Roman",
         "size": 20
        },
        "height": 800,
        "margin": {
         "b": 0,
         "l": 20,
         "r": 0,
         "t": 0
        },
        "template": {
         "data": {
          "bar": [
           {
            "error_x": {
             "color": "#2a3f5f"
            },
            "error_y": {
             "color": "#2a3f5f"
            },
            "marker": {
             "line": {
              "color": "#E5ECF6",
              "width": 0.5
             }
            },
            "type": "bar"
           }
          ],
          "barpolar": [
           {
            "marker": {
             "line": {
              "color": "#E5ECF6",
              "width": 0.5
             }
            },
            "type": "barpolar"
           }
          ],
          "carpet": [
           {
            "aaxis": {
             "endlinecolor": "#2a3f5f",
             "gridcolor": "white",
             "linecolor": "white",
             "minorgridcolor": "white",
             "startlinecolor": "#2a3f5f"
            },
            "baxis": {
             "endlinecolor": "#2a3f5f",
             "gridcolor": "white",
             "linecolor": "white",
             "minorgridcolor": "white",
             "startlinecolor": "#2a3f5f"
            },
            "type": "carpet"
           }
          ],
          "choropleth": [
           {
            "colorbar": {
             "outlinewidth": 0,
             "ticks": ""
            },
            "type": "choropleth"
           }
          ],
          "contour": [
           {
            "colorbar": {
             "outlinewidth": 0,
             "ticks": ""
            },
            "colorscale": [
             [
              0,
              "#0d0887"
             ],
             [
              0.1111111111111111,
              "#46039f"
             ],
             [
              0.2222222222222222,
              "#7201a8"
             ],
             [
              0.3333333333333333,
              "#9c179e"
             ],
             [
              0.4444444444444444,
              "#bd3786"
             ],
             [
              0.5555555555555556,
              "#d8576b"
             ],
             [
              0.6666666666666666,
              "#ed7953"
             ],
             [
              0.7777777777777778,
              "#fb9f3a"
             ],
             [
              0.8888888888888888,
              "#fdca26"
             ],
             [
              1,
              "#f0f921"
             ]
            ],
            "type": "contour"
           }
          ],
          "contourcarpet": [
           {
            "colorbar": {
             "outlinewidth": 0,
             "ticks": ""
            },
            "type": "contourcarpet"
           }
          ],
          "heatmap": [
           {
            "colorbar": {
             "outlinewidth": 0,
             "ticks": ""
            },
            "colorscale": [
             [
              0,
              "#0d0887"
             ],
             [
              0.1111111111111111,
              "#46039f"
             ],
             [
              0.2222222222222222,
              "#7201a8"
             ],
             [
              0.3333333333333333,
              "#9c179e"
             ],
             [
              0.4444444444444444,
              "#bd3786"
             ],
             [
              0.5555555555555556,
              "#d8576b"
             ],
             [
              0.6666666666666666,
              "#ed7953"
             ],
             [
              0.7777777777777778,
              "#fb9f3a"
             ],
             [
              0.8888888888888888,
              "#fdca26"
             ],
             [
              1,
              "#f0f921"
             ]
            ],
            "type": "heatmap"
           }
          ],
          "heatmapgl": [
           {
            "colorbar": {
             "outlinewidth": 0,
             "ticks": ""
            },
            "colorscale": [
             [
              0,
              "#0d0887"
             ],
             [
              0.1111111111111111,
              "#46039f"
             ],
             [
              0.2222222222222222,
              "#7201a8"
             ],
             [
              0.3333333333333333,
              "#9c179e"
             ],
             [
              0.4444444444444444,
              "#bd3786"
             ],
             [
              0.5555555555555556,
              "#d8576b"
             ],
             [
              0.6666666666666666,
              "#ed7953"
             ],
             [
              0.7777777777777778,
              "#fb9f3a"
             ],
             [
              0.8888888888888888,
              "#fdca26"
             ],
             [
              1,
              "#f0f921"
             ]
            ],
            "type": "heatmapgl"
           }
          ],
          "histogram": [
           {
            "marker": {
             "colorbar": {
              "outlinewidth": 0,
              "ticks": ""
             }
            },
            "type": "histogram"
           }
          ],
          "histogram2d": [
           {
            "colorbar": {
             "outlinewidth": 0,
             "ticks": ""
            },
            "colorscale": [
             [
              0,
              "#0d0887"
             ],
             [
              0.1111111111111111,
              "#46039f"
             ],
             [
              0.2222222222222222,
              "#7201a8"
             ],
             [
              0.3333333333333333,
              "#9c179e"
             ],
             [
              0.4444444444444444,
              "#bd3786"
             ],
             [
              0.5555555555555556,
              "#d8576b"
             ],
             [
              0.6666666666666666,
              "#ed7953"
             ],
             [
              0.7777777777777778,
              "#fb9f3a"
             ],
             [
              0.8888888888888888,
              "#fdca26"
             ],
             [
              1,
              "#f0f921"
             ]
            ],
            "type": "histogram2d"
           }
          ],
          "histogram2dcontour": [
           {
            "colorbar": {
             "outlinewidth": 0,
             "ticks": ""
            },
            "colorscale": [
             [
              0,
              "#0d0887"
             ],
             [
              0.1111111111111111,
              "#46039f"
             ],
             [
              0.2222222222222222,
              "#7201a8"
             ],
             [
              0.3333333333333333,
              "#9c179e"
             ],
             [
              0.4444444444444444,
              "#bd3786"
             ],
             [
              0.5555555555555556,
              "#d8576b"
             ],
             [
              0.6666666666666666,
              "#ed7953"
             ],
             [
              0.7777777777777778,
              "#fb9f3a"
             ],
             [
              0.8888888888888888,
              "#fdca26"
             ],
             [
              1,
              "#f0f921"
             ]
            ],
            "type": "histogram2dcontour"
           }
          ],
          "mesh3d": [
           {
            "colorbar": {
             "outlinewidth": 0,
             "ticks": ""
            },
            "type": "mesh3d"
           }
          ],
          "parcoords": [
           {
            "line": {
             "colorbar": {
              "outlinewidth": 0,
              "ticks": ""
             }
            },
            "type": "parcoords"
           }
          ],
          "pie": [
           {
            "automargin": true,
            "type": "pie"
           }
          ],
          "scatter": [
           {
            "marker": {
             "colorbar": {
              "outlinewidth": 0,
              "ticks": ""
             }
            },
            "type": "scatter"
           }
          ],
          "scatter3d": [
           {
            "line": {
             "colorbar": {
              "outlinewidth": 0,
              "ticks": ""
             }
            },
            "marker": {
             "colorbar": {
              "outlinewidth": 0,
              "ticks": ""
             }
            },
            "type": "scatter3d"
           }
          ],
          "scattercarpet": [
           {
            "marker": {
             "colorbar": {
              "outlinewidth": 0,
              "ticks": ""
             }
            },
            "type": "scattercarpet"
           }
          ],
          "scattergeo": [
           {
            "marker": {
             "colorbar": {
              "outlinewidth": 0,
              "ticks": ""
             }
            },
            "type": "scattergeo"
           }
          ],
          "scattergl": [
           {
            "marker": {
             "colorbar": {
              "outlinewidth": 0,
              "ticks": ""
             }
            },
            "type": "scattergl"
           }
          ],
          "scattermapbox": [
           {
            "marker": {
             "colorbar": {
              "outlinewidth": 0,
              "ticks": ""
             }
            },
            "type": "scattermapbox"
           }
          ],
          "scatterpolar": [
           {
            "marker": {
             "colorbar": {
              "outlinewidth": 0,
              "ticks": ""
             }
            },
            "type": "scatterpolar"
           }
          ],
          "scatterpolargl": [
           {
            "marker": {
             "colorbar": {
              "outlinewidth": 0,
              "ticks": ""
             }
            },
            "type": "scatterpolargl"
           }
          ],
          "scatterternary": [
           {
            "marker": {
             "colorbar": {
              "outlinewidth": 0,
              "ticks": ""
             }
            },
            "type": "scatterternary"
           }
          ],
          "surface": [
           {
            "colorbar": {
             "outlinewidth": 0,
             "ticks": ""
            },
            "colorscale": [
             [
              0,
              "#0d0887"
             ],
             [
              0.1111111111111111,
              "#46039f"
             ],
             [
              0.2222222222222222,
              "#7201a8"
             ],
             [
              0.3333333333333333,
              "#9c179e"
             ],
             [
              0.4444444444444444,
              "#bd3786"
             ],
             [
              0.5555555555555556,
              "#d8576b"
             ],
             [
              0.6666666666666666,
              "#ed7953"
             ],
             [
              0.7777777777777778,
              "#fb9f3a"
             ],
             [
              0.8888888888888888,
              "#fdca26"
             ],
             [
              1,
              "#f0f921"
             ]
            ],
            "type": "surface"
           }
          ],
          "table": [
           {
            "cells": {
             "fill": {
              "color": "#EBF0F8"
             },
             "line": {
              "color": "white"
             }
            },
            "header": {
             "fill": {
              "color": "#C8D4E3"
             },
             "line": {
              "color": "white"
             }
            },
            "type": "table"
           }
          ]
         },
         "layout": {
          "annotationdefaults": {
           "arrowcolor": "#2a3f5f",
           "arrowhead": 0,
           "arrowwidth": 1
          },
          "autotypenumbers": "strict",
          "coloraxis": {
           "colorbar": {
            "outlinewidth": 0,
            "ticks": ""
           }
          },
          "colorscale": {
           "diverging": [
            [
             0,
             "#8e0152"
            ],
            [
             0.1,
             "#c51b7d"
            ],
            [
             0.2,
             "#de77ae"
            ],
            [
             0.3,
             "#f1b6da"
            ],
            [
             0.4,
             "#fde0ef"
            ],
            [
             0.5,
             "#f7f7f7"
            ],
            [
             0.6,
             "#e6f5d0"
            ],
            [
             0.7,
             "#b8e186"
            ],
            [
             0.8,
             "#7fbc41"
            ],
            [
             0.9,
             "#4d9221"
            ],
            [
             1,
             "#276419"
            ]
           ],
           "sequential": [
            [
             0,
             "#0d0887"
            ],
            [
             0.1111111111111111,
             "#46039f"
            ],
            [
             0.2222222222222222,
             "#7201a8"
            ],
            [
             0.3333333333333333,
             "#9c179e"
            ],
            [
             0.4444444444444444,
             "#bd3786"
            ],
            [
             0.5555555555555556,
             "#d8576b"
            ],
            [
             0.6666666666666666,
             "#ed7953"
            ],
            [
             0.7777777777777778,
             "#fb9f3a"
            ],
            [
             0.8888888888888888,
             "#fdca26"
            ],
            [
             1,
             "#f0f921"
            ]
           ],
           "sequentialminus": [
            [
             0,
             "#0d0887"
            ],
            [
             0.1111111111111111,
             "#46039f"
            ],
            [
             0.2222222222222222,
             "#7201a8"
            ],
            [
             0.3333333333333333,
             "#9c179e"
            ],
            [
             0.4444444444444444,
             "#bd3786"
            ],
            [
             0.5555555555555556,
             "#d8576b"
            ],
            [
             0.6666666666666666,
             "#ed7953"
            ],
            [
             0.7777777777777778,
             "#fb9f3a"
            ],
            [
             0.8888888888888888,
             "#fdca26"
            ],
            [
             1,
             "#f0f921"
            ]
           ]
          },
          "colorway": [
           "#636efa",
           "#EF553B",
           "#00cc96",
           "#ab63fa",
           "#FFA15A",
           "#19d3f3",
           "#FF6692",
           "#B6E880",
           "#FF97FF",
           "#FECB52"
          ],
          "font": {
           "color": "#2a3f5f"
          },
          "geo": {
           "bgcolor": "white",
           "lakecolor": "white",
           "landcolor": "#E5ECF6",
           "showlakes": true,
           "showland": true,
           "subunitcolor": "white"
          },
          "hoverlabel": {
           "align": "left"
          },
          "hovermode": "closest",
          "mapbox": {
           "style": "light"
          },
          "paper_bgcolor": "white",
          "plot_bgcolor": "#E5ECF6",
          "polar": {
           "angularaxis": {
            "gridcolor": "white",
            "linecolor": "white",
            "ticks": ""
           },
           "bgcolor": "#E5ECF6",
           "radialaxis": {
            "gridcolor": "white",
            "linecolor": "white",
            "ticks": ""
           }
          },
          "scene": {
           "xaxis": {
            "backgroundcolor": "#E5ECF6",
            "gridcolor": "white",
            "gridwidth": 2,
            "linecolor": "white",
            "showbackground": true,
            "ticks": "",
            "zerolinecolor": "white"
           },
           "yaxis": {
            "backgroundcolor": "#E5ECF6",
            "gridcolor": "white",
            "gridwidth": 2,
            "linecolor": "white",
            "showbackground": true,
            "ticks": "",
            "zerolinecolor": "white"
           },
           "zaxis": {
            "backgroundcolor": "#E5ECF6",
            "gridcolor": "white",
            "gridwidth": 2,
            "linecolor": "white",
            "showbackground": true,
            "ticks": "",
            "zerolinecolor": "white"
           }
          },
          "shapedefaults": {
           "line": {
            "color": "#2a3f5f"
           }
          },
          "ternary": {
           "aaxis": {
            "gridcolor": "white",
            "linecolor": "white",
            "ticks": ""
           },
           "baxis": {
            "gridcolor": "white",
            "linecolor": "white",
            "ticks": ""
           },
           "bgcolor": "#E5ECF6",
           "caxis": {
            "gridcolor": "white",
            "linecolor": "white",
            "ticks": ""
           }
          },
          "title": {
           "x": 0.05
          },
          "xaxis": {
           "automargin": true,
           "gridcolor": "white",
           "linecolor": "white",
           "ticks": "",
           "title": {
            "standoff": 15
           },
           "zerolinecolor": "white",
           "zerolinewidth": 2
          },
          "yaxis": {
           "automargin": true,
           "gridcolor": "white",
           "linecolor": "white",
           "ticks": "",
           "title": {
            "standoff": 15
           },
           "zerolinecolor": "white",
           "zerolinewidth": 2
          }
         }
        },
        "title": {
         "x": 0.5
        },
        "width": 1000,
        "xaxis": {
         "anchor": "y",
         "domain": [
          0,
          1
         ],
         "matches": "x4",
         "rangeslider": {
          "visible": false
         },
         "showticklabels": false
        },
        "xaxis2": {
         "anchor": "y2",
         "domain": [
          0,
          1
         ],
         "matches": "x4",
         "rangeslider": {
          "visible": false
         },
         "showticklabels": false
        },
        "xaxis3": {
         "anchor": "y3",
         "domain": [
          0,
          1
         ],
         "matches": "x4",
         "showticklabels": false
        },
        "xaxis4": {
         "anchor": "y4",
         "domain": [
          0,
          1
         ],
         "rangeslider": {
          "visible": true
         }
        },
        "yaxis": {
         "anchor": "x",
         "domain": [
          0.8,
          1
         ]
        },
        "yaxis2": {
         "anchor": "x2",
         "domain": [
          0.6,
          0.75
         ]
        },
        "yaxis3": {
         "anchor": "x3",
         "domain": [
          0.4,
          0.55
         ]
        },
        "yaxis4": {
         "anchor": "x4",
         "domain": [
          0.1,
          0.35
         ]
        }
       }
      },
      "text/html": [
       "<div>                            <div id=\"7f32effa-fc25-47db-bee4-5cd4d8d6252c\" class=\"plotly-graph-div\" style=\"height:800px; width:1000px;\"></div>            <script type=\"text/javascript\">                require([\"plotly\"], function(Plotly) {                    window.PLOTLYENV=window.PLOTLYENV || {};                                    if (document.getElementById(\"7f32effa-fc25-47db-bee4-5cd4d8d6252c\")) {                    Plotly.newPlot(                        \"7f32effa-fc25-47db-bee4-5cd4d8d6252c\",                        [{\"mode\": \"markers+lines\", \"name\": \"close\", \"type\": \"scatter\", \"x\": [\"2020-05-06\", \"2020-05-07\", \"2020-05-08\", \"2020-05-11\", \"2020-05-12\", \"2020-05-13\", \"2020-05-14\", \"2020-05-15\", \"2020-05-18\", \"2020-05-19\", \"2020-05-20\", \"2020-05-21\", \"2020-05-22\", \"2020-05-25\", \"2020-05-26\", \"2020-05-27\", \"2020-05-28\", \"2020-05-29\", \"2020-06-01\", \"2020-06-02\", \"2020-06-03\", \"2020-06-04\", \"2020-06-05\", \"2020-06-08\", \"2020-06-09\", \"2020-06-10\", \"2020-06-11\", \"2020-06-12\", \"2020-06-15\", \"2020-06-16\", \"2020-06-17\", \"2020-06-18\", \"2020-06-19\", \"2020-06-22\", \"2020-06-23\", \"2020-06-24\", \"2020-06-29\", \"2020-06-30\", \"2020-07-01\", \"2020-07-02\", \"2020-07-03\", \"2020-07-06\", \"2020-07-07\", \"2020-07-08\", \"2020-07-09\", \"2020-07-10\", \"2020-07-13\", \"2020-07-14\", \"2020-07-15\", \"2020-07-16\", \"2020-07-17\", \"2020-07-20\", \"2020-07-21\", \"2020-07-22\", \"2020-07-23\", \"2020-07-24\", \"2020-07-27\", \"2020-07-28\", \"2020-07-29\", \"2020-07-30\", \"2020-07-31\", \"2020-08-03\", \"2020-08-04\", \"2020-08-05\", \"2020-08-06\", \"2020-08-07\", \"2020-08-10\", \"2020-08-11\", \"2020-08-12\", \"2020-08-13\", \"2020-08-14\", \"2020-08-17\", \"2020-08-18\", \"2020-08-19\", \"2020-08-20\", \"2020-08-21\", \"2020-08-24\", \"2020-08-25\", \"2020-08-26\", \"2020-08-27\", \"2020-08-28\", \"2020-08-31\", \"2020-09-01\", \"2020-09-02\", \"2020-09-03\", \"2020-09-04\", \"2020-09-07\", \"2020-09-08\", \"2020-09-09\", \"2020-09-10\", \"2020-09-11\", \"2020-09-14\", \"2020-09-15\", \"2020-09-16\", \"2020-09-17\", \"2020-09-18\", \"2020-09-21\", \"2020-09-22\", \"2020-09-23\", \"2020-09-24\", \"2020-09-25\", \"2020-09-28\", \"2020-09-29\", \"2020-09-30\", \"2020-10-09\", \"2020-10-12\", \"2020-10-13\", \"2020-10-14\", \"2020-10-15\", \"2020-10-16\", \"2020-10-19\", \"2020-10-20\", \"2020-10-21\", \"2020-10-22\", \"2020-10-23\", \"2020-10-26\", \"2020-10-27\", \"2020-10-28\", \"2020-10-29\", \"2020-10-30\", \"2020-11-02\", \"2020-11-03\", \"2020-11-04\", \"2020-11-05\", \"2020-11-06\", \"2020-11-09\", \"2020-11-10\", \"2020-11-11\", \"2020-11-12\", \"2020-11-13\", \"2020-11-16\", \"2020-11-17\", \"2020-11-18\", \"2020-11-19\", \"2020-11-20\", \"2020-11-23\", \"2020-11-24\", \"2020-11-25\", \"2020-11-26\", \"2020-11-27\", \"2020-11-30\", \"2020-12-01\", \"2020-12-02\", \"2020-12-03\", \"2020-12-04\", \"2020-12-07\", \"2020-12-08\", \"2020-12-09\", \"2020-12-10\", \"2020-12-11\", \"2020-12-14\", \"2020-12-15\", \"2020-12-16\", \"2020-12-17\", \"2020-12-18\", \"2020-12-21\", \"2020-12-22\", \"2020-12-23\", \"2020-12-24\", \"2020-12-25\", \"2020-12-28\", \"2020-12-29\", \"2020-12-30\", \"2020-12-31\", \"2021-01-04\", \"2021-01-05\", \"2021-01-06\", \"2021-01-07\", \"2021-01-08\", \"2021-01-11\", \"2021-01-12\", \"2021-01-13\", \"2021-01-14\", \"2021-01-15\", \"2021-01-18\", \"2021-01-19\", \"2021-01-20\", \"2021-01-21\", \"2021-01-22\", \"2021-01-25\", \"2021-01-26\", \"2021-01-27\", \"2021-01-28\", \"2021-01-29\", \"2021-02-01\", \"2021-02-02\", \"2021-02-03\", \"2021-02-04\", \"2021-02-05\", \"2021-02-08\", \"2021-02-09\", \"2021-02-10\"], \"xaxis\": \"x\", \"y\": [6.38, 6.38, 6.41, 6.37, 6.28, 6.29, 6.35, 6.32, 6.21, 6.29, 6.1, 6.28, 6.17, 6.17, 6.2, 6.11, 6.16, 6.45, 6.51, 6.47, 6.38, 6.33, 6.42, 6.33, 6.39, 6.34, 6.25, 6.21, 6.27, 6.32, 6.42, 6.38, 6.38, 6.33, 6.29, 6.46, 6.26, 6.31, 6.28, 6.38, 6.49, 6.81, 6.82, 6.99, 7.02, 7.55, 7.55, 7.94, 7.28, 6.98, 7.02, 7.26, 7.2, 7.16, 7.06, 6.67, 6.68, 6.67, 6.89, 7.05, 7.2, 7.28, 7.2, 7.12, 7.18, 6.93, 7.27, 6.97, 7.13, 6.89, 6.91, 6.98, 7.01, 6.85, 6.8, 6.82, 6.73, 6.65, 6.55, 6.76, 6.68, 6.66, 6.73, 6.71, 6.63, 6.57, 6.51, 6.53, 6.4, 6.27, 6.3, 6.31, 6.35, 6.26, 6.34, 6.42, 6.38, 6.27, 6.27, 6.15, 6.14, 6.11, 6.11, 6.09, 6.16, 6.37, 6.33, 6.26, 5.69, 5.64, 5.62, 5.57, 5.53, 5.51, 5.43, 5.31, 5.28, 5.19, 5.26, 5.14, 5.18, 5.28, 5.23, 5.34, 5.31, 5.4, 5.37, 5.27, 5.26, 5.27, 5.33, 5.3, 5.32, 5.31, 5.36, 5.37, 5.41, 5.67, 5.64, 5.61, 5.68, 5.69, 5.61, 5.53, 5.56, 5.47, 5.42, 5.28, 5.31, 5.2, 5.19, 5.26, 5.14, 5.17, 5.14, 5.18, 5.1, 5.08, 4.81, 4.85, 4.78, 4.83, 4.82, 4.85, 4.88, 4.8, 4.61, 4.4, 4.48, 4.44, 4.36, 4.13, 4.27, 4.39, 4.39, 4.56, 4.45, 4.46, 4.36, 4.22, 4.18, 4.25, 4.34, 4.26, 4.13, 4.17, 4.04, 3.91, 3.95, 3.99, 4.0, 4.05], \"yaxis\": \"y\"}, {\"name\": \"macd_close\", \"type\": \"bar\", \"x\": [\"2020-05-06\", \"2020-05-07\", \"2020-05-08\", \"2020-05-11\", \"2020-05-12\", \"2020-05-13\", \"2020-05-14\", \"2020-05-15\", \"2020-05-18\", \"2020-05-19\", \"2020-05-20\", \"2020-05-21\", \"2020-05-22\", \"2020-05-25\", \"2020-05-26\", \"2020-05-27\", \"2020-05-28\", \"2020-05-29\", \"2020-06-01\", \"2020-06-02\", \"2020-06-03\", \"2020-06-04\", \"2020-06-05\", \"2020-06-08\", \"2020-06-09\", \"2020-06-10\", \"2020-06-11\", \"2020-06-12\", \"2020-06-15\", \"2020-06-16\", \"2020-06-17\", \"2020-06-18\", \"2020-06-19\", \"2020-06-22\", \"2020-06-23\", \"2020-06-24\", \"2020-06-29\", \"2020-06-30\", \"2020-07-01\", \"2020-07-02\", \"2020-07-03\", \"2020-07-06\", \"2020-07-07\", \"2020-07-08\", \"2020-07-09\", \"2020-07-10\", \"2020-07-13\", \"2020-07-14\", \"2020-07-15\", \"2020-07-16\", \"2020-07-17\", \"2020-07-20\", \"2020-07-21\", \"2020-07-22\", \"2020-07-23\", \"2020-07-24\", \"2020-07-27\", \"2020-07-28\", \"2020-07-29\", \"2020-07-30\", \"2020-07-31\", \"2020-08-03\", \"2020-08-04\", \"2020-08-05\", \"2020-08-06\", \"2020-08-07\", \"2020-08-10\", \"2020-08-11\", \"2020-08-12\", \"2020-08-13\", \"2020-08-14\", \"2020-08-17\", \"2020-08-18\", \"2020-08-19\", \"2020-08-20\", \"2020-08-21\", \"2020-08-24\", \"2020-08-25\", \"2020-08-26\", \"2020-08-27\", \"2020-08-28\", \"2020-08-31\", \"2020-09-01\", \"2020-09-02\", \"2020-09-03\", \"2020-09-04\", \"2020-09-07\", \"2020-09-08\", \"2020-09-09\", \"2020-09-10\", \"2020-09-11\", \"2020-09-14\", \"2020-09-15\", \"2020-09-16\", \"2020-09-17\", \"2020-09-18\", \"2020-09-21\", \"2020-09-22\", \"2020-09-23\", \"2020-09-24\", \"2020-09-25\", \"2020-09-28\", \"2020-09-29\", \"2020-09-30\", \"2020-10-09\", \"2020-10-12\", \"2020-10-13\", \"2020-10-14\", \"2020-10-15\", \"2020-10-16\", \"2020-10-19\", \"2020-10-20\", \"2020-10-21\", \"2020-10-22\", \"2020-10-23\", \"2020-10-26\", \"2020-10-27\", \"2020-10-28\", \"2020-10-29\", \"2020-10-30\", \"2020-11-02\", \"2020-11-03\", \"2020-11-04\", \"2020-11-05\", \"2020-11-06\", \"2020-11-09\", \"2020-11-10\", \"2020-11-11\", \"2020-11-12\", \"2020-11-13\", \"2020-11-16\", \"2020-11-17\", \"2020-11-18\", \"2020-11-19\", \"2020-11-20\", \"2020-11-23\", \"2020-11-24\", \"2020-11-25\", \"2020-11-26\", \"2020-11-27\", \"2020-11-30\", \"2020-12-01\", \"2020-12-02\", \"2020-12-03\", \"2020-12-04\", \"2020-12-07\", \"2020-12-08\", \"2020-12-09\", \"2020-12-10\", \"2020-12-11\", \"2020-12-14\", \"2020-12-15\", \"2020-12-16\", \"2020-12-17\", \"2020-12-18\", \"2020-12-21\", \"2020-12-22\", \"2020-12-23\", \"2020-12-24\", \"2020-12-25\", \"2020-12-28\", \"2020-12-29\", \"2020-12-30\", \"2020-12-31\", \"2021-01-04\", \"2021-01-05\", \"2021-01-06\", \"2021-01-07\", \"2021-01-08\", \"2021-01-11\", \"2021-01-12\", \"2021-01-13\", \"2021-01-14\", \"2021-01-15\", \"2021-01-18\", \"2021-01-19\", \"2021-01-20\", \"2021-01-21\", \"2021-01-22\", \"2021-01-25\", \"2021-01-26\", \"2021-01-27\", \"2021-01-28\", \"2021-01-29\", \"2021-02-01\", \"2021-02-02\", \"2021-02-03\", \"2021-02-04\", \"2021-02-05\", \"2021-02-08\", \"2021-02-09\", \"2021-02-10\"], \"xaxis\": \"x2\", \"y\": [0.0, 0.0, 0.0019035238108160673, -0.0014859666060649838, -0.011048227693800722, -0.010862681684758076, -0.00140572295481208, -0.0011709317174567677, -0.015274931382081455, -0.006684033532491522, -0.02907927463285989, -0.005998867194822219, -0.011659309761793905, -0.011224383253531006, -0.0036036451185704962, -0.01332497481806856, -0.006073841599382776, 0.046510003275331877, 0.07193958272497071, 0.06535574150664435, 0.037602511909721435, 0.011546562008651756, 0.01371679977547173, -0.0037287468165991128, -0.0009062763113388828, -0.009142440323037904, -0.02771828441878716, -0.039047360604410164, -0.027948649032652897, -0.01064263370494316, 0.015748966380941136, 0.017328242644913318, 0.015352752873755617, 0.0031627224218127407, -0.009826414831785923, 0.016291071954377016, -0.011329197642910536, -0.012574387407736153, -0.01694795647264322, 0.0015057317258961042, 0.028735990857986938, 0.09361708868472857, 0.10861321771403412, 0.1289707786478757, 0.12256334167927957, 0.1957704482506601, 0.19469310089639918, 0.2323440654495219, 0.08856643176681545, -0.046339033266344254, -0.09675802776324216, -0.06782415240392492, -0.06392239031205221, -0.0669469549726478, -0.08296107126866498, -0.15463772433743916, -0.16567426454241013, -0.15240615793446968, -0.08773154187110208, -0.02081321784021893, 0.03618505018422698, 0.0681789160694184, 0.055584406188356056, 0.025694796382824292, 0.01815288515333091, -0.03594443365017205, 0.006290544791506619, -0.034340338776545215, -0.01949964729949713, -0.05673158785450044, -0.06259539679788137, -0.04494114373300666, -0.02690732915006322, -0.04589742971741752, -0.05730233941825185, -0.050747421644698094, -0.057450572794986846, -0.06658753976113851, -0.07874649480143991, -0.03303688091421372, -0.022424691886206105, -0.016793934359988272, 0.0026320373203976843, 0.008618650680181417, -0.002930545550641872, -0.016552788016607256, -0.029078038399475037, -0.024535596004603616, -0.04089620360381327, -0.06352024165313139, -0.055843735226219826, -0.039845537035772594, -0.016774265421886203, -0.017701481682016462, 0.0028319809433810517, 0.029534135626004487, 0.03290585077254876, 0.012951454829411901, 0.006107010608031482, -0.016431642358586296, -0.022121702482266192, -0.023515772749501895, -0.017249392699062505, -0.012200616263286501, 0.008289930982210036, 0.058167184000621985, 0.067163607590319, 0.051853028479156155, -0.06391417778157371, -0.10984756532448775, -0.11402802996002004, -0.10494049737673006, -0.08902704046799786, -0.06817925544766384, -0.05872246258454217, -0.062320769537106635, -0.053934964682354036, -0.05237558188700431, -0.024102577320064378, -0.02332082824533044, -0.0045624610829680945, 0.03024228895709602, 0.03921213724149086, 0.06533850408366593, 0.06889772842627306, 0.08416925179904622, 0.079636441390039, 0.05403026507440539, 0.03931558814206165, 0.0346060077640824, 0.04371748015092941, 0.040528956199695376, 0.041569622269256146, 0.038452973596350026, 0.04482224175202831, 0.0466477436385436, 0.05154717944433185, 0.09724395009291534, 0.09978710207356666, 0.08326619476771675, 0.0788949236686699, 0.06866354615069252, 0.04036655750700464, 0.008105826290630433, -0.001210264793369064, -0.021726487586062704, -0.03663260920876339, -0.06349126305055341, -0.05998835760554673, -0.06963687506121201, -0.06462498752939483, -0.03901381238735113, -0.043002311199592, -0.030958541179783777, -0.024691424584049854, -0.008655137761053533, -0.012754080642047722, -0.01360269214802709, -0.05891799051297553, -0.0592284455066629, -0.06051500718982805, -0.03955585292005642, -0.022932151086013874, -0.002883921875660278, 0.015880875407793926, 0.011191716124587081, -0.023010450772410262, -0.06844746526262302, -0.058558981833484125, -0.04855962420383486, -0.046935512265971646, -0.07636355052796356, -0.0461754287967735, 0.0014843837237435986, 0.027855164652770048, 0.07282951271693411, 0.06744259131348257, 0.06335417159993711, 0.03971187002784865, 0.003485750309657032, -0.014677947717063156, -0.0024460808762341024, 0.024551260361134475, 0.022593326114055567, -0.0005807336357463444, 0.001823250921408448, -0.016695577872307688, -0.04134808457435629, -0.03364160818925582, -0.013213587792618664, 0.004316868414563135, 0.025577705377142657], \"yaxis\": \"y2\"}, {\"name\": \"macd_high\", \"type\": \"bar\", \"x\": [\"2020-05-06\", \"2020-05-07\", \"2020-05-08\", \"2020-05-11\", \"2020-05-12\", \"2020-05-13\", \"2020-05-14\", \"2020-05-15\", \"2020-05-18\", \"2020-05-19\", \"2020-05-20\", \"2020-05-21\", \"2020-05-22\", \"2020-05-25\", \"2020-05-26\", \"2020-05-27\", \"2020-05-28\", \"2020-05-29\", \"2020-06-01\", \"2020-06-02\", \"2020-06-03\", \"2020-06-04\", \"2020-06-05\", \"2020-06-08\", \"2020-06-09\", \"2020-06-10\", \"2020-06-11\", \"2020-06-12\", \"2020-06-15\", \"2020-06-16\", \"2020-06-17\", \"2020-06-18\", \"2020-06-19\", \"2020-06-22\", \"2020-06-23\", \"2020-06-24\", \"2020-06-29\", \"2020-06-30\", \"2020-07-01\", \"2020-07-02\", \"2020-07-03\", \"2020-07-06\", \"2020-07-07\", \"2020-07-08\", \"2020-07-09\", \"2020-07-10\", \"2020-07-13\", \"2020-07-14\", \"2020-07-15\", \"2020-07-16\", \"2020-07-17\", \"2020-07-20\", \"2020-07-21\", \"2020-07-22\", \"2020-07-23\", \"2020-07-24\", \"2020-07-27\", \"2020-07-28\", \"2020-07-29\", \"2020-07-30\", \"2020-07-31\", \"2020-08-03\", \"2020-08-04\", \"2020-08-05\", \"2020-08-06\", \"2020-08-07\", \"2020-08-10\", \"2020-08-11\", \"2020-08-12\", \"2020-08-13\", \"2020-08-14\", \"2020-08-17\", \"2020-08-18\", \"2020-08-19\", \"2020-08-20\", \"2020-08-21\", \"2020-08-24\", \"2020-08-25\", \"2020-08-26\", \"2020-08-27\", \"2020-08-28\", \"2020-08-31\", \"2020-09-01\", \"2020-09-02\", \"2020-09-03\", \"2020-09-04\", \"2020-09-07\", \"2020-09-08\", \"2020-09-09\", \"2020-09-10\", \"2020-09-11\", \"2020-09-14\", \"2020-09-15\", \"2020-09-16\", \"2020-09-17\", \"2020-09-18\", \"2020-09-21\", \"2020-09-22\", \"2020-09-23\", \"2020-09-24\", \"2020-09-25\", \"2020-09-28\", \"2020-09-29\", \"2020-09-30\", \"2020-10-09\", \"2020-10-12\", \"2020-10-13\", \"2020-10-14\", \"2020-10-15\", \"2020-10-16\", \"2020-10-19\", \"2020-10-20\", \"2020-10-21\", \"2020-10-22\", \"2020-10-23\", \"2020-10-26\", \"2020-10-27\", \"2020-10-28\", \"2020-10-29\", \"2020-10-30\", \"2020-11-02\", \"2020-11-03\", \"2020-11-04\", \"2020-11-05\", \"2020-11-06\", \"2020-11-09\", \"2020-11-10\", \"2020-11-11\", \"2020-11-12\", \"2020-11-13\", \"2020-11-16\", \"2020-11-17\", \"2020-11-18\", \"2020-11-19\", \"2020-11-20\", \"2020-11-23\", \"2020-11-24\", \"2020-11-25\", \"2020-11-26\", \"2020-11-27\", \"2020-11-30\", \"2020-12-01\", \"2020-12-02\", \"2020-12-03\", \"2020-12-04\", \"2020-12-07\", \"2020-12-08\", \"2020-12-09\", \"2020-12-10\", \"2020-12-11\", \"2020-12-14\", \"2020-12-15\", \"2020-12-16\", \"2020-12-17\", \"2020-12-18\", \"2020-12-21\", \"2020-12-22\", \"2020-12-23\", \"2020-12-24\", \"2020-12-25\", \"2020-12-28\", \"2020-12-29\", \"2020-12-30\", \"2020-12-31\", \"2021-01-04\", \"2021-01-05\", \"2021-01-06\", \"2021-01-07\", \"2021-01-08\", \"2021-01-11\", \"2021-01-12\", \"2021-01-13\", \"2021-01-14\", \"2021-01-15\", \"2021-01-18\", \"2021-01-19\", \"2021-01-20\", \"2021-01-21\", \"2021-01-22\", \"2021-01-25\", \"2021-01-26\", \"2021-01-27\", \"2021-01-28\", \"2021-01-29\", \"2021-02-01\", \"2021-02-02\", \"2021-02-03\", \"2021-02-04\", \"2021-02-05\", \"2021-02-08\", \"2021-02-09\", \"2021-02-10\"], \"xaxis\": \"x3\", \"y\": [0.0, 0.004435294117647004, -0.002772095432376793, 0.003567069618361912, -0.011237558434058775, -0.019499441047777684, -0.005560134210520656, -0.00039453803807826086, -0.0060445562852967025, -0.004087976197426513, -0.018090646111757192, 0.010851181311733269, -0.007556519528007451, -0.0009088248906246703, -0.018033626135191765, -0.02642613163758932, -0.01368962093346883, 0.03717371177281223, 0.0615296340378672, 0.08445504168854052, 0.045696856633549936, 0.013738587338362904, 0.0009789057180771138, -0.017485687698013758, -0.020042654318284732, -0.020699170388336928, -0.029042936218411728, -0.0479658696196863, -0.020889977631054393, -0.011808143938689918, 0.006279409179943428, 0.01669174924317239, 0.013462007080831397, 0.004907671431226317, -0.006497878762395689, 0.018314619944538507, 0.009860535784147402, -0.011363506618103357, -0.024115592624557446, -0.007996601732822935, 0.012589820162134654, 0.08449719621106291, 0.1330170810796658, 0.13887717839046387, 0.13064935304847092, 0.2166002595438119, 0.2034138900290795, 0.258338314203707, 0.16521826264016004, 0.03651297209080795, -0.07685567816656824, -0.10758025678648753, -0.08968533268012502, -0.09527627846315162, -0.12207290443001112, -0.1222135524324443, -0.16520667886842705, -0.16980367358543977, -0.13465557320470323, -0.024606308698644136, 0.04696874016897859, 0.05388742510149869, 0.030619479571395603, -0.004125421457407408, -0.00040186031177297243, -0.030574153306832552, 0.008238678257615872, 0.013718002709573074, -0.017610283969416496, -0.04527241847519836, -0.08751365311082947, -0.07812474803115882, -0.04973283629868498, -0.048162957620477384, -0.05773395241934097, -0.06294714303008989, -0.05970991631475668, -0.06401946537646892, -0.07233142969935608, -0.014563292127750732, -0.0343303411852989, -0.0285130415005031, -0.016269132310203854, 0.000773819553124111, -0.0027326498786460207, -0.027224396100141518, -0.022049152450737963, -0.03076009306391511, -0.034707888838691, -0.034061692206441174, -0.0552763181462092, -0.04193143053901249, -0.03038126442521566, -0.01360927076824664, -0.004213775135378073, 0.022912902576398664, 0.037057716573671906, 0.025194521548479065, 0.009413634293367223, -0.00407411834844279, -0.01473400719636303, -0.015299070177258234, -0.016981657132737527, -0.013274093018892763, 0.003312455391626723, 0.052457567735627764, 0.06402768745094295, 0.056025710786314714, -0.016501050403216005, -0.08949205099755297, -0.10796664503875081, -0.11327493935739491, -0.09505531120668193, -0.08174657143042124, -0.06627129353652539, -0.05158042772771354, -0.060987277813552176, -0.054888889972136146, -0.026209384977640027, -0.008385477284804987, -0.0011728319573791612, 0.01718453790824548, 0.030232314646830516, 0.05380966985691027, 0.06351031258436735, 0.06935026201863087, 0.07417557562861415, 0.05903505796776409, 0.037219922029777586, 0.02639596868423011, 0.034375307870104954, 0.03972071206153577, 0.03929807332678914, 0.03626642619027037, 0.04337177218607102, 0.04611489742749392, 0.06109188740407581, 0.13767984520795373, 0.12196845755007324, 0.08736164959546204, 0.08214748038304837, 0.059981383067496126, 0.04072148388402493, 0.012161701657387811, 0.005620702321764832, -0.018454204915486758, -0.026219701388453153, -0.04801874940070336, -0.07057657758319827, -0.07335394039786604, -0.07252115070272191, -0.04773412205192695, -0.03808445471958244, -0.043218406074936766, -0.033318626657759864, -0.023782593496370324, -0.013708523710966342, -0.010220877330127026, -0.0209518831780037, -0.05445565075623776, -0.05759937189502684, -0.049067218408683055, -0.030971787154464636, -0.018507434088184394, -0.002621780116684125, 0.00518066398433259, -0.0043908905041837865, -0.030955999001862355, -0.05161303912833359, -0.044551732023732804, -0.0468099981977364, -0.05236813278166119, -0.049011570079765754, -0.007082486520374076, 0.012188950955796418, 0.05608280515212538, 0.05975643142234094, 0.05121876296802058, 0.03656297869747843, 0.011905594391633134, -0.011811332710231437, -0.0023614389407294323, 0.02523570325557456, 0.04177983019664655, 0.018025806397528044, 0.009973325054165982, -0.00703493642767361, -0.03831851161863664, -0.04345140312097051, -0.03480809399295026, -0.023192050206054915, 0.001120129373223644], \"yaxis\": \"y3\"}, {\"name\": \"macd_low\", \"type\": \"bar\", \"x\": [\"2020-05-06\", \"2020-05-07\", \"2020-05-08\", \"2020-05-11\", \"2020-05-12\", \"2020-05-13\", \"2020-05-14\", \"2020-05-15\", \"2020-05-18\", \"2020-05-19\", \"2020-05-20\", \"2020-05-21\", \"2020-05-22\", \"2020-05-25\", \"2020-05-26\", \"2020-05-27\", \"2020-05-28\", \"2020-05-29\", \"2020-06-01\", \"2020-06-02\", \"2020-06-03\", \"2020-06-04\", \"2020-06-05\", \"2020-06-08\", \"2020-06-09\", \"2020-06-10\", \"2020-06-11\", \"2020-06-12\", \"2020-06-15\", \"2020-06-16\", \"2020-06-17\", \"2020-06-18\", \"2020-06-19\", \"2020-06-22\", \"2020-06-23\", \"2020-06-24\", \"2020-06-29\", \"2020-06-30\", \"2020-07-01\", \"2020-07-02\", \"2020-07-03\", \"2020-07-06\", \"2020-07-07\", \"2020-07-08\", \"2020-07-09\", \"2020-07-10\", \"2020-07-13\", \"2020-07-14\", \"2020-07-15\", \"2020-07-16\", \"2020-07-17\", \"2020-07-20\", \"2020-07-21\", \"2020-07-22\", \"2020-07-23\", \"2020-07-24\", \"2020-07-27\", \"2020-07-28\", \"2020-07-29\", \"2020-07-30\", \"2020-07-31\", \"2020-08-03\", \"2020-08-04\", \"2020-08-05\", \"2020-08-06\", \"2020-08-07\", \"2020-08-10\", \"2020-08-11\", \"2020-08-12\", \"2020-08-13\", \"2020-08-14\", \"2020-08-17\", \"2020-08-18\", \"2020-08-19\", \"2020-08-20\", \"2020-08-21\", \"2020-08-24\", \"2020-08-25\", \"2020-08-26\", \"2020-08-27\", \"2020-08-28\", \"2020-08-31\", \"2020-09-01\", \"2020-09-02\", \"2020-09-03\", \"2020-09-04\", \"2020-09-07\", \"2020-09-08\", \"2020-09-09\", \"2020-09-10\", \"2020-09-11\", \"2020-09-14\", \"2020-09-15\", \"2020-09-16\", \"2020-09-17\", \"2020-09-18\", \"2020-09-21\", \"2020-09-22\", \"2020-09-23\", \"2020-09-24\", \"2020-09-25\", \"2020-09-28\", \"2020-09-29\", \"2020-09-30\", \"2020-10-09\", \"2020-10-12\", \"2020-10-13\", \"2020-10-14\", \"2020-10-15\", \"2020-10-16\", \"2020-10-19\", \"2020-10-20\", \"2020-10-21\", \"2020-10-22\", \"2020-10-23\", \"2020-10-26\", \"2020-10-27\", \"2020-10-28\", \"2020-10-29\", \"2020-10-30\", \"2020-11-02\", \"2020-11-03\", \"2020-11-04\", \"2020-11-05\", \"2020-11-06\", \"2020-11-09\", \"2020-11-10\", \"2020-11-11\", \"2020-11-12\", \"2020-11-13\", \"2020-11-16\", \"2020-11-17\", \"2020-11-18\", \"2020-11-19\", \"2020-11-20\", \"2020-11-23\", \"2020-11-24\", \"2020-11-25\", \"2020-11-26\", \"2020-11-27\", \"2020-11-30\", \"2020-12-01\", \"2020-12-02\", \"2020-12-03\", \"2020-12-04\", \"2020-12-07\", \"2020-12-08\", \"2020-12-09\", \"2020-12-10\", \"2020-12-11\", \"2020-12-14\", \"2020-12-15\", \"2020-12-16\", \"2020-12-17\", \"2020-12-18\", \"2020-12-21\", \"2020-12-22\", \"2020-12-23\", \"2020-12-24\", \"2020-12-25\", \"2020-12-28\", \"2020-12-29\", \"2020-12-30\", \"2020-12-31\", \"2021-01-04\", \"2021-01-05\", \"2021-01-06\", \"2021-01-07\", \"2021-01-08\", \"2021-01-11\", \"2021-01-12\", \"2021-01-13\", \"2021-01-14\", \"2021-01-15\", \"2021-01-18\", \"2021-01-19\", \"2021-01-20\", \"2021-01-21\", \"2021-01-22\", \"2021-01-25\", \"2021-01-26\", \"2021-01-27\", \"2021-01-28\", \"2021-01-29\", \"2021-02-01\", \"2021-02-02\", \"2021-02-03\", \"2021-02-04\", \"2021-02-05\", \"2021-02-08\", \"2021-02-09\", \"2021-02-10\"], \"xaxis\": \"x4\", \"y\": [0.0, 0.005800000000000338, 0.004037855672999883, -0.00020340195351798394, -0.01060536325041483, -0.009995471626231362, -0.010402876320619448, 0.00024363284057485942, -0.010320420483157428, -0.00695503716926045, -0.025830099612884166, -0.018401149185380453, -0.020975146649204857, -0.011721024201056293, -0.005201841841818683, -0.005538228753449344, -0.002169747025052883, 0.0268279635319911, 0.05382138970567513, 0.07079129725516642, 0.05378552803581679, 0.023065348534280043, 0.007931887387494709, 0.003066703594108197, -0.0003161240471330484, -0.006063581574074481, -0.020651582799198716, -0.04722748168365706, -0.023808765797214297, -0.007375478931416129, -0.003155965061424842, 0.01314465805918348, 0.019683714422417207, 0.013994382636694763, 0.00033751468077533944, -0.005801860290752157, -0.01329341905715702, -0.013040299836100118, -0.014899326000530018, -0.011880478315087161, 0.012677658979083265, 0.04998379161423272, 0.0998047336604944, 0.11837735617048259, 0.13144765144978457, 0.11780683472385267, 0.17401678112324603, 0.18334343310453632, 0.11060357543442173, 0.0037498860312205062, -0.06991351037260096, -0.06261424863022735, -0.025679151776151876, -0.025025651315530306, -0.08145470892228529, -0.12791907230773086, -0.14108143810758722, -0.12844789867541068, -0.1040898319690987, -0.0134470749936111, 0.023057178152954827, 0.07204009692442306, 0.06229954884964997, 0.03257740630594674, 0.01851311631365765, -0.033017460556185346, -0.017787001675737185, -0.027925917522034438, -0.030608669877163236, -0.04428403432918718, -0.05673712036067752, -0.037240724255277385, -0.015970575832135583, -0.02797991150534862, -0.041087150528362155, -0.03974186914560074, -0.04880725453200707, -0.06068303173857956, -0.0772390997312039, -0.03235400945376281, -0.03750313157726484, -0.02406803750235717, -0.030267896596971544, -0.008722063183660589, -0.0005057610471427276, -0.015543103362689215, -0.01794117725723926, -0.025637639470149215, -0.03434013588520543, -0.05309377988129124, -0.06212326653443609, -0.04153671299130407, -0.02212811052498631, -0.01492261451253446, -0.0026809263191615584, 0.01921493291062565, 0.036522741358598926, 0.019870644016205308, 0.015058384684831644, -0.008154815176291796, -0.019294522694015687, -0.0182111735528116, -0.012038954885883635, -0.01738419879639247, 0.002732132597765058, 0.023390635766314227, 0.05419059770610521, 0.05524033930953523, -0.05606519136359864, -0.10318169588884546, -0.10710994092288217, -0.10829159037728608, -0.09090649075436791, -0.08226435816459565, -0.05953520841668836, -0.06124140847770143, -0.05783820414302221, -0.0652779956271371, -0.048217615411864645, -0.02107321618408753, -0.004321397341919497, 0.022384476983723034, 0.045791048309816396, 0.06801052243689554, 0.07706183558020041, 0.08439298803587425, 0.0876252597499218, 0.0605260263204479, 0.04428350327476621, 0.03452634962262158, 0.03780492104810751, 0.04401710422966271, 0.046648671364443284, 0.04160086326348983, 0.03560105208598091, 0.04084207472571991, 0.05165974603540638, 0.05932711103974517, 0.08082136821027028, 0.08072701645881059, 0.08029222761451678, 0.07742309579016837, 0.05686323986298929, 0.02581220537532842, 0.00916937346123522, -0.006586871703576731, -0.019778874535963782, -0.050223183656074005, -0.057645173740671705, -0.07061150437886186, -0.07079426422946973, -0.05225713952850522, -0.042804023386131235, -0.047382322696728485, -0.021931271703176325, -0.016691314144821057, -0.011323908342342648, -0.004722678190666713, -0.04818897380837961, -0.0714128299931705, -0.05859435869265822, -0.04125651030041305, -0.018605939340133493, 0.0014557760827573207, 0.012161037237104377, 0.013724418413241957, -0.02014488323299196, -0.0677932860484976, -0.09586841108851002, -0.056062655741892786, -0.04076210803623931, -0.06333781477698952, -0.05779391874851092, -0.013237597954998015, 0.03062094036638563, 0.04959300179096365, 0.07180304468953597, 0.0734695977889479, 0.05846843459289425, 0.0234291734149914, 0.0011987357363431594, 0.00025165039057367666, 0.010192237653633474, 0.017749796010481933, 0.0010692274415832759, -0.0032441280070263367, -0.009130688706465329, -0.044275186675790945, -0.03320486339883627, -0.022481354349177363, 0.0033470952392812836, 0.022751855991862246], \"yaxis\": \"y4\"}],                        {\"annotations\": [{\"font\": {\"size\": 16}, \"showarrow\": false, \"text\": \"y\\u8f74\\u6807\\u9898\", \"textangle\": -90, \"x\": 0, \"xanchor\": \"right\", \"xref\": \"paper\", \"xshift\": -40, \"y\": 0.5, \"yanchor\": \"middle\", \"yref\": \"paper\"}], \"coloraxis\": {\"colorbar\": {\"ticks\": \"outside\", \"x\": 0.75, \"xanchor\": \"left\"}}, \"font\": {\"color\": \"RebeccaPurple\", \"family\": \"Times New Roman\", \"size\": 20}, \"height\": 800, \"margin\": {\"b\": 0, \"l\": 20, \"r\": 0, \"t\": 0}, \"template\": {\"data\": {\"bar\": [{\"error_x\": {\"color\": \"#2a3f5f\"}, \"error_y\": {\"color\": \"#2a3f5f\"}, \"marker\": {\"line\": {\"color\": \"#E5ECF6\", \"width\": 0.5}}, \"type\": \"bar\"}], \"barpolar\": [{\"marker\": {\"line\": {\"color\": \"#E5ECF6\", \"width\": 0.5}}, \"type\": \"barpolar\"}], \"carpet\": [{\"aaxis\": {\"endlinecolor\": \"#2a3f5f\", \"gridcolor\": \"white\", \"linecolor\": \"white\", \"minorgridcolor\": \"white\", \"startlinecolor\": \"#2a3f5f\"}, \"baxis\": {\"endlinecolor\": \"#2a3f5f\", \"gridcolor\": \"white\", \"linecolor\": \"white\", \"minorgridcolor\": \"white\", \"startlinecolor\": \"#2a3f5f\"}, \"type\": \"carpet\"}], \"choropleth\": [{\"colorbar\": {\"outlinewidth\": 0, \"ticks\": \"\"}, \"type\": \"choropleth\"}], \"contour\": [{\"colorbar\": {\"outlinewidth\": 0, \"ticks\": \"\"}, \"colorscale\": [[0.0, \"#0d0887\"], [0.1111111111111111, \"#46039f\"], [0.2222222222222222, \"#7201a8\"], [0.3333333333333333, \"#9c179e\"], [0.4444444444444444, \"#bd3786\"], [0.5555555555555556, \"#d8576b\"], [0.6666666666666666, \"#ed7953\"], [0.7777777777777778, \"#fb9f3a\"], [0.8888888888888888, \"#fdca26\"], [1.0, \"#f0f921\"]], \"type\": \"contour\"}], \"contourcarpet\": [{\"colorbar\": {\"outlinewidth\": 0, \"ticks\": \"\"}, \"type\": \"contourcarpet\"}], \"heatmap\": [{\"colorbar\": {\"outlinewidth\": 0, \"ticks\": \"\"}, \"colorscale\": [[0.0, \"#0d0887\"], [0.1111111111111111, \"#46039f\"], [0.2222222222222222, \"#7201a8\"], [0.3333333333333333, \"#9c179e\"], [0.4444444444444444, \"#bd3786\"], [0.5555555555555556, \"#d8576b\"], [0.6666666666666666, \"#ed7953\"], [0.7777777777777778, \"#fb9f3a\"], [0.8888888888888888, \"#fdca26\"], [1.0, \"#f0f921\"]], \"type\": \"heatmap\"}], \"heatmapgl\": [{\"colorbar\": {\"outlinewidth\": 0, \"ticks\": \"\"}, \"colorscale\": [[0.0, \"#0d0887\"], [0.1111111111111111, \"#46039f\"], [0.2222222222222222, \"#7201a8\"], [0.3333333333333333, \"#9c179e\"], [0.4444444444444444, \"#bd3786\"], [0.5555555555555556, \"#d8576b\"], [0.6666666666666666, \"#ed7953\"], [0.7777777777777778, \"#fb9f3a\"], [0.8888888888888888, \"#fdca26\"], [1.0, \"#f0f921\"]], \"type\": \"heatmapgl\"}], \"histogram\": [{\"marker\": {\"colorbar\": {\"outlinewidth\": 0, \"ticks\": \"\"}}, \"type\": \"histogram\"}], \"histogram2d\": [{\"colorbar\": {\"outlinewidth\": 0, \"ticks\": \"\"}, \"colorscale\": [[0.0, \"#0d0887\"], [0.1111111111111111, \"#46039f\"], [0.2222222222222222, \"#7201a8\"], [0.3333333333333333, \"#9c179e\"], [0.4444444444444444, \"#bd3786\"], [0.5555555555555556, \"#d8576b\"], [0.6666666666666666, \"#ed7953\"], [0.7777777777777778, \"#fb9f3a\"], [0.8888888888888888, \"#fdca26\"], [1.0, \"#f0f921\"]], \"type\": \"histogram2d\"}], \"histogram2dcontour\": [{\"colorbar\": {\"outlinewidth\": 0, \"ticks\": \"\"}, \"colorscale\": [[0.0, \"#0d0887\"], [0.1111111111111111, \"#46039f\"], [0.2222222222222222, \"#7201a8\"], [0.3333333333333333, \"#9c179e\"], [0.4444444444444444, \"#bd3786\"], [0.5555555555555556, \"#d8576b\"], [0.6666666666666666, \"#ed7953\"], [0.7777777777777778, \"#fb9f3a\"], [0.8888888888888888, \"#fdca26\"], [1.0, \"#f0f921\"]], \"type\": \"histogram2dcontour\"}], \"mesh3d\": [{\"colorbar\": {\"outlinewidth\": 0, \"ticks\": \"\"}, \"type\": \"mesh3d\"}], \"parcoords\": [{\"line\": {\"colorbar\": {\"outlinewidth\": 0, \"ticks\": \"\"}}, \"type\": \"parcoords\"}], \"pie\": [{\"automargin\": true, \"type\": \"pie\"}], \"scatter\": [{\"marker\": {\"colorbar\": {\"outlinewidth\": 0, \"ticks\": \"\"}}, \"type\": \"scatter\"}], \"scatter3d\": [{\"line\": {\"colorbar\": {\"outlinewidth\": 0, \"ticks\": \"\"}}, \"marker\": {\"colorbar\": {\"outlinewidth\": 0, \"ticks\": \"\"}}, \"type\": \"scatter3d\"}], \"scattercarpet\": [{\"marker\": {\"colorbar\": {\"outlinewidth\": 0, \"ticks\": \"\"}}, \"type\": \"scattercarpet\"}], \"scattergeo\": [{\"marker\": {\"colorbar\": {\"outlinewidth\": 0, \"ticks\": \"\"}}, \"type\": \"scattergeo\"}], \"scattergl\": [{\"marker\": {\"colorbar\": {\"outlinewidth\": 0, \"ticks\": \"\"}}, \"type\": \"scattergl\"}], \"scattermapbox\": [{\"marker\": {\"colorbar\": {\"outlinewidth\": 0, \"ticks\": \"\"}}, \"type\": \"scattermapbox\"}], \"scatterpolar\": [{\"marker\": {\"colorbar\": {\"outlinewidth\": 0, \"ticks\": \"\"}}, \"type\": \"scatterpolar\"}], \"scatterpolargl\": [{\"marker\": {\"colorbar\": {\"outlinewidth\": 0, \"ticks\": \"\"}}, \"type\": \"scatterpolargl\"}], \"scatterternary\": [{\"marker\": {\"colorbar\": {\"outlinewidth\": 0, \"ticks\": \"\"}}, \"type\": \"scatterternary\"}], \"surface\": [{\"colorbar\": {\"outlinewidth\": 0, \"ticks\": \"\"}, \"colorscale\": [[0.0, \"#0d0887\"], [0.1111111111111111, \"#46039f\"], [0.2222222222222222, \"#7201a8\"], [0.3333333333333333, \"#9c179e\"], [0.4444444444444444, \"#bd3786\"], [0.5555555555555556, \"#d8576b\"], [0.6666666666666666, \"#ed7953\"], [0.7777777777777778, \"#fb9f3a\"], [0.8888888888888888, \"#fdca26\"], [1.0, \"#f0f921\"]], \"type\": \"surface\"}], \"table\": [{\"cells\": {\"fill\": {\"color\": \"#EBF0F8\"}, \"line\": {\"color\": \"white\"}}, \"header\": {\"fill\": {\"color\": \"#C8D4E3\"}, \"line\": {\"color\": \"white\"}}, \"type\": \"table\"}]}, \"layout\": {\"annotationdefaults\": {\"arrowcolor\": \"#2a3f5f\", \"arrowhead\": 0, \"arrowwidth\": 1}, \"autotypenumbers\": \"strict\", \"coloraxis\": {\"colorbar\": {\"outlinewidth\": 0, \"ticks\": \"\"}}, \"colorscale\": {\"diverging\": [[0, \"#8e0152\"], [0.1, \"#c51b7d\"], [0.2, \"#de77ae\"], [0.3, \"#f1b6da\"], [0.4, \"#fde0ef\"], [0.5, \"#f7f7f7\"], [0.6, \"#e6f5d0\"], [0.7, \"#b8e186\"], [0.8, \"#7fbc41\"], [0.9, \"#4d9221\"], [1, \"#276419\"]], \"sequential\": [[0.0, \"#0d0887\"], [0.1111111111111111, \"#46039f\"], [0.2222222222222222, \"#7201a8\"], [0.3333333333333333, \"#9c179e\"], [0.4444444444444444, \"#bd3786\"], [0.5555555555555556, \"#d8576b\"], [0.6666666666666666, \"#ed7953\"], [0.7777777777777778, \"#fb9f3a\"], [0.8888888888888888, \"#fdca26\"], [1.0, \"#f0f921\"]], \"sequentialminus\": [[0.0, \"#0d0887\"], [0.1111111111111111, \"#46039f\"], [0.2222222222222222, \"#7201a8\"], [0.3333333333333333, \"#9c179e\"], [0.4444444444444444, \"#bd3786\"], [0.5555555555555556, \"#d8576b\"], [0.6666666666666666, \"#ed7953\"], [0.7777777777777778, \"#fb9f3a\"], [0.8888888888888888, \"#fdca26\"], [1.0, \"#f0f921\"]]}, \"colorway\": [\"#636efa\", \"#EF553B\", \"#00cc96\", \"#ab63fa\", \"#FFA15A\", \"#19d3f3\", \"#FF6692\", \"#B6E880\", \"#FF97FF\", \"#FECB52\"], \"font\": {\"color\": \"#2a3f5f\"}, \"geo\": {\"bgcolor\": \"white\", \"lakecolor\": \"white\", \"landcolor\": \"#E5ECF6\", \"showlakes\": true, \"showland\": true, \"subunitcolor\": \"white\"}, \"hoverlabel\": {\"align\": \"left\"}, \"hovermode\": \"closest\", \"mapbox\": {\"style\": \"light\"}, \"paper_bgcolor\": \"white\", \"plot_bgcolor\": \"#E5ECF6\", \"polar\": {\"angularaxis\": {\"gridcolor\": \"white\", \"linecolor\": \"white\", \"ticks\": \"\"}, \"bgcolor\": \"#E5ECF6\", \"radialaxis\": {\"gridcolor\": \"white\", \"linecolor\": \"white\", \"ticks\": \"\"}}, \"scene\": {\"xaxis\": {\"backgroundcolor\": \"#E5ECF6\", \"gridcolor\": \"white\", \"gridwidth\": 2, \"linecolor\": \"white\", \"showbackground\": true, \"ticks\": \"\", \"zerolinecolor\": \"white\"}, \"yaxis\": {\"backgroundcolor\": \"#E5ECF6\", \"gridcolor\": \"white\", \"gridwidth\": 2, \"linecolor\": \"white\", \"showbackground\": true, \"ticks\": \"\", \"zerolinecolor\": \"white\"}, \"zaxis\": {\"backgroundcolor\": \"#E5ECF6\", \"gridcolor\": \"white\", \"gridwidth\": 2, \"linecolor\": \"white\", \"showbackground\": true, \"ticks\": \"\", \"zerolinecolor\": \"white\"}}, \"shapedefaults\": {\"line\": {\"color\": \"#2a3f5f\"}}, \"ternary\": {\"aaxis\": {\"gridcolor\": \"white\", \"linecolor\": \"white\", \"ticks\": \"\"}, \"baxis\": {\"gridcolor\": \"white\", \"linecolor\": \"white\", \"ticks\": \"\"}, \"bgcolor\": \"#E5ECF6\", \"caxis\": {\"gridcolor\": \"white\", \"linecolor\": \"white\", \"ticks\": \"\"}}, \"title\": {\"x\": 0.05}, \"xaxis\": {\"automargin\": true, \"gridcolor\": \"white\", \"linecolor\": \"white\", \"ticks\": \"\", \"title\": {\"standoff\": 15}, \"zerolinecolor\": \"white\", \"zerolinewidth\": 2}, \"yaxis\": {\"automargin\": true, \"gridcolor\": \"white\", \"linecolor\": \"white\", \"ticks\": \"\", \"title\": {\"standoff\": 15}, \"zerolinecolor\": \"white\", \"zerolinewidth\": 2}}}, \"title\": {\"x\": 0.5}, \"width\": 1000, \"xaxis\": {\"anchor\": \"y\", \"domain\": [0.0, 1.0], \"matches\": \"x4\", \"rangeslider\": {\"visible\": false}, \"showticklabels\": false}, \"xaxis2\": {\"anchor\": \"y2\", \"domain\": [0.0, 1.0], \"matches\": \"x4\", \"rangeslider\": {\"visible\": false}, \"showticklabels\": false}, \"xaxis3\": {\"anchor\": \"y3\", \"domain\": [0.0, 1.0], \"matches\": \"x4\", \"showticklabels\": false}, \"xaxis4\": {\"anchor\": \"y4\", \"domain\": [0.0, 1.0], \"rangeslider\": {\"visible\": true}}, \"yaxis\": {\"anchor\": \"x\", \"domain\": [0.8, 1]}, \"yaxis2\": {\"anchor\": \"x2\", \"domain\": [0.6, 0.75]}, \"yaxis3\": {\"anchor\": \"x3\", \"domain\": [0.4, 0.55]}, \"yaxis4\": {\"anchor\": \"x4\", \"domain\": [0.1, 0.35]}},                        {\"responsive\": true}                    ).then(function(){\n",
       "                            \n",
       "var gd = document.getElementById('7f32effa-fc25-47db-bee4-5cd4d8d6252c');\n",
       "var x = new MutationObserver(function (mutations, observer) {{\n",
       "        var display = window.getComputedStyle(gd).display;\n",
       "        if (!display || display === 'none') {{\n",
       "            console.log([gd, 'removed!']);\n",
       "            Plotly.purge(gd);\n",
       "            observer.disconnect();\n",
       "        }}\n",
       "}});\n",
       "\n",
       "// Listen for the removal of the full notebook cells\n",
       "var notebookContainer = gd.closest('#notebook-container');\n",
       "if (notebookContainer) {{\n",
       "    x.observe(notebookContainer, {childList: true});\n",
       "}}\n",
       "\n",
       "// Listen for the clearing of the current output cell\n",
       "var outputEl = gd.closest('.output');\n",
       "if (outputEl) {{\n",
       "    x.observe(outputEl, {childList: true});\n",
       "}}\n",
       "\n",
       "                        })                };                });            </script>        </div>"
      ]
     },
     "metadata": {},
     "output_type": "display_data"
    }
   ],
   "source": [
    "stock_index=\"000917\"\n",
    "start_date = \"2020-05-01\"\n",
    "file_name=os.path.join(\"/home/davidyu/stock/data/history_data/dfcf_fuquan/stock_index\",stock_index+\"_fuquan.csv\")\n",
    "df1 = pd.read_csv(file_name)\n",
    "df2 = df1[df1[\"dt\"]>=start_date]\n",
    "# df = df2.copy()\n",
    "# kdj_day = 24\n",
    "# k_stat = 6\n",
    "# d_stat = 3\n",
    "# j_stat = 2\n",
    "# df = new_kdj(df,kdj_day,k_stat,d_stat)  # 卖点\n",
    "\n",
    "\n",
    "\n",
    "MACD_EMA_SHORT = 5\n",
    "MACD_EMA_LONG = 34\n",
    "MACD_EMA_SIGNAL = 5\n",
    "df3=df2.copy()\n",
    "df3 = new_macd(df3,\"close\",MACD_EMA_SHORT,MACD_EMA_LONG,MACD_EMA_SIGNAL)\n",
    "df3[\"macd_close\"] = df3[\"macdh\"]\n",
    "df3 = new_macd(df3,\"high\",MACD_EMA_SHORT,MACD_EMA_LONG,MACD_EMA_SIGNAL)\n",
    "df3[\"macd_high\"] = df3[\"macdh\"]\n",
    "df3 = new_macd(df3,\"low\",MACD_EMA_SHORT,MACD_EMA_LONG,MACD_EMA_SIGNAL)\n",
    "df3[\"macd_low\"] = df3[\"macdh\"]\n",
    "\n",
    "plot_new_macd(df3)"
   ]
  },
  {
   "cell_type": "code",
   "execution_count": 66,
   "metadata": {},
   "outputs": [
    {
     "data": {
      "application/vnd.plotly.v1+json": {
       "config": {
        "plotlyServerURL": "https://plot.ly"
       },
       "data": [
        {
         "mode": "markers+lines",
         "name": "close",
         "type": "scatter",
         "x": [
          "2020-05-06",
          "2020-05-07",
          "2020-05-08",
          "2020-05-11",
          "2020-05-12",
          "2020-05-13",
          "2020-05-14",
          "2020-05-15",
          "2020-05-18",
          "2020-05-19",
          "2020-05-20",
          "2020-05-21",
          "2020-05-22",
          "2020-05-25",
          "2020-05-26",
          "2020-05-27",
          "2020-05-28",
          "2020-05-29",
          "2020-06-01",
          "2020-06-02",
          "2020-06-03",
          "2020-06-04",
          "2020-06-05",
          "2020-06-08",
          "2020-06-09",
          "2020-06-10",
          "2020-06-11",
          "2020-06-12",
          "2020-06-15",
          "2020-06-16",
          "2020-06-17",
          "2020-06-18",
          "2020-06-19",
          "2020-06-22",
          "2020-06-23",
          "2020-06-24",
          "2020-06-29",
          "2020-06-30",
          "2020-07-01",
          "2020-07-02",
          "2020-07-03",
          "2020-07-06",
          "2020-07-07",
          "2020-07-08",
          "2020-07-09",
          "2020-07-10",
          "2020-07-13",
          "2020-07-14",
          "2020-07-15",
          "2020-07-16",
          "2020-07-17",
          "2020-07-20",
          "2020-07-21",
          "2020-07-22",
          "2020-07-23",
          "2020-07-24",
          "2020-07-27",
          "2020-07-28",
          "2020-07-29",
          "2020-07-30",
          "2020-07-31",
          "2020-08-03",
          "2020-08-04",
          "2020-08-05",
          "2020-08-06",
          "2020-08-07",
          "2020-08-10",
          "2020-08-11",
          "2020-08-12",
          "2020-08-13",
          "2020-08-14",
          "2020-08-17",
          "2020-08-18",
          "2020-08-19",
          "2020-08-20",
          "2020-08-21",
          "2020-08-24",
          "2020-08-25",
          "2020-08-26",
          "2020-08-27",
          "2020-08-28",
          "2020-08-31",
          "2020-09-01",
          "2020-09-02",
          "2020-09-03",
          "2020-09-04",
          "2020-09-07",
          "2020-09-08",
          "2020-09-09",
          "2020-09-10",
          "2020-09-11",
          "2020-09-14",
          "2020-09-15",
          "2020-09-16",
          "2020-09-17",
          "2020-09-18",
          "2020-09-21",
          "2020-09-22",
          "2020-09-23",
          "2020-09-24",
          "2020-09-25",
          "2020-09-28",
          "2020-09-29",
          "2020-09-30",
          "2020-10-09",
          "2020-10-12",
          "2020-10-13",
          "2020-10-14",
          "2020-10-15",
          "2020-10-16",
          "2020-10-19",
          "2020-10-20",
          "2020-10-21",
          "2020-10-22",
          "2020-10-23",
          "2020-10-26",
          "2020-10-27",
          "2020-10-28",
          "2020-10-29",
          "2020-10-30",
          "2020-11-02",
          "2020-11-03",
          "2020-11-04",
          "2020-11-05",
          "2020-11-06",
          "2020-11-09",
          "2020-11-10",
          "2020-11-11",
          "2020-11-12",
          "2020-11-13",
          "2020-11-16",
          "2020-11-17",
          "2020-11-18",
          "2020-11-19",
          "2020-11-20",
          "2020-11-23",
          "2020-11-24",
          "2020-11-25",
          "2020-11-26",
          "2020-11-27",
          "2020-11-30",
          "2020-12-01",
          "2020-12-02",
          "2020-12-03",
          "2020-12-04",
          "2020-12-07",
          "2020-12-08",
          "2020-12-09",
          "2020-12-10",
          "2020-12-11",
          "2020-12-14",
          "2020-12-15",
          "2020-12-16",
          "2020-12-17",
          "2020-12-18",
          "2020-12-21",
          "2020-12-22",
          "2020-12-23",
          "2020-12-24",
          "2020-12-25",
          "2020-12-28",
          "2020-12-29",
          "2020-12-30",
          "2020-12-31",
          "2021-01-04",
          "2021-01-05",
          "2021-01-06",
          "2021-01-07",
          "2021-01-08",
          "2021-01-11",
          "2021-01-12",
          "2021-01-13",
          "2021-01-14",
          "2021-01-15",
          "2021-01-18",
          "2021-01-19",
          "2021-01-20",
          "2021-01-21",
          "2021-01-22",
          "2021-01-25",
          "2021-01-26",
          "2021-01-27",
          "2021-01-28",
          "2021-01-29",
          "2021-02-01",
          "2021-02-02",
          "2021-02-03",
          "2021-02-04",
          "2021-02-05",
          "2021-02-08",
          "2021-02-09",
          "2021-02-10"
         ],
         "xaxis": "x",
         "y": [
          4.85,
          4.84,
          4.84,
          4.88,
          4.87,
          4.87,
          4.84,
          4.83,
          4.84,
          4.86,
          4.86,
          4.84,
          4.79,
          4.83,
          4.82,
          4.86,
          4.91,
          4.86,
          4.9,
          4.93,
          4.93,
          4.92,
          4.95,
          4.98,
          5,
          5.01,
          5.01,
          4.96,
          4.98,
          5.04,
          5,
          4.93,
          4.94,
          4.9,
          4.88,
          4.96,
          4.99,
          4.98,
          4.99,
          5.06,
          5.16,
          5.6,
          5.56,
          5.47,
          5.38,
          5.22,
          5.21,
          5.14,
          5.08,
          5.06,
          5.06,
          5.13,
          5.1,
          5.09,
          5.03,
          4.98,
          4.97,
          4.98,
          5.02,
          4.98,
          4.96,
          4.98,
          5.05,
          5,
          5.02,
          4.98,
          4.99,
          4.98,
          4.99,
          4.98,
          5.02,
          5.09,
          5.05,
          5.03,
          5,
          5.01,
          4.99,
          5,
          4.98,
          4.97,
          5,
          4.96,
          4.96,
          4.92,
          4.91,
          4.9,
          4.9,
          4.95,
          4.94,
          4.91,
          4.93,
          4.93,
          4.92,
          4.94,
          4.94,
          4.98,
          4.96,
          4.93,
          4.92,
          4.9,
          4.89,
          4.94,
          4.91,
          4.92,
          4.91,
          4.96,
          4.92,
          4.92,
          4.93,
          4.99,
          5.02,
          4.98,
          5.05,
          5.06,
          5.06,
          5.02,
          5.03,
          5,
          4.96,
          4.92,
          4.94,
          4.95,
          4.95,
          4.95,
          4.96,
          4.98,
          5.02,
          5.07,
          5.01,
          4.96,
          4.98,
          5,
          5.03,
          5.04,
          5.03,
          5.07,
          5.05,
          5.04,
          5.09,
          5.39,
          5.32,
          5.47,
          5.45,
          5.38,
          5.31,
          5.19,
          5.12,
          5.1,
          5.06,
          5.08,
          5.05,
          5.01,
          5,
          5.03,
          5,
          5,
          4.94,
          4.96,
          4.96,
          4.97,
          4.97,
          4.98,
          4.96,
          4.99,
          5.01,
          4.97,
          4.97,
          5,
          5,
          4.99,
          5.02,
          5.06,
          5.08,
          5.15,
          5.14,
          5.2,
          5.15,
          5.13,
          5.04,
          5.05,
          5.03,
          5.07,
          5.03,
          5.09,
          5.14,
          5.09,
          5.04,
          5.07,
          5.18,
          5.16,
          5.15,
          5.25
         ],
         "yaxis": "y"
        },
        {
         "name": "macd_close",
         "type": "bar",
         "x": [
          "2020-05-06",
          "2020-05-07",
          "2020-05-08",
          "2020-05-11",
          "2020-05-12",
          "2020-05-13",
          "2020-05-14",
          "2020-05-15",
          "2020-05-18",
          "2020-05-19",
          "2020-05-20",
          "2020-05-21",
          "2020-05-22",
          "2020-05-25",
          "2020-05-26",
          "2020-05-27",
          "2020-05-28",
          "2020-05-29",
          "2020-06-01",
          "2020-06-02",
          "2020-06-03",
          "2020-06-04",
          "2020-06-05",
          "2020-06-08",
          "2020-06-09",
          "2020-06-10",
          "2020-06-11",
          "2020-06-12",
          "2020-06-15",
          "2020-06-16",
          "2020-06-17",
          "2020-06-18",
          "2020-06-19",
          "2020-06-22",
          "2020-06-23",
          "2020-06-24",
          "2020-06-29",
          "2020-06-30",
          "2020-07-01",
          "2020-07-02",
          "2020-07-03",
          "2020-07-06",
          "2020-07-07",
          "2020-07-08",
          "2020-07-09",
          "2020-07-10",
          "2020-07-13",
          "2020-07-14",
          "2020-07-15",
          "2020-07-16",
          "2020-07-17",
          "2020-07-20",
          "2020-07-21",
          "2020-07-22",
          "2020-07-23",
          "2020-07-24",
          "2020-07-27",
          "2020-07-28",
          "2020-07-29",
          "2020-07-30",
          "2020-07-31",
          "2020-08-03",
          "2020-08-04",
          "2020-08-05",
          "2020-08-06",
          "2020-08-07",
          "2020-08-10",
          "2020-08-11",
          "2020-08-12",
          "2020-08-13",
          "2020-08-14",
          "2020-08-17",
          "2020-08-18",
          "2020-08-19",
          "2020-08-20",
          "2020-08-21",
          "2020-08-24",
          "2020-08-25",
          "2020-08-26",
          "2020-08-27",
          "2020-08-28",
          "2020-08-31",
          "2020-09-01",
          "2020-09-02",
          "2020-09-03",
          "2020-09-04",
          "2020-09-07",
          "2020-09-08",
          "2020-09-09",
          "2020-09-10",
          "2020-09-11",
          "2020-09-14",
          "2020-09-15",
          "2020-09-16",
          "2020-09-17",
          "2020-09-18",
          "2020-09-21",
          "2020-09-22",
          "2020-09-23",
          "2020-09-24",
          "2020-09-25",
          "2020-09-28",
          "2020-09-29",
          "2020-09-30",
          "2020-10-09",
          "2020-10-12",
          "2020-10-13",
          "2020-10-14",
          "2020-10-15",
          "2020-10-16",
          "2020-10-19",
          "2020-10-20",
          "2020-10-21",
          "2020-10-22",
          "2020-10-23",
          "2020-10-26",
          "2020-10-27",
          "2020-10-28",
          "2020-10-29",
          "2020-10-30",
          "2020-11-02",
          "2020-11-03",
          "2020-11-04",
          "2020-11-05",
          "2020-11-06",
          "2020-11-09",
          "2020-11-10",
          "2020-11-11",
          "2020-11-12",
          "2020-11-13",
          "2020-11-16",
          "2020-11-17",
          "2020-11-18",
          "2020-11-19",
          "2020-11-20",
          "2020-11-23",
          "2020-11-24",
          "2020-11-25",
          "2020-11-26",
          "2020-11-27",
          "2020-11-30",
          "2020-12-01",
          "2020-12-02",
          "2020-12-03",
          "2020-12-04",
          "2020-12-07",
          "2020-12-08",
          "2020-12-09",
          "2020-12-10",
          "2020-12-11",
          "2020-12-14",
          "2020-12-15",
          "2020-12-16",
          "2020-12-17",
          "2020-12-18",
          "2020-12-21",
          "2020-12-22",
          "2020-12-23",
          "2020-12-24",
          "2020-12-25",
          "2020-12-28",
          "2020-12-29",
          "2020-12-30",
          "2020-12-31",
          "2021-01-04",
          "2021-01-05",
          "2021-01-06",
          "2021-01-07",
          "2021-01-08",
          "2021-01-11",
          "2021-01-12",
          "2021-01-13",
          "2021-01-14",
          "2021-01-15",
          "2021-01-18",
          "2021-01-19",
          "2021-01-20",
          "2021-01-21",
          "2021-01-22",
          "2021-01-25",
          "2021-01-26",
          "2021-01-27",
          "2021-01-28",
          "2021-01-29",
          "2021-02-01",
          "2021-02-02",
          "2021-02-03",
          "2021-02-04",
          "2021-02-05",
          "2021-02-08",
          "2021-02-09",
          "2021-02-10"
         ],
         "xaxis": "x2",
         "y": [
          0,
          -9.971509971506975e-05,
          -9.515448648720923e-05,
          0.0008781728097091453,
          0.000863862258416703,
          0.0007633268523701247,
          -0.0003786694408710891,
          -0.0013009551208600775,
          -0.0013182815932265561,
          -0.00043587079380966843,
          9.302742531489856e-05,
          -0.0004697850764757451,
          -0.0029936260658711203,
          -0.00246207592241998,
          -0.002451512579143937,
          -0.00035229879936594195,
          0.00342650261262488,
          0.003042063649389995,
          0.004689214456502151,
          0.006997828232370078,
          0.008015622389669106,
          0.007631135675299944,
          0.008548248528859458,
          0.010224930258854879,
          0.011725318808679124,
          0.012461707014005941,
          0.01209547432160172,
          0.008176764516153429,
          0.006244508910537478,
          0.00797254756152397,
          0.0060521798504507805,
          0.00015935924347793354,
          -0.00319162013837607,
          -0.007744143824686925,
          -0.011605449700087457,
          -0.008794752458556206,
          -0.0049368635466434385,
          -0.003034553811157397,
          -0.0012337694135611185,
          0.00408043984209093,
          0.013159135111925954,
          0.04501396243152906,
          0.059833923355286874,
          0.059972385840634426,
          0.05075776122283511,
          0.031693170282339866,
          0.01670127939861897,
          0.0012682217026015047,
          -0.013016795095816686,
          -0.023306653143291917,
          -0.02924881002203443,
          -0.02769664122092895,
          -0.027742540719772057,
          -0.027468516929558685,
          -0.030094256280309963,
          -0.03370431156072578,
          -0.035144671817026685,
          -0.03380748137079051,
          -0.028826631416970457,
          -0.026814544676784714,
          -0.025443596264824817,
          -0.021956531169572364,
          -0.014107722753246975,
          -0.011508847373801735,
          -0.0078725434749575,
          -0.007565130270632891,
          -0.006170219672962812,
          -0.005422598850665119,
          -0.0038372528807418156,
          -0.003071971404945917,
          0.0003243266545015881,
          0.007099076415923004,
          0.00862481581359438,
          0.008032788365911172,
          0.00548953887093389,
          0.0043896312294219465,
          0.002332352348860643,
          0.0016874708938661252,
          4.743536215265701e-05,
          -0.001493734503950189,
          -0.0003407771454003016,
          -0.0020183441790757265,
          -0.0028290443926929035,
          -0.0055964858063243285,
          -0.00752082071486871,
          -0.008798761296937161,
          -0.008947127121301177,
          -0.005171849449780594,
          -0.0029485131682206803,
          -0.0030829668732210123,
          -0.001493086565675223,
          -0.0001776622546286466,
          0.00025946826662667094,
          0.00203580981616297,
          0.0032782731828434573,
          0.006664746929167308,
          0.007375397755139585,
          0.005716927317991415,
          0.003923159258483445,
          0.0014917528719354117,
          -0.0005773630332311097,
          0.0015180358888358704,
          0.0010067360445810344,
          0.0014379903343785007,
          0.001158159452732229,
          0.0042726925299283215,
          0.0035996174670013432,
          0.0031317077707862743,
          0.0034478238950508625,
          0.00742118985380346,
          0.01154750801303212,
          0.011060601431985506,
          0.014701357922395849,
          0.016876426516073455,
          0.017342260501544443,
          0.014120442548772816,
          0.011914486115470671,
          0.007881304668031669,
          0.002258190630570924,
          -0.004071851778380837,
          -0.006675147369798783,
          -0.00742902808610872,
          -0.007605407393336228,
          -0.007393239825098846,
          -0.006293672938370253,
          -0.004043055350591469,
          9.654272442707716e-05,
          0.0058410465318544675,
          0.005257409982570347,
          0.0013641695896235099,
          6.456917021441591e-05,
          0.00045859510066413416,
          0.0025306107682276863,
          0.004263661799211135,
          0.004407373783253479,
          0.006728137791350661,
          0.006447481020604278,
          0.005174481900954837,
          0.007163419542831527,
          0.027030395916205232,
          0.033387825936518185,
          0.04490801727596598,
          0.048109040509544926,
          0.042627479021318845,
          0.03189403405534584,
          0.015167934785722773,
          -0.0012811637837598783,
          -0.013500588162679877,
          -0.023673943462175287,
          -0.028148576747503054,
          -0.03194349346811345,
          -0.03567880829784889,
          -0.03718512029554467,
          -0.034577931441016924,
          -0.03327937865725274,
          -0.03087875719349374,
          -0.03167188582814731,
          -0.029247644444084585,
          -0.0261435865242362,
          -0.022078392174637154,
          -0.018211733272671102,
          -0.013992526649865129,
          -0.01165615939880459,
          -0.007404955753632592,
          -0.0027977219678402936,
          -0.002031527178166889,
          -0.0011556562389624242,
          0.0016602025441479693,
          0.003626086551217673,
          0.004309727951312875,
          0.006696726079398172,
          0.010649137416567794,
          0.014074904900775908,
          0.020149797065163986,
          0.0224153219200921,
          0.026590588532407457,
          0.024663429771890646,
          0.02087072862328034,
          0.011592760471710775,
          0.0057184377376920375,
          0.00035783394439036983,
          -0.0005715278112978384,
          -0.003778860959008914,
          -0.0018554738786423046,
          0.002548975019733536,
          0.0018900446199780867,
          -0.0019122795117484312,
          -0.002375728816244033,
          0.004388684358839259,
          0.007022484631904148,
          0.0075513993010742075,
          0.013736015219426821
         ],
         "yaxis": "y2"
        },
        {
         "name": "macd_high",
         "type": "bar",
         "x": [
          "2020-05-06",
          "2020-05-07",
          "2020-05-08",
          "2020-05-11",
          "2020-05-12",
          "2020-05-13",
          "2020-05-14",
          "2020-05-15",
          "2020-05-18",
          "2020-05-19",
          "2020-05-20",
          "2020-05-21",
          "2020-05-22",
          "2020-05-25",
          "2020-05-26",
          "2020-05-27",
          "2020-05-28",
          "2020-05-29",
          "2020-06-01",
          "2020-06-02",
          "2020-06-03",
          "2020-06-04",
          "2020-06-05",
          "2020-06-08",
          "2020-06-09",
          "2020-06-10",
          "2020-06-11",
          "2020-06-12",
          "2020-06-15",
          "2020-06-16",
          "2020-06-17",
          "2020-06-18",
          "2020-06-19",
          "2020-06-22",
          "2020-06-23",
          "2020-06-24",
          "2020-06-29",
          "2020-06-30",
          "2020-07-01",
          "2020-07-02",
          "2020-07-03",
          "2020-07-06",
          "2020-07-07",
          "2020-07-08",
          "2020-07-09",
          "2020-07-10",
          "2020-07-13",
          "2020-07-14",
          "2020-07-15",
          "2020-07-16",
          "2020-07-17",
          "2020-07-20",
          "2020-07-21",
          "2020-07-22",
          "2020-07-23",
          "2020-07-24",
          "2020-07-27",
          "2020-07-28",
          "2020-07-29",
          "2020-07-30",
          "2020-07-31",
          "2020-08-03",
          "2020-08-04",
          "2020-08-05",
          "2020-08-06",
          "2020-08-07",
          "2020-08-10",
          "2020-08-11",
          "2020-08-12",
          "2020-08-13",
          "2020-08-14",
          "2020-08-17",
          "2020-08-18",
          "2020-08-19",
          "2020-08-20",
          "2020-08-21",
          "2020-08-24",
          "2020-08-25",
          "2020-08-26",
          "2020-08-27",
          "2020-08-28",
          "2020-08-31",
          "2020-09-01",
          "2020-09-02",
          "2020-09-03",
          "2020-09-04",
          "2020-09-07",
          "2020-09-08",
          "2020-09-09",
          "2020-09-10",
          "2020-09-11",
          "2020-09-14",
          "2020-09-15",
          "2020-09-16",
          "2020-09-17",
          "2020-09-18",
          "2020-09-21",
          "2020-09-22",
          "2020-09-23",
          "2020-09-24",
          "2020-09-25",
          "2020-09-28",
          "2020-09-29",
          "2020-09-30",
          "2020-10-09",
          "2020-10-12",
          "2020-10-13",
          "2020-10-14",
          "2020-10-15",
          "2020-10-16",
          "2020-10-19",
          "2020-10-20",
          "2020-10-21",
          "2020-10-22",
          "2020-10-23",
          "2020-10-26",
          "2020-10-27",
          "2020-10-28",
          "2020-10-29",
          "2020-10-30",
          "2020-11-02",
          "2020-11-03",
          "2020-11-04",
          "2020-11-05",
          "2020-11-06",
          "2020-11-09",
          "2020-11-10",
          "2020-11-11",
          "2020-11-12",
          "2020-11-13",
          "2020-11-16",
          "2020-11-17",
          "2020-11-18",
          "2020-11-19",
          "2020-11-20",
          "2020-11-23",
          "2020-11-24",
          "2020-11-25",
          "2020-11-26",
          "2020-11-27",
          "2020-11-30",
          "2020-12-01",
          "2020-12-02",
          "2020-12-03",
          "2020-12-04",
          "2020-12-07",
          "2020-12-08",
          "2020-12-09",
          "2020-12-10",
          "2020-12-11",
          "2020-12-14",
          "2020-12-15",
          "2020-12-16",
          "2020-12-17",
          "2020-12-18",
          "2020-12-21",
          "2020-12-22",
          "2020-12-23",
          "2020-12-24",
          "2020-12-25",
          "2020-12-28",
          "2020-12-29",
          "2020-12-30",
          "2020-12-31",
          "2021-01-04",
          "2021-01-05",
          "2021-01-06",
          "2021-01-07",
          "2021-01-08",
          "2021-01-11",
          "2021-01-12",
          "2021-01-13",
          "2021-01-14",
          "2021-01-15",
          "2021-01-18",
          "2021-01-19",
          "2021-01-20",
          "2021-01-21",
          "2021-01-22",
          "2021-01-25",
          "2021-01-26",
          "2021-01-27",
          "2021-01-28",
          "2021-01-29",
          "2021-02-01",
          "2021-02-02",
          "2021-02-03",
          "2021-02-04",
          "2021-02-05",
          "2021-02-08",
          "2021-02-09",
          "2021-02-10"
         ],
         "xaxis": "x3",
         "y": [
          0,
          -9.971509971506975e-05,
          8.785499644345431e-05,
          0.0006099425110103874,
          0.0010139315060311556,
          0.0004576736112865507,
          0.000140112186559089,
          -0.0004050964345644575,
          -0.0014373852252956962,
          -0.0007097204059424236,
          -0.0006692022883381235,
          -0.0001709668434166747,
          -0.0007586165087595824,
          -0.0015156752551786557,
          -0.0014008795229330968,
          -0.0002760992052994588,
          0.002894444935143502,
          0.0031619791749218757,
          0.00365630539216649,
          0.0053044953944587385,
          0.008643622744178119,
          0.008582430102555626,
          0.008554249074323752,
          0.010184799248591857,
          0.011650326919532694,
          0.01179959179055913,
          0.012229897431091739,
          0.01279609103713943,
          0.011669176772569359,
          0.010096370202959178,
          0.007721167116540646,
          0.0008280169381839897,
          -0.004408760017677666,
          -0.007135749230047995,
          -0.012320842550559302,
          -0.010337929482419222,
          -0.0045335211550705246,
          -0.0020752104697956304,
          -0.0030584379364650104,
          0.0011872417186147254,
          0.010336293642185461,
          0.041749397447660624,
          0.07371802653958112,
          0.07331513599003367,
          0.059887640023258484,
          0.042577367112778736,
          0.021147610197998892,
          0.002564410282743415,
          -0.011397197864396691,
          -0.02358279227855696,
          -0.03396674702208996,
          -0.03570275436817762,
          -0.035611350104175904,
          -0.0342983387942121,
          -0.03598787820495941,
          -0.03876181424736719,
          -0.0407226986333599,
          -0.0400859210048242,
          -0.0364995183712187,
          -0.03243320410227585,
          -0.02883821193482819,
          -0.02566180456763885,
          -0.017787975483164756,
          -0.014312757681130862,
          -0.011208389183704592,
          -0.009742668607458246,
          -0.008724392081533056,
          -0.006115283311649598,
          -0.005807789156280593,
          -0.004404507787643501,
          -0.0017421354030384036,
          0.0060250580929451895,
          0.009575996795597234,
          0.010276048961427395,
          0.007856201805648323,
          0.005498749498718227,
          0.003927930414423811,
          0.0022868276953100022,
          0.0006823879961160989,
          -0.0014535361621905406,
          -0.0006224052421283585,
          0.00011517452843398668,
          -0.0017935329872066676,
          -0.0033452328448754613,
          -0.005221590760833266,
          -0.007828678607628092,
          -0.008189649422466829,
          -0.005192683066030938,
          -0.0034238790669844296,
          -0.0018722329780789491,
          -0.0005337751617942033,
          -3.5569567479000475e-05,
          -9.008870578473133e-05,
          0.0007874832175958323,
          0.0022014957959347846,
          0.005148238482723545,
          0.007613852578011823,
          0.007079871592779431,
          0.005315485204154334,
          0.002860243963841009,
          0.0007320685224775011,
          0.0014705500291607478,
          0.0026878481371460823,
          0.0034973541748706954,
          0.0033628634639652003,
          0.005188094919280961,
          0.0055820895564211714,
          0.0037695643328152454,
          0.003850640978672659,
          0.008295839485040868,
          0.014586446143599881,
          0.013375848813678586,
          0.01579158092853598,
          0.016489125767329995,
          0.016673688822098222,
          0.015212857659500825,
          0.011486419930025376,
          0.0077853156875312204,
          0.002362017252598308,
          -0.0019474632925034173,
          -0.006604725636243572,
          -0.007392023797125674,
          -0.0076099673561835154,
          -0.006804146857306483,
          -0.0066596573510118865,
          -0.005645795055406819,
          -0.0009365904070797078,
          0.003929630094949999,
          0.005439480921918668,
          0.0028396248799596475,
          -0.0002918517522498224,
          -0.0016772575565936424,
          0.0006608109916371764,
          0.002017831446179348,
          0.003322372226093044,
          0.00515622226061194,
          0.006575788801084831,
          0.008284450225188112,
          0.008151370182744384,
          0.02599724640769338,
          0.05156458294272449,
          0.055625317550441575,
          0.05671530615299879,
          0.05065154639081375,
          0.03711553969164423,
          0.022711898659833377,
          0.004638720275019284,
          -0.011606754891114526,
          -0.025190424376938123,
          -0.03505989337468077,
          -0.039451406901749225,
          -0.043280174278883185,
          -0.04390418169794336,
          -0.043024902172856413,
          -0.04115142270138891,
          -0.038659216767930514,
          -0.036459912046088595,
          -0.035114557832055776,
          -0.03174224136269822,
          -0.028480247485995144,
          -0.024755314591949542,
          -0.02024089095873395,
          -0.016060324719045317,
          -0.010357037278020731,
          -0.005889231803657767,
          -0.003692939428160638,
          -0.0023889289174459163,
          0.00020742855875468397,
          0.0041154014241921305,
          0.007354876605459942,
          0.00807424207807255,
          0.010986991795531996,
          0.018287658095479848,
          0.029190543259237613,
          0.029587811463754728,
          0.03097021037015933,
          0.032188839397493646,
          0.026147637671000208,
          0.017727736444925896,
          0.006941540172692592,
          0.0009653898032524373,
          0.0021442193327414812,
          -0.0024698503709808615,
          -0.0021710000219894512,
          -7.989701381295143e-05,
          0.0030251183404232003,
          0.0008523827428820081,
          -0.0006873314092287978,
          0.003995588118628948,
          0.005942377175437361,
          0.0035059092961089236,
          0.015672596919936214
         ],
         "yaxis": "y3"
        },
        {
         "name": "macd_low",
         "type": "bar",
         "x": [
          "2020-05-06",
          "2020-05-07",
          "2020-05-08",
          "2020-05-11",
          "2020-05-12",
          "2020-05-13",
          "2020-05-14",
          "2020-05-15",
          "2020-05-18",
          "2020-05-19",
          "2020-05-20",
          "2020-05-21",
          "2020-05-22",
          "2020-05-25",
          "2020-05-26",
          "2020-05-27",
          "2020-05-28",
          "2020-05-29",
          "2020-06-01",
          "2020-06-02",
          "2020-06-03",
          "2020-06-04",
          "2020-06-05",
          "2020-06-08",
          "2020-06-09",
          "2020-06-10",
          "2020-06-11",
          "2020-06-12",
          "2020-06-15",
          "2020-06-16",
          "2020-06-17",
          "2020-06-18",
          "2020-06-19",
          "2020-06-22",
          "2020-06-23",
          "2020-06-24",
          "2020-06-29",
          "2020-06-30",
          "2020-07-01",
          "2020-07-02",
          "2020-07-03",
          "2020-07-06",
          "2020-07-07",
          "2020-07-08",
          "2020-07-09",
          "2020-07-10",
          "2020-07-13",
          "2020-07-14",
          "2020-07-15",
          "2020-07-16",
          "2020-07-17",
          "2020-07-20",
          "2020-07-21",
          "2020-07-22",
          "2020-07-23",
          "2020-07-24",
          "2020-07-27",
          "2020-07-28",
          "2020-07-29",
          "2020-07-30",
          "2020-07-31",
          "2020-08-03",
          "2020-08-04",
          "2020-08-05",
          "2020-08-06",
          "2020-08-07",
          "2020-08-10",
          "2020-08-11",
          "2020-08-12",
          "2020-08-13",
          "2020-08-14",
          "2020-08-17",
          "2020-08-18",
          "2020-08-19",
          "2020-08-20",
          "2020-08-21",
          "2020-08-24",
          "2020-08-25",
          "2020-08-26",
          "2020-08-27",
          "2020-08-28",
          "2020-08-31",
          "2020-09-01",
          "2020-09-02",
          "2020-09-03",
          "2020-09-04",
          "2020-09-07",
          "2020-09-08",
          "2020-09-09",
          "2020-09-10",
          "2020-09-11",
          "2020-09-14",
          "2020-09-15",
          "2020-09-16",
          "2020-09-17",
          "2020-09-18",
          "2020-09-21",
          "2020-09-22",
          "2020-09-23",
          "2020-09-24",
          "2020-09-25",
          "2020-09-28",
          "2020-09-29",
          "2020-09-30",
          "2020-10-09",
          "2020-10-12",
          "2020-10-13",
          "2020-10-14",
          "2020-10-15",
          "2020-10-16",
          "2020-10-19",
          "2020-10-20",
          "2020-10-21",
          "2020-10-22",
          "2020-10-23",
          "2020-10-26",
          "2020-10-27",
          "2020-10-28",
          "2020-10-29",
          "2020-10-30",
          "2020-11-02",
          "2020-11-03",
          "2020-11-04",
          "2020-11-05",
          "2020-11-06",
          "2020-11-09",
          "2020-11-10",
          "2020-11-11",
          "2020-11-12",
          "2020-11-13",
          "2020-11-16",
          "2020-11-17",
          "2020-11-18",
          "2020-11-19",
          "2020-11-20",
          "2020-11-23",
          "2020-11-24",
          "2020-11-25",
          "2020-11-26",
          "2020-11-27",
          "2020-11-30",
          "2020-12-01",
          "2020-12-02",
          "2020-12-03",
          "2020-12-04",
          "2020-12-07",
          "2020-12-08",
          "2020-12-09",
          "2020-12-10",
          "2020-12-11",
          "2020-12-14",
          "2020-12-15",
          "2020-12-16",
          "2020-12-17",
          "2020-12-18",
          "2020-12-21",
          "2020-12-22",
          "2020-12-23",
          "2020-12-24",
          "2020-12-25",
          "2020-12-28",
          "2020-12-29",
          "2020-12-30",
          "2020-12-31",
          "2021-01-04",
          "2021-01-05",
          "2021-01-06",
          "2021-01-07",
          "2021-01-08",
          "2021-01-11",
          "2021-01-12",
          "2021-01-13",
          "2021-01-14",
          "2021-01-15",
          "2021-01-18",
          "2021-01-19",
          "2021-01-20",
          "2021-01-21",
          "2021-01-22",
          "2021-01-25",
          "2021-01-26",
          "2021-01-27",
          "2021-01-28",
          "2021-01-29",
          "2021-02-01",
          "2021-02-02",
          "2021-02-03",
          "2021-02-04",
          "2021-02-05",
          "2021-02-08",
          "2021-02-09",
          "2021-02-10"
         ],
         "xaxis": "x4",
         "y": [
          0,
          9.971509971467502e-05,
          9.515448648750042e-05,
          0.0003155300446586758,
          0.0006371712201345166,
          0.0007063755775100355,
          -1.0633347417719286e-05,
          -0.0007470870478331462,
          -0.0014728610578320213,
          -0.0005724908673851183,
          -2.6418115611737066e-05,
          0.00028933436457985413,
          -0.001771851184703814,
          -0.003339142883296485,
          -0.002183965374575495,
          -0.0013425575224377561,
          0.0012350764669961517,
          0.0017511416517271858,
          0.003005519659514823,
          0.0041361874796442604,
          0.007242188740448709,
          0.008209680032351228,
          0.007779420034897141,
          0.00922984646722369,
          0.01122003704305811,
          0.012872084729485244,
          0.01250899485287561,
          0.009162334815143322,
          0.008129054874597481,
          0.008589265318294247,
          0.007611250297647351,
          0.0010557819458736177,
          -0.003935071781114772,
          -0.006487589670904171,
          -0.010356211624051623,
          -0.011222936292081528,
          -0.007717937478036875,
          -0.004055567067049855,
          -0.004127275658318779,
          -0.0016431897705948308,
          0.006000852328899258,
          0.018323976759547875,
          0.04770958829882588,
          0.05218693962721853,
          0.0499770056848766,
          0.03612388828364549,
          0.02244837720823839,
          0.010169942750453909,
          -0.002488530733514821,
          -0.012218657892426932,
          -0.01957715709325253,
          -0.022511024046968545,
          -0.021209099732695372,
          -0.021043163714635757,
          -0.023439833612901827,
          -0.027896514774010416,
          -0.030196210886218152,
          -0.02969252090461935,
          -0.02991760195073602,
          -0.025462208572882894,
          -0.02330905687200159,
          -0.02012709647460353,
          -0.016420992224363752,
          -0.01190911104940703,
          -0.009003631954267472,
          -0.007237068120460394,
          -0.006260717153166761,
          -0.004546782477991028,
          -0.0037203504173069293,
          -0.0022143045089068544,
          -0.0009917065379992443,
          0.0031706433344610326,
          0.007042798853176704,
          0.008605762527545146,
          0.006710721951681497,
          0.005277732905887875,
          0.004197435896624656,
          0.0027485493946258384,
          0.0011382320083773937,
          -0.0004915357739939084,
          -0.0014100109974629384,
          -0.0018313074377876055,
          -0.003189087863916612,
          -0.0050555233576054116,
          -0.007768855394632514,
          -0.00957846248333015,
          -0.01006755691050279,
          -0.009042908309920598,
          -0.00582744895553286,
          -0.004581972829564865,
          -0.0033508914511388016,
          -0.001548057358696009,
          -0.00011552652716943085,
          0.0003723212937553101,
          0.0021549505962740675,
          0.00401300096665852,
          0.005811797299840028,
          0.005552346196839374,
          0.004641617778675743,
          0.0020840105901042127,
          0.0005372252981164921,
          -0.0002961380780729106,
          0.001275905144176432,
          0.00235639638113987,
          0.003066780119002497,
          0.0035009580037303634,
          0.0037312754042573264,
          0.0038132388013427804,
          0.003151186907414571,
          0.003964471178321995,
          0.008203057723394734,
          0.008605084073933553,
          0.008475954919567624,
          0.012467953423704735,
          0.014976801314079729,
          0.014476098749700591,
          0.012720417221297704,
          0.009603069599292975,
          0.005135663172378381,
          -0.0005935806284715246,
          -0.004259552406724411,
          -0.004516039699988213,
          -0.005164303709341409,
          -0.0047361068302819165,
          -0.004921129401607369,
          -0.0029170322458203666,
          0.0009989028677351158,
          0.003353011425204026,
          0.0052352969302098176,
          0.002244201083984272,
          0.0008173005300491452,
          0.00044374650650079797,
          0.0007489820734270947,
          0.0033764340392652345,
          0.004123188244758234,
          0.004280772673786116,
          0.006603703522613188,
          0.0069562016827656205,
          0.006039336970464326,
          0.010104636339580898,
          0.024714507634018577,
          0.030433505905687254,
          0.03659238027320026,
          0.03751536523933504,
          0.02800285639523157,
          0.016851595263478146,
          0.004581183614444942,
          -0.00520521896379441,
          -0.014824321770429492,
          -0.021886016705012168,
          -0.025010196373400573,
          -0.02927466981336723,
          -0.03013455278520548,
          -0.03129943464159267,
          -0.02933221832881754,
          -0.026714479852542307,
          -0.02759438493122668,
          -0.026090312529227066,
          -0.023111389962670398,
          -0.01931154427001129,
          -0.017066861539420528,
          -0.013322998885760409,
          -0.010719896284510373,
          -0.007667476902017835,
          -0.005114146330349345,
          -0.003634003568333724,
          -0.0016194729824943743,
          -1.0087495192979273e-05,
          0.003175543149718827,
          0.005260374019566541,
          0.005257614185289104,
          0.0077636077953758785,
          0.011692976564445255,
          0.017558206358878364,
          0.019183906553115346,
          0.020576109190339177,
          0.022340257432690105,
          0.020365080756215567,
          0.013550589351405493,
          0.00594377953308374,
          0.0020546308622969023,
          0.0006948329194778058,
          -0.0015626224781270185,
          -0.0023462825034197016,
          -0.0008834152107174888,
          0.0019128595168416643,
          0.00028853268521804136,
          -0.0008311677426966618,
          0.00034054188709563456,
          0.004800793005615834,
          0.006610247855043799,
          0.013668254767248176
         ],
         "yaxis": "y4"
        }
       ],
       "layout": {
        "annotations": [
         {
          "font": {
           "size": 16
          },
          "showarrow": false,
          "text": "y轴标题",
          "textangle": -90,
          "x": 0,
          "xanchor": "right",
          "xref": "paper",
          "xshift": -40,
          "y": 0.5,
          "yanchor": "middle",
          "yref": "paper"
         }
        ],
        "coloraxis": {
         "colorbar": {
          "ticks": "outside",
          "x": 0.75,
          "xanchor": "left"
         }
        },
        "font": {
         "color": "RebeccaPurple",
         "family": "Times New Roman",
         "size": 20
        },
        "height": 800,
        "margin": {
         "b": 0,
         "l": 20,
         "r": 0,
         "t": 0
        },
        "template": {
         "data": {
          "bar": [
           {
            "error_x": {
             "color": "#2a3f5f"
            },
            "error_y": {
             "color": "#2a3f5f"
            },
            "marker": {
             "line": {
              "color": "#E5ECF6",
              "width": 0.5
             }
            },
            "type": "bar"
           }
          ],
          "barpolar": [
           {
            "marker": {
             "line": {
              "color": "#E5ECF6",
              "width": 0.5
             }
            },
            "type": "barpolar"
           }
          ],
          "carpet": [
           {
            "aaxis": {
             "endlinecolor": "#2a3f5f",
             "gridcolor": "white",
             "linecolor": "white",
             "minorgridcolor": "white",
             "startlinecolor": "#2a3f5f"
            },
            "baxis": {
             "endlinecolor": "#2a3f5f",
             "gridcolor": "white",
             "linecolor": "white",
             "minorgridcolor": "white",
             "startlinecolor": "#2a3f5f"
            },
            "type": "carpet"
           }
          ],
          "choropleth": [
           {
            "colorbar": {
             "outlinewidth": 0,
             "ticks": ""
            },
            "type": "choropleth"
           }
          ],
          "contour": [
           {
            "colorbar": {
             "outlinewidth": 0,
             "ticks": ""
            },
            "colorscale": [
             [
              0,
              "#0d0887"
             ],
             [
              0.1111111111111111,
              "#46039f"
             ],
             [
              0.2222222222222222,
              "#7201a8"
             ],
             [
              0.3333333333333333,
              "#9c179e"
             ],
             [
              0.4444444444444444,
              "#bd3786"
             ],
             [
              0.5555555555555556,
              "#d8576b"
             ],
             [
              0.6666666666666666,
              "#ed7953"
             ],
             [
              0.7777777777777778,
              "#fb9f3a"
             ],
             [
              0.8888888888888888,
              "#fdca26"
             ],
             [
              1,
              "#f0f921"
             ]
            ],
            "type": "contour"
           }
          ],
          "contourcarpet": [
           {
            "colorbar": {
             "outlinewidth": 0,
             "ticks": ""
            },
            "type": "contourcarpet"
           }
          ],
          "heatmap": [
           {
            "colorbar": {
             "outlinewidth": 0,
             "ticks": ""
            },
            "colorscale": [
             [
              0,
              "#0d0887"
             ],
             [
              0.1111111111111111,
              "#46039f"
             ],
             [
              0.2222222222222222,
              "#7201a8"
             ],
             [
              0.3333333333333333,
              "#9c179e"
             ],
             [
              0.4444444444444444,
              "#bd3786"
             ],
             [
              0.5555555555555556,
              "#d8576b"
             ],
             [
              0.6666666666666666,
              "#ed7953"
             ],
             [
              0.7777777777777778,
              "#fb9f3a"
             ],
             [
              0.8888888888888888,
              "#fdca26"
             ],
             [
              1,
              "#f0f921"
             ]
            ],
            "type": "heatmap"
           }
          ],
          "heatmapgl": [
           {
            "colorbar": {
             "outlinewidth": 0,
             "ticks": ""
            },
            "colorscale": [
             [
              0,
              "#0d0887"
             ],
             [
              0.1111111111111111,
              "#46039f"
             ],
             [
              0.2222222222222222,
              "#7201a8"
             ],
             [
              0.3333333333333333,
              "#9c179e"
             ],
             [
              0.4444444444444444,
              "#bd3786"
             ],
             [
              0.5555555555555556,
              "#d8576b"
             ],
             [
              0.6666666666666666,
              "#ed7953"
             ],
             [
              0.7777777777777778,
              "#fb9f3a"
             ],
             [
              0.8888888888888888,
              "#fdca26"
             ],
             [
              1,
              "#f0f921"
             ]
            ],
            "type": "heatmapgl"
           }
          ],
          "histogram": [
           {
            "marker": {
             "colorbar": {
              "outlinewidth": 0,
              "ticks": ""
             }
            },
            "type": "histogram"
           }
          ],
          "histogram2d": [
           {
            "colorbar": {
             "outlinewidth": 0,
             "ticks": ""
            },
            "colorscale": [
             [
              0,
              "#0d0887"
             ],
             [
              0.1111111111111111,
              "#46039f"
             ],
             [
              0.2222222222222222,
              "#7201a8"
             ],
             [
              0.3333333333333333,
              "#9c179e"
             ],
             [
              0.4444444444444444,
              "#bd3786"
             ],
             [
              0.5555555555555556,
              "#d8576b"
             ],
             [
              0.6666666666666666,
              "#ed7953"
             ],
             [
              0.7777777777777778,
              "#fb9f3a"
             ],
             [
              0.8888888888888888,
              "#fdca26"
             ],
             [
              1,
              "#f0f921"
             ]
            ],
            "type": "histogram2d"
           }
          ],
          "histogram2dcontour": [
           {
            "colorbar": {
             "outlinewidth": 0,
             "ticks": ""
            },
            "colorscale": [
             [
              0,
              "#0d0887"
             ],
             [
              0.1111111111111111,
              "#46039f"
             ],
             [
              0.2222222222222222,
              "#7201a8"
             ],
             [
              0.3333333333333333,
              "#9c179e"
             ],
             [
              0.4444444444444444,
              "#bd3786"
             ],
             [
              0.5555555555555556,
              "#d8576b"
             ],
             [
              0.6666666666666666,
              "#ed7953"
             ],
             [
              0.7777777777777778,
              "#fb9f3a"
             ],
             [
              0.8888888888888888,
              "#fdca26"
             ],
             [
              1,
              "#f0f921"
             ]
            ],
            "type": "histogram2dcontour"
           }
          ],
          "mesh3d": [
           {
            "colorbar": {
             "outlinewidth": 0,
             "ticks": ""
            },
            "type": "mesh3d"
           }
          ],
          "parcoords": [
           {
            "line": {
             "colorbar": {
              "outlinewidth": 0,
              "ticks": ""
             }
            },
            "type": "parcoords"
           }
          ],
          "pie": [
           {
            "automargin": true,
            "type": "pie"
           }
          ],
          "scatter": [
           {
            "marker": {
             "colorbar": {
              "outlinewidth": 0,
              "ticks": ""
             }
            },
            "type": "scatter"
           }
          ],
          "scatter3d": [
           {
            "line": {
             "colorbar": {
              "outlinewidth": 0,
              "ticks": ""
             }
            },
            "marker": {
             "colorbar": {
              "outlinewidth": 0,
              "ticks": ""
             }
            },
            "type": "scatter3d"
           }
          ],
          "scattercarpet": [
           {
            "marker": {
             "colorbar": {
              "outlinewidth": 0,
              "ticks": ""
             }
            },
            "type": "scattercarpet"
           }
          ],
          "scattergeo": [
           {
            "marker": {
             "colorbar": {
              "outlinewidth": 0,
              "ticks": ""
             }
            },
            "type": "scattergeo"
           }
          ],
          "scattergl": [
           {
            "marker": {
             "colorbar": {
              "outlinewidth": 0,
              "ticks": ""
             }
            },
            "type": "scattergl"
           }
          ],
          "scattermapbox": [
           {
            "marker": {
             "colorbar": {
              "outlinewidth": 0,
              "ticks": ""
             }
            },
            "type": "scattermapbox"
           }
          ],
          "scatterpolar": [
           {
            "marker": {
             "colorbar": {
              "outlinewidth": 0,
              "ticks": ""
             }
            },
            "type": "scatterpolar"
           }
          ],
          "scatterpolargl": [
           {
            "marker": {
             "colorbar": {
              "outlinewidth": 0,
              "ticks": ""
             }
            },
            "type": "scatterpolargl"
           }
          ],
          "scatterternary": [
           {
            "marker": {
             "colorbar": {
              "outlinewidth": 0,
              "ticks": ""
             }
            },
            "type": "scatterternary"
           }
          ],
          "surface": [
           {
            "colorbar": {
             "outlinewidth": 0,
             "ticks": ""
            },
            "colorscale": [
             [
              0,
              "#0d0887"
             ],
             [
              0.1111111111111111,
              "#46039f"
             ],
             [
              0.2222222222222222,
              "#7201a8"
             ],
             [
              0.3333333333333333,
              "#9c179e"
             ],
             [
              0.4444444444444444,
              "#bd3786"
             ],
             [
              0.5555555555555556,
              "#d8576b"
             ],
             [
              0.6666666666666666,
              "#ed7953"
             ],
             [
              0.7777777777777778,
              "#fb9f3a"
             ],
             [
              0.8888888888888888,
              "#fdca26"
             ],
             [
              1,
              "#f0f921"
             ]
            ],
            "type": "surface"
           }
          ],
          "table": [
           {
            "cells": {
             "fill": {
              "color": "#EBF0F8"
             },
             "line": {
              "color": "white"
             }
            },
            "header": {
             "fill": {
              "color": "#C8D4E3"
             },
             "line": {
              "color": "white"
             }
            },
            "type": "table"
           }
          ]
         },
         "layout": {
          "annotationdefaults": {
           "arrowcolor": "#2a3f5f",
           "arrowhead": 0,
           "arrowwidth": 1
          },
          "autotypenumbers": "strict",
          "coloraxis": {
           "colorbar": {
            "outlinewidth": 0,
            "ticks": ""
           }
          },
          "colorscale": {
           "diverging": [
            [
             0,
             "#8e0152"
            ],
            [
             0.1,
             "#c51b7d"
            ],
            [
             0.2,
             "#de77ae"
            ],
            [
             0.3,
             "#f1b6da"
            ],
            [
             0.4,
             "#fde0ef"
            ],
            [
             0.5,
             "#f7f7f7"
            ],
            [
             0.6,
             "#e6f5d0"
            ],
            [
             0.7,
             "#b8e186"
            ],
            [
             0.8,
             "#7fbc41"
            ],
            [
             0.9,
             "#4d9221"
            ],
            [
             1,
             "#276419"
            ]
           ],
           "sequential": [
            [
             0,
             "#0d0887"
            ],
            [
             0.1111111111111111,
             "#46039f"
            ],
            [
             0.2222222222222222,
             "#7201a8"
            ],
            [
             0.3333333333333333,
             "#9c179e"
            ],
            [
             0.4444444444444444,
             "#bd3786"
            ],
            [
             0.5555555555555556,
             "#d8576b"
            ],
            [
             0.6666666666666666,
             "#ed7953"
            ],
            [
             0.7777777777777778,
             "#fb9f3a"
            ],
            [
             0.8888888888888888,
             "#fdca26"
            ],
            [
             1,
             "#f0f921"
            ]
           ],
           "sequentialminus": [
            [
             0,
             "#0d0887"
            ],
            [
             0.1111111111111111,
             "#46039f"
            ],
            [
             0.2222222222222222,
             "#7201a8"
            ],
            [
             0.3333333333333333,
             "#9c179e"
            ],
            [
             0.4444444444444444,
             "#bd3786"
            ],
            [
             0.5555555555555556,
             "#d8576b"
            ],
            [
             0.6666666666666666,
             "#ed7953"
            ],
            [
             0.7777777777777778,
             "#fb9f3a"
            ],
            [
             0.8888888888888888,
             "#fdca26"
            ],
            [
             1,
             "#f0f921"
            ]
           ]
          },
          "colorway": [
           "#636efa",
           "#EF553B",
           "#00cc96",
           "#ab63fa",
           "#FFA15A",
           "#19d3f3",
           "#FF6692",
           "#B6E880",
           "#FF97FF",
           "#FECB52"
          ],
          "font": {
           "color": "#2a3f5f"
          },
          "geo": {
           "bgcolor": "white",
           "lakecolor": "white",
           "landcolor": "#E5ECF6",
           "showlakes": true,
           "showland": true,
           "subunitcolor": "white"
          },
          "hoverlabel": {
           "align": "left"
          },
          "hovermode": "closest",
          "mapbox": {
           "style": "light"
          },
          "paper_bgcolor": "white",
          "plot_bgcolor": "#E5ECF6",
          "polar": {
           "angularaxis": {
            "gridcolor": "white",
            "linecolor": "white",
            "ticks": ""
           },
           "bgcolor": "#E5ECF6",
           "radialaxis": {
            "gridcolor": "white",
            "linecolor": "white",
            "ticks": ""
           }
          },
          "scene": {
           "xaxis": {
            "backgroundcolor": "#E5ECF6",
            "gridcolor": "white",
            "gridwidth": 2,
            "linecolor": "white",
            "showbackground": true,
            "ticks": "",
            "zerolinecolor": "white"
           },
           "yaxis": {
            "backgroundcolor": "#E5ECF6",
            "gridcolor": "white",
            "gridwidth": 2,
            "linecolor": "white",
            "showbackground": true,
            "ticks": "",
            "zerolinecolor": "white"
           },
           "zaxis": {
            "backgroundcolor": "#E5ECF6",
            "gridcolor": "white",
            "gridwidth": 2,
            "linecolor": "white",
            "showbackground": true,
            "ticks": "",
            "zerolinecolor": "white"
           }
          },
          "shapedefaults": {
           "line": {
            "color": "#2a3f5f"
           }
          },
          "ternary": {
           "aaxis": {
            "gridcolor": "white",
            "linecolor": "white",
            "ticks": ""
           },
           "baxis": {
            "gridcolor": "white",
            "linecolor": "white",
            "ticks": ""
           },
           "bgcolor": "#E5ECF6",
           "caxis": {
            "gridcolor": "white",
            "linecolor": "white",
            "ticks": ""
           }
          },
          "title": {
           "x": 0.05
          },
          "xaxis": {
           "automargin": true,
           "gridcolor": "white",
           "linecolor": "white",
           "ticks": "",
           "title": {
            "standoff": 15
           },
           "zerolinecolor": "white",
           "zerolinewidth": 2
          },
          "yaxis": {
           "automargin": true,
           "gridcolor": "white",
           "linecolor": "white",
           "ticks": "",
           "title": {
            "standoff": 15
           },
           "zerolinecolor": "white",
           "zerolinewidth": 2
          }
         }
        },
        "title": {
         "x": 0.5
        },
        "width": 1000,
        "xaxis": {
         "anchor": "y",
         "domain": [
          0,
          1
         ],
         "matches": "x4",
         "rangeslider": {
          "visible": false
         },
         "showticklabels": false
        },
        "xaxis2": {
         "anchor": "y2",
         "domain": [
          0,
          1
         ],
         "matches": "x4",
         "rangeslider": {
          "visible": false
         },
         "showticklabels": false
        },
        "xaxis3": {
         "anchor": "y3",
         "domain": [
          0,
          1
         ],
         "matches": "x4",
         "showticklabels": false
        },
        "xaxis4": {
         "anchor": "y4",
         "domain": [
          0,
          1
         ],
         "rangeslider": {
          "visible": true
         }
        },
        "yaxis": {
         "anchor": "x",
         "domain": [
          0.8,
          1
         ]
        },
        "yaxis2": {
         "anchor": "x2",
         "domain": [
          0.6,
          0.75
         ]
        },
        "yaxis3": {
         "anchor": "x3",
         "domain": [
          0.4,
          0.55
         ]
        },
        "yaxis4": {
         "anchor": "x4",
         "domain": [
          0.1,
          0.35
         ]
        }
       }
      },
      "text/html": [
       "<div>                            <div id=\"0c010687-3502-468a-8e79-8e5cbcf0ebbc\" class=\"plotly-graph-div\" style=\"height:800px; width:1000px;\"></div>            <script type=\"text/javascript\">                require([\"plotly\"], function(Plotly) {                    window.PLOTLYENV=window.PLOTLYENV || {};                                    if (document.getElementById(\"0c010687-3502-468a-8e79-8e5cbcf0ebbc\")) {                    Plotly.newPlot(                        \"0c010687-3502-468a-8e79-8e5cbcf0ebbc\",                        [{\"mode\": \"markers+lines\", \"name\": \"close\", \"type\": \"scatter\", \"x\": [\"2020-05-06\", \"2020-05-07\", \"2020-05-08\", \"2020-05-11\", \"2020-05-12\", \"2020-05-13\", \"2020-05-14\", \"2020-05-15\", \"2020-05-18\", \"2020-05-19\", \"2020-05-20\", \"2020-05-21\", \"2020-05-22\", \"2020-05-25\", \"2020-05-26\", \"2020-05-27\", \"2020-05-28\", \"2020-05-29\", \"2020-06-01\", \"2020-06-02\", \"2020-06-03\", \"2020-06-04\", \"2020-06-05\", \"2020-06-08\", \"2020-06-09\", \"2020-06-10\", \"2020-06-11\", \"2020-06-12\", \"2020-06-15\", \"2020-06-16\", \"2020-06-17\", \"2020-06-18\", \"2020-06-19\", \"2020-06-22\", \"2020-06-23\", \"2020-06-24\", \"2020-06-29\", \"2020-06-30\", \"2020-07-01\", \"2020-07-02\", \"2020-07-03\", \"2020-07-06\", \"2020-07-07\", \"2020-07-08\", \"2020-07-09\", \"2020-07-10\", \"2020-07-13\", \"2020-07-14\", \"2020-07-15\", \"2020-07-16\", \"2020-07-17\", \"2020-07-20\", \"2020-07-21\", \"2020-07-22\", \"2020-07-23\", \"2020-07-24\", \"2020-07-27\", \"2020-07-28\", \"2020-07-29\", \"2020-07-30\", \"2020-07-31\", \"2020-08-03\", \"2020-08-04\", \"2020-08-05\", \"2020-08-06\", \"2020-08-07\", \"2020-08-10\", \"2020-08-11\", \"2020-08-12\", \"2020-08-13\", \"2020-08-14\", \"2020-08-17\", \"2020-08-18\", \"2020-08-19\", \"2020-08-20\", \"2020-08-21\", \"2020-08-24\", \"2020-08-25\", \"2020-08-26\", \"2020-08-27\", \"2020-08-28\", \"2020-08-31\", \"2020-09-01\", \"2020-09-02\", \"2020-09-03\", \"2020-09-04\", \"2020-09-07\", \"2020-09-08\", \"2020-09-09\", \"2020-09-10\", \"2020-09-11\", \"2020-09-14\", \"2020-09-15\", \"2020-09-16\", \"2020-09-17\", \"2020-09-18\", \"2020-09-21\", \"2020-09-22\", \"2020-09-23\", \"2020-09-24\", \"2020-09-25\", \"2020-09-28\", \"2020-09-29\", \"2020-09-30\", \"2020-10-09\", \"2020-10-12\", \"2020-10-13\", \"2020-10-14\", \"2020-10-15\", \"2020-10-16\", \"2020-10-19\", \"2020-10-20\", \"2020-10-21\", \"2020-10-22\", \"2020-10-23\", \"2020-10-26\", \"2020-10-27\", \"2020-10-28\", \"2020-10-29\", \"2020-10-30\", \"2020-11-02\", \"2020-11-03\", \"2020-11-04\", \"2020-11-05\", \"2020-11-06\", \"2020-11-09\", \"2020-11-10\", \"2020-11-11\", \"2020-11-12\", \"2020-11-13\", \"2020-11-16\", \"2020-11-17\", \"2020-11-18\", \"2020-11-19\", \"2020-11-20\", \"2020-11-23\", \"2020-11-24\", \"2020-11-25\", \"2020-11-26\", \"2020-11-27\", \"2020-11-30\", \"2020-12-01\", \"2020-12-02\", \"2020-12-03\", \"2020-12-04\", \"2020-12-07\", \"2020-12-08\", \"2020-12-09\", \"2020-12-10\", \"2020-12-11\", \"2020-12-14\", \"2020-12-15\", \"2020-12-16\", \"2020-12-17\", \"2020-12-18\", \"2020-12-21\", \"2020-12-22\", \"2020-12-23\", \"2020-12-24\", \"2020-12-25\", \"2020-12-28\", \"2020-12-29\", \"2020-12-30\", \"2020-12-31\", \"2021-01-04\", \"2021-01-05\", \"2021-01-06\", \"2021-01-07\", \"2021-01-08\", \"2021-01-11\", \"2021-01-12\", \"2021-01-13\", \"2021-01-14\", \"2021-01-15\", \"2021-01-18\", \"2021-01-19\", \"2021-01-20\", \"2021-01-21\", \"2021-01-22\", \"2021-01-25\", \"2021-01-26\", \"2021-01-27\", \"2021-01-28\", \"2021-01-29\", \"2021-02-01\", \"2021-02-02\", \"2021-02-03\", \"2021-02-04\", \"2021-02-05\", \"2021-02-08\", \"2021-02-09\", \"2021-02-10\"], \"xaxis\": \"x\", \"y\": [4.85, 4.84, 4.84, 4.88, 4.87, 4.87, 4.84, 4.83, 4.84, 4.86, 4.86, 4.84, 4.79, 4.83, 4.82, 4.86, 4.91, 4.86, 4.9, 4.93, 4.93, 4.92, 4.95, 4.98, 5.0, 5.01, 5.01, 4.96, 4.98, 5.04, 5.0, 4.93, 4.94, 4.9, 4.88, 4.96, 4.99, 4.98, 4.99, 5.06, 5.16, 5.6, 5.56, 5.47, 5.38, 5.22, 5.21, 5.14, 5.08, 5.06, 5.06, 5.13, 5.1, 5.09, 5.03, 4.98, 4.97, 4.98, 5.02, 4.98, 4.96, 4.98, 5.05, 5.0, 5.02, 4.98, 4.99, 4.98, 4.99, 4.98, 5.02, 5.09, 5.05, 5.03, 5.0, 5.01, 4.99, 5.0, 4.98, 4.97, 5.0, 4.96, 4.96, 4.92, 4.91, 4.9, 4.9, 4.95, 4.94, 4.91, 4.93, 4.93, 4.92, 4.94, 4.94, 4.98, 4.96, 4.93, 4.92, 4.9, 4.89, 4.94, 4.91, 4.92, 4.91, 4.96, 4.92, 4.92, 4.93, 4.99, 5.02, 4.98, 5.05, 5.06, 5.06, 5.02, 5.03, 5.0, 4.96, 4.92, 4.94, 4.95, 4.95, 4.95, 4.96, 4.98, 5.02, 5.07, 5.01, 4.96, 4.98, 5.0, 5.03, 5.04, 5.03, 5.07, 5.05, 5.04, 5.09, 5.39, 5.32, 5.47, 5.45, 5.38, 5.31, 5.19, 5.12, 5.1, 5.06, 5.08, 5.05, 5.01, 5.0, 5.03, 5.0, 5.0, 4.94, 4.96, 4.96, 4.97, 4.97, 4.98, 4.96, 4.99, 5.01, 4.97, 4.97, 5.0, 5.0, 4.99, 5.02, 5.06, 5.08, 5.15, 5.14, 5.2, 5.15, 5.13, 5.04, 5.05, 5.03, 5.07, 5.03, 5.09, 5.14, 5.09, 5.04, 5.07, 5.18, 5.16, 5.15, 5.25], \"yaxis\": \"y\"}, {\"name\": \"macd_close\", \"type\": \"bar\", \"x\": [\"2020-05-06\", \"2020-05-07\", \"2020-05-08\", \"2020-05-11\", \"2020-05-12\", \"2020-05-13\", \"2020-05-14\", \"2020-05-15\", \"2020-05-18\", \"2020-05-19\", \"2020-05-20\", \"2020-05-21\", \"2020-05-22\", \"2020-05-25\", \"2020-05-26\", \"2020-05-27\", \"2020-05-28\", \"2020-05-29\", \"2020-06-01\", \"2020-06-02\", \"2020-06-03\", \"2020-06-04\", \"2020-06-05\", \"2020-06-08\", \"2020-06-09\", \"2020-06-10\", \"2020-06-11\", \"2020-06-12\", \"2020-06-15\", \"2020-06-16\", \"2020-06-17\", \"2020-06-18\", \"2020-06-19\", \"2020-06-22\", \"2020-06-23\", \"2020-06-24\", \"2020-06-29\", \"2020-06-30\", \"2020-07-01\", \"2020-07-02\", \"2020-07-03\", \"2020-07-06\", \"2020-07-07\", \"2020-07-08\", \"2020-07-09\", \"2020-07-10\", \"2020-07-13\", \"2020-07-14\", \"2020-07-15\", \"2020-07-16\", \"2020-07-17\", \"2020-07-20\", \"2020-07-21\", \"2020-07-22\", \"2020-07-23\", \"2020-07-24\", \"2020-07-27\", \"2020-07-28\", \"2020-07-29\", \"2020-07-30\", \"2020-07-31\", \"2020-08-03\", \"2020-08-04\", \"2020-08-05\", \"2020-08-06\", \"2020-08-07\", \"2020-08-10\", \"2020-08-11\", \"2020-08-12\", \"2020-08-13\", \"2020-08-14\", \"2020-08-17\", \"2020-08-18\", \"2020-08-19\", \"2020-08-20\", \"2020-08-21\", \"2020-08-24\", \"2020-08-25\", \"2020-08-26\", \"2020-08-27\", \"2020-08-28\", \"2020-08-31\", \"2020-09-01\", \"2020-09-02\", \"2020-09-03\", \"2020-09-04\", \"2020-09-07\", \"2020-09-08\", \"2020-09-09\", \"2020-09-10\", \"2020-09-11\", \"2020-09-14\", \"2020-09-15\", \"2020-09-16\", \"2020-09-17\", \"2020-09-18\", \"2020-09-21\", \"2020-09-22\", \"2020-09-23\", \"2020-09-24\", \"2020-09-25\", \"2020-09-28\", \"2020-09-29\", \"2020-09-30\", \"2020-10-09\", \"2020-10-12\", \"2020-10-13\", \"2020-10-14\", \"2020-10-15\", \"2020-10-16\", \"2020-10-19\", \"2020-10-20\", \"2020-10-21\", \"2020-10-22\", \"2020-10-23\", \"2020-10-26\", \"2020-10-27\", \"2020-10-28\", \"2020-10-29\", \"2020-10-30\", \"2020-11-02\", \"2020-11-03\", \"2020-11-04\", \"2020-11-05\", \"2020-11-06\", \"2020-11-09\", \"2020-11-10\", \"2020-11-11\", \"2020-11-12\", \"2020-11-13\", \"2020-11-16\", \"2020-11-17\", \"2020-11-18\", \"2020-11-19\", \"2020-11-20\", \"2020-11-23\", \"2020-11-24\", \"2020-11-25\", \"2020-11-26\", \"2020-11-27\", \"2020-11-30\", \"2020-12-01\", \"2020-12-02\", \"2020-12-03\", \"2020-12-04\", \"2020-12-07\", \"2020-12-08\", \"2020-12-09\", \"2020-12-10\", \"2020-12-11\", \"2020-12-14\", \"2020-12-15\", \"2020-12-16\", \"2020-12-17\", \"2020-12-18\", \"2020-12-21\", \"2020-12-22\", \"2020-12-23\", \"2020-12-24\", \"2020-12-25\", \"2020-12-28\", \"2020-12-29\", \"2020-12-30\", \"2020-12-31\", \"2021-01-04\", \"2021-01-05\", \"2021-01-06\", \"2021-01-07\", \"2021-01-08\", \"2021-01-11\", \"2021-01-12\", \"2021-01-13\", \"2021-01-14\", \"2021-01-15\", \"2021-01-18\", \"2021-01-19\", \"2021-01-20\", \"2021-01-21\", \"2021-01-22\", \"2021-01-25\", \"2021-01-26\", \"2021-01-27\", \"2021-01-28\", \"2021-01-29\", \"2021-02-01\", \"2021-02-02\", \"2021-02-03\", \"2021-02-04\", \"2021-02-05\", \"2021-02-08\", \"2021-02-09\", \"2021-02-10\"], \"xaxis\": \"x2\", \"y\": [0.0, -9.971509971506975e-05, -9.515448648720923e-05, 0.0008781728097091453, 0.000863862258416703, 0.0007633268523701247, -0.0003786694408710891, -0.0013009551208600775, -0.0013182815932265561, -0.00043587079380966843, 9.302742531489856e-05, -0.0004697850764757451, -0.0029936260658711203, -0.00246207592241998, -0.002451512579143937, -0.00035229879936594195, 0.00342650261262488, 0.003042063649389995, 0.004689214456502151, 0.006997828232370078, 0.008015622389669106, 0.007631135675299944, 0.008548248528859458, 0.010224930258854879, 0.011725318808679124, 0.012461707014005941, 0.01209547432160172, 0.008176764516153429, 0.006244508910537478, 0.00797254756152397, 0.0060521798504507805, 0.00015935924347793354, -0.00319162013837607, -0.007744143824686925, -0.011605449700087457, -0.008794752458556206, -0.0049368635466434385, -0.003034553811157397, -0.0012337694135611185, 0.00408043984209093, 0.013159135111925954, 0.04501396243152906, 0.059833923355286874, 0.059972385840634426, 0.05075776122283511, 0.031693170282339866, 0.01670127939861897, 0.0012682217026015047, -0.013016795095816686, -0.023306653143291917, -0.02924881002203443, -0.02769664122092895, -0.027742540719772057, -0.027468516929558685, -0.030094256280309963, -0.03370431156072578, -0.035144671817026685, -0.03380748137079051, -0.028826631416970457, -0.026814544676784714, -0.025443596264824817, -0.021956531169572364, -0.014107722753246975, -0.011508847373801735, -0.0078725434749575, -0.007565130270632891, -0.006170219672962812, -0.005422598850665119, -0.0038372528807418156, -0.003071971404945917, 0.0003243266545015881, 0.007099076415923004, 0.00862481581359438, 0.008032788365911172, 0.00548953887093389, 0.0043896312294219465, 0.002332352348860643, 0.0016874708938661252, 4.743536215265701e-05, -0.001493734503950189, -0.0003407771454003016, -0.0020183441790757265, -0.0028290443926929035, -0.0055964858063243285, -0.00752082071486871, -0.008798761296937161, -0.008947127121301177, -0.005171849449780594, -0.0029485131682206803, -0.0030829668732210123, -0.001493086565675223, -0.0001776622546286466, 0.00025946826662667094, 0.00203580981616297, 0.0032782731828434573, 0.006664746929167308, 0.007375397755139585, 0.005716927317991415, 0.003923159258483445, 0.0014917528719354117, -0.0005773630332311097, 0.0015180358888358704, 0.0010067360445810344, 0.0014379903343785007, 0.001158159452732229, 0.0042726925299283215, 0.0035996174670013432, 0.0031317077707862743, 0.0034478238950508625, 0.00742118985380346, 0.01154750801303212, 0.011060601431985506, 0.014701357922395849, 0.016876426516073455, 0.017342260501544443, 0.014120442548772816, 0.011914486115470671, 0.007881304668031669, 0.002258190630570924, -0.004071851778380837, -0.006675147369798783, -0.00742902808610872, -0.007605407393336228, -0.007393239825098846, -0.006293672938370253, -0.004043055350591469, 9.654272442707716e-05, 0.0058410465318544675, 0.005257409982570347, 0.0013641695896235099, 6.456917021441591e-05, 0.00045859510066413416, 0.0025306107682276863, 0.004263661799211135, 0.004407373783253479, 0.006728137791350661, 0.006447481020604278, 0.005174481900954837, 0.007163419542831527, 0.027030395916205232, 0.033387825936518185, 0.04490801727596598, 0.048109040509544926, 0.042627479021318845, 0.03189403405534584, 0.015167934785722773, -0.0012811637837598783, -0.013500588162679877, -0.023673943462175287, -0.028148576747503054, -0.03194349346811345, -0.03567880829784889, -0.03718512029554467, -0.034577931441016924, -0.03327937865725274, -0.03087875719349374, -0.03167188582814731, -0.029247644444084585, -0.0261435865242362, -0.022078392174637154, -0.018211733272671102, -0.013992526649865129, -0.01165615939880459, -0.007404955753632592, -0.0027977219678402936, -0.002031527178166889, -0.0011556562389624242, 0.0016602025441479693, 0.003626086551217673, 0.004309727951312875, 0.006696726079398172, 0.010649137416567794, 0.014074904900775908, 0.020149797065163986, 0.0224153219200921, 0.026590588532407457, 0.024663429771890646, 0.02087072862328034, 0.011592760471710775, 0.0057184377376920375, 0.00035783394439036983, -0.0005715278112978384, -0.003778860959008914, -0.0018554738786423046, 0.002548975019733536, 0.0018900446199780867, -0.0019122795117484312, -0.002375728816244033, 0.004388684358839259, 0.007022484631904148, 0.0075513993010742075, 0.013736015219426821], \"yaxis\": \"y2\"}, {\"name\": \"macd_high\", \"type\": \"bar\", \"x\": [\"2020-05-06\", \"2020-05-07\", \"2020-05-08\", \"2020-05-11\", \"2020-05-12\", \"2020-05-13\", \"2020-05-14\", \"2020-05-15\", \"2020-05-18\", \"2020-05-19\", \"2020-05-20\", \"2020-05-21\", \"2020-05-22\", \"2020-05-25\", \"2020-05-26\", \"2020-05-27\", \"2020-05-28\", \"2020-05-29\", \"2020-06-01\", \"2020-06-02\", \"2020-06-03\", \"2020-06-04\", \"2020-06-05\", \"2020-06-08\", \"2020-06-09\", \"2020-06-10\", \"2020-06-11\", \"2020-06-12\", \"2020-06-15\", \"2020-06-16\", \"2020-06-17\", \"2020-06-18\", \"2020-06-19\", \"2020-06-22\", \"2020-06-23\", \"2020-06-24\", \"2020-06-29\", \"2020-06-30\", \"2020-07-01\", \"2020-07-02\", \"2020-07-03\", \"2020-07-06\", \"2020-07-07\", \"2020-07-08\", \"2020-07-09\", \"2020-07-10\", \"2020-07-13\", \"2020-07-14\", \"2020-07-15\", \"2020-07-16\", \"2020-07-17\", \"2020-07-20\", \"2020-07-21\", \"2020-07-22\", \"2020-07-23\", \"2020-07-24\", \"2020-07-27\", \"2020-07-28\", \"2020-07-29\", \"2020-07-30\", \"2020-07-31\", \"2020-08-03\", \"2020-08-04\", \"2020-08-05\", \"2020-08-06\", \"2020-08-07\", \"2020-08-10\", \"2020-08-11\", \"2020-08-12\", \"2020-08-13\", \"2020-08-14\", \"2020-08-17\", \"2020-08-18\", \"2020-08-19\", \"2020-08-20\", \"2020-08-21\", \"2020-08-24\", \"2020-08-25\", \"2020-08-26\", \"2020-08-27\", \"2020-08-28\", \"2020-08-31\", \"2020-09-01\", \"2020-09-02\", \"2020-09-03\", \"2020-09-04\", \"2020-09-07\", \"2020-09-08\", \"2020-09-09\", \"2020-09-10\", \"2020-09-11\", \"2020-09-14\", \"2020-09-15\", \"2020-09-16\", \"2020-09-17\", \"2020-09-18\", \"2020-09-21\", \"2020-09-22\", \"2020-09-23\", \"2020-09-24\", \"2020-09-25\", \"2020-09-28\", \"2020-09-29\", \"2020-09-30\", \"2020-10-09\", \"2020-10-12\", \"2020-10-13\", \"2020-10-14\", \"2020-10-15\", \"2020-10-16\", \"2020-10-19\", \"2020-10-20\", \"2020-10-21\", \"2020-10-22\", \"2020-10-23\", \"2020-10-26\", \"2020-10-27\", \"2020-10-28\", \"2020-10-29\", \"2020-10-30\", \"2020-11-02\", \"2020-11-03\", \"2020-11-04\", \"2020-11-05\", \"2020-11-06\", \"2020-11-09\", \"2020-11-10\", \"2020-11-11\", \"2020-11-12\", \"2020-11-13\", \"2020-11-16\", \"2020-11-17\", \"2020-11-18\", \"2020-11-19\", \"2020-11-20\", \"2020-11-23\", \"2020-11-24\", \"2020-11-25\", \"2020-11-26\", \"2020-11-27\", \"2020-11-30\", \"2020-12-01\", \"2020-12-02\", \"2020-12-03\", \"2020-12-04\", \"2020-12-07\", \"2020-12-08\", \"2020-12-09\", \"2020-12-10\", \"2020-12-11\", \"2020-12-14\", \"2020-12-15\", \"2020-12-16\", \"2020-12-17\", \"2020-12-18\", \"2020-12-21\", \"2020-12-22\", \"2020-12-23\", \"2020-12-24\", \"2020-12-25\", \"2020-12-28\", \"2020-12-29\", \"2020-12-30\", \"2020-12-31\", \"2021-01-04\", \"2021-01-05\", \"2021-01-06\", \"2021-01-07\", \"2021-01-08\", \"2021-01-11\", \"2021-01-12\", \"2021-01-13\", \"2021-01-14\", \"2021-01-15\", \"2021-01-18\", \"2021-01-19\", \"2021-01-20\", \"2021-01-21\", \"2021-01-22\", \"2021-01-25\", \"2021-01-26\", \"2021-01-27\", \"2021-01-28\", \"2021-01-29\", \"2021-02-01\", \"2021-02-02\", \"2021-02-03\", \"2021-02-04\", \"2021-02-05\", \"2021-02-08\", \"2021-02-09\", \"2021-02-10\"], \"xaxis\": \"x3\", \"y\": [0.0, -9.971509971506975e-05, 8.785499644345431e-05, 0.0006099425110103874, 0.0010139315060311556, 0.0004576736112865507, 0.000140112186559089, -0.0004050964345644575, -0.0014373852252956962, -0.0007097204059424236, -0.0006692022883381235, -0.0001709668434166747, -0.0007586165087595824, -0.0015156752551786557, -0.0014008795229330968, -0.0002760992052994588, 0.002894444935143502, 0.0031619791749218757, 0.00365630539216649, 0.0053044953944587385, 0.008643622744178119, 0.008582430102555626, 0.008554249074323752, 0.010184799248591857, 0.011650326919532694, 0.01179959179055913, 0.012229897431091739, 0.01279609103713943, 0.011669176772569359, 0.010096370202959178, 0.007721167116540646, 0.0008280169381839897, -0.004408760017677666, -0.007135749230047995, -0.012320842550559302, -0.010337929482419222, -0.0045335211550705246, -0.0020752104697956304, -0.0030584379364650104, 0.0011872417186147254, 0.010336293642185461, 0.041749397447660624, 0.07371802653958112, 0.07331513599003367, 0.059887640023258484, 0.042577367112778736, 0.021147610197998892, 0.002564410282743415, -0.011397197864396691, -0.02358279227855696, -0.03396674702208996, -0.03570275436817762, -0.035611350104175904, -0.0342983387942121, -0.03598787820495941, -0.03876181424736719, -0.0407226986333599, -0.0400859210048242, -0.0364995183712187, -0.03243320410227585, -0.02883821193482819, -0.02566180456763885, -0.017787975483164756, -0.014312757681130862, -0.011208389183704592, -0.009742668607458246, -0.008724392081533056, -0.006115283311649598, -0.005807789156280593, -0.004404507787643501, -0.0017421354030384036, 0.0060250580929451895, 0.009575996795597234, 0.010276048961427395, 0.007856201805648323, 0.005498749498718227, 0.003927930414423811, 0.0022868276953100022, 0.0006823879961160989, -0.0014535361621905406, -0.0006224052421283585, 0.00011517452843398668, -0.0017935329872066676, -0.0033452328448754613, -0.005221590760833266, -0.007828678607628092, -0.008189649422466829, -0.005192683066030938, -0.0034238790669844296, -0.0018722329780789491, -0.0005337751617942033, -3.5569567479000475e-05, -9.008870578473133e-05, 0.0007874832175958323, 0.0022014957959347846, 0.005148238482723545, 0.007613852578011823, 0.007079871592779431, 0.005315485204154334, 0.002860243963841009, 0.0007320685224775011, 0.0014705500291607478, 0.0026878481371460823, 0.0034973541748706954, 0.0033628634639652003, 0.005188094919280961, 0.0055820895564211714, 0.0037695643328152454, 0.003850640978672659, 0.008295839485040868, 0.014586446143599881, 0.013375848813678586, 0.01579158092853598, 0.016489125767329995, 0.016673688822098222, 0.015212857659500825, 0.011486419930025376, 0.0077853156875312204, 0.002362017252598308, -0.0019474632925034173, -0.006604725636243572, -0.007392023797125674, -0.0076099673561835154, -0.006804146857306483, -0.0066596573510118865, -0.005645795055406819, -0.0009365904070797078, 0.003929630094949999, 0.005439480921918668, 0.0028396248799596475, -0.0002918517522498224, -0.0016772575565936424, 0.0006608109916371764, 0.002017831446179348, 0.003322372226093044, 0.00515622226061194, 0.006575788801084831, 0.008284450225188112, 0.008151370182744384, 0.02599724640769338, 0.05156458294272449, 0.055625317550441575, 0.05671530615299879, 0.05065154639081375, 0.03711553969164423, 0.022711898659833377, 0.004638720275019284, -0.011606754891114526, -0.025190424376938123, -0.03505989337468077, -0.039451406901749225, -0.043280174278883185, -0.04390418169794336, -0.043024902172856413, -0.04115142270138891, -0.038659216767930514, -0.036459912046088595, -0.035114557832055776, -0.03174224136269822, -0.028480247485995144, -0.024755314591949542, -0.02024089095873395, -0.016060324719045317, -0.010357037278020731, -0.005889231803657767, -0.003692939428160638, -0.0023889289174459163, 0.00020742855875468397, 0.0041154014241921305, 0.007354876605459942, 0.00807424207807255, 0.010986991795531996, 0.018287658095479848, 0.029190543259237613, 0.029587811463754728, 0.03097021037015933, 0.032188839397493646, 0.026147637671000208, 0.017727736444925896, 0.006941540172692592, 0.0009653898032524373, 0.0021442193327414812, -0.0024698503709808615, -0.0021710000219894512, -7.989701381295143e-05, 0.0030251183404232003, 0.0008523827428820081, -0.0006873314092287978, 0.003995588118628948, 0.005942377175437361, 0.0035059092961089236, 0.015672596919936214], \"yaxis\": \"y3\"}, {\"name\": \"macd_low\", \"type\": \"bar\", \"x\": [\"2020-05-06\", \"2020-05-07\", \"2020-05-08\", \"2020-05-11\", \"2020-05-12\", \"2020-05-13\", \"2020-05-14\", \"2020-05-15\", \"2020-05-18\", \"2020-05-19\", \"2020-05-20\", \"2020-05-21\", \"2020-05-22\", \"2020-05-25\", \"2020-05-26\", \"2020-05-27\", \"2020-05-28\", \"2020-05-29\", \"2020-06-01\", \"2020-06-02\", \"2020-06-03\", \"2020-06-04\", \"2020-06-05\", \"2020-06-08\", \"2020-06-09\", \"2020-06-10\", \"2020-06-11\", \"2020-06-12\", \"2020-06-15\", \"2020-06-16\", \"2020-06-17\", \"2020-06-18\", \"2020-06-19\", \"2020-06-22\", \"2020-06-23\", \"2020-06-24\", \"2020-06-29\", \"2020-06-30\", \"2020-07-01\", \"2020-07-02\", \"2020-07-03\", \"2020-07-06\", \"2020-07-07\", \"2020-07-08\", \"2020-07-09\", \"2020-07-10\", \"2020-07-13\", \"2020-07-14\", \"2020-07-15\", \"2020-07-16\", \"2020-07-17\", \"2020-07-20\", \"2020-07-21\", \"2020-07-22\", \"2020-07-23\", \"2020-07-24\", \"2020-07-27\", \"2020-07-28\", \"2020-07-29\", \"2020-07-30\", \"2020-07-31\", \"2020-08-03\", \"2020-08-04\", \"2020-08-05\", \"2020-08-06\", \"2020-08-07\", \"2020-08-10\", \"2020-08-11\", \"2020-08-12\", \"2020-08-13\", \"2020-08-14\", \"2020-08-17\", \"2020-08-18\", \"2020-08-19\", \"2020-08-20\", \"2020-08-21\", \"2020-08-24\", \"2020-08-25\", \"2020-08-26\", \"2020-08-27\", \"2020-08-28\", \"2020-08-31\", \"2020-09-01\", \"2020-09-02\", \"2020-09-03\", \"2020-09-04\", \"2020-09-07\", \"2020-09-08\", \"2020-09-09\", \"2020-09-10\", \"2020-09-11\", \"2020-09-14\", \"2020-09-15\", \"2020-09-16\", \"2020-09-17\", \"2020-09-18\", \"2020-09-21\", \"2020-09-22\", \"2020-09-23\", \"2020-09-24\", \"2020-09-25\", \"2020-09-28\", \"2020-09-29\", \"2020-09-30\", \"2020-10-09\", \"2020-10-12\", \"2020-10-13\", \"2020-10-14\", \"2020-10-15\", \"2020-10-16\", \"2020-10-19\", \"2020-10-20\", \"2020-10-21\", \"2020-10-22\", \"2020-10-23\", \"2020-10-26\", \"2020-10-27\", \"2020-10-28\", \"2020-10-29\", \"2020-10-30\", \"2020-11-02\", \"2020-11-03\", \"2020-11-04\", \"2020-11-05\", \"2020-11-06\", \"2020-11-09\", \"2020-11-10\", \"2020-11-11\", \"2020-11-12\", \"2020-11-13\", \"2020-11-16\", \"2020-11-17\", \"2020-11-18\", \"2020-11-19\", \"2020-11-20\", \"2020-11-23\", \"2020-11-24\", \"2020-11-25\", \"2020-11-26\", \"2020-11-27\", \"2020-11-30\", \"2020-12-01\", \"2020-12-02\", \"2020-12-03\", \"2020-12-04\", \"2020-12-07\", \"2020-12-08\", \"2020-12-09\", \"2020-12-10\", \"2020-12-11\", \"2020-12-14\", \"2020-12-15\", \"2020-12-16\", \"2020-12-17\", \"2020-12-18\", \"2020-12-21\", \"2020-12-22\", \"2020-12-23\", \"2020-12-24\", \"2020-12-25\", \"2020-12-28\", \"2020-12-29\", \"2020-12-30\", \"2020-12-31\", \"2021-01-04\", \"2021-01-05\", \"2021-01-06\", \"2021-01-07\", \"2021-01-08\", \"2021-01-11\", \"2021-01-12\", \"2021-01-13\", \"2021-01-14\", \"2021-01-15\", \"2021-01-18\", \"2021-01-19\", \"2021-01-20\", \"2021-01-21\", \"2021-01-22\", \"2021-01-25\", \"2021-01-26\", \"2021-01-27\", \"2021-01-28\", \"2021-01-29\", \"2021-02-01\", \"2021-02-02\", \"2021-02-03\", \"2021-02-04\", \"2021-02-05\", \"2021-02-08\", \"2021-02-09\", \"2021-02-10\"], \"xaxis\": \"x4\", \"y\": [0.0, 9.971509971467502e-05, 9.515448648750042e-05, 0.0003155300446586758, 0.0006371712201345166, 0.0007063755775100355, -1.0633347417719286e-05, -0.0007470870478331462, -0.0014728610578320213, -0.0005724908673851183, -2.6418115611737066e-05, 0.00028933436457985413, -0.001771851184703814, -0.003339142883296485, -0.002183965374575495, -0.0013425575224377561, 0.0012350764669961517, 0.0017511416517271858, 0.003005519659514823, 0.0041361874796442604, 0.007242188740448709, 0.008209680032351228, 0.007779420034897141, 0.00922984646722369, 0.01122003704305811, 0.012872084729485244, 0.01250899485287561, 0.009162334815143322, 0.008129054874597481, 0.008589265318294247, 0.007611250297647351, 0.0010557819458736177, -0.003935071781114772, -0.006487589670904171, -0.010356211624051623, -0.011222936292081528, -0.007717937478036875, -0.004055567067049855, -0.004127275658318779, -0.0016431897705948308, 0.006000852328899258, 0.018323976759547875, 0.04770958829882588, 0.05218693962721853, 0.0499770056848766, 0.03612388828364549, 0.02244837720823839, 0.010169942750453909, -0.002488530733514821, -0.012218657892426932, -0.01957715709325253, -0.022511024046968545, -0.021209099732695372, -0.021043163714635757, -0.023439833612901827, -0.027896514774010416, -0.030196210886218152, -0.02969252090461935, -0.02991760195073602, -0.025462208572882894, -0.02330905687200159, -0.02012709647460353, -0.016420992224363752, -0.01190911104940703, -0.009003631954267472, -0.007237068120460394, -0.006260717153166761, -0.004546782477991028, -0.0037203504173069293, -0.0022143045089068544, -0.0009917065379992443, 0.0031706433344610326, 0.007042798853176704, 0.008605762527545146, 0.006710721951681497, 0.005277732905887875, 0.004197435896624656, 0.0027485493946258384, 0.0011382320083773937, -0.0004915357739939084, -0.0014100109974629384, -0.0018313074377876055, -0.003189087863916612, -0.0050555233576054116, -0.007768855394632514, -0.00957846248333015, -0.01006755691050279, -0.009042908309920598, -0.00582744895553286, -0.004581972829564865, -0.0033508914511388016, -0.001548057358696009, -0.00011552652716943085, 0.0003723212937553101, 0.0021549505962740675, 0.00401300096665852, 0.005811797299840028, 0.005552346196839374, 0.004641617778675743, 0.0020840105901042127, 0.0005372252981164921, -0.0002961380780729106, 0.001275905144176432, 0.00235639638113987, 0.003066780119002497, 0.0035009580037303634, 0.0037312754042573264, 0.0038132388013427804, 0.003151186907414571, 0.003964471178321995, 0.008203057723394734, 0.008605084073933553, 0.008475954919567624, 0.012467953423704735, 0.014976801314079729, 0.014476098749700591, 0.012720417221297704, 0.009603069599292975, 0.005135663172378381, -0.0005935806284715246, -0.004259552406724411, -0.004516039699988213, -0.005164303709341409, -0.0047361068302819165, -0.004921129401607369, -0.0029170322458203666, 0.0009989028677351158, 0.003353011425204026, 0.0052352969302098176, 0.002244201083984272, 0.0008173005300491452, 0.00044374650650079797, 0.0007489820734270947, 0.0033764340392652345, 0.004123188244758234, 0.004280772673786116, 0.006603703522613188, 0.0069562016827656205, 0.006039336970464326, 0.010104636339580898, 0.024714507634018577, 0.030433505905687254, 0.03659238027320026, 0.03751536523933504, 0.02800285639523157, 0.016851595263478146, 0.004581183614444942, -0.00520521896379441, -0.014824321770429492, -0.021886016705012168, -0.025010196373400573, -0.02927466981336723, -0.03013455278520548, -0.03129943464159267, -0.02933221832881754, -0.026714479852542307, -0.02759438493122668, -0.026090312529227066, -0.023111389962670398, -0.01931154427001129, -0.017066861539420528, -0.013322998885760409, -0.010719896284510373, -0.007667476902017835, -0.005114146330349345, -0.003634003568333724, -0.0016194729824943743, -1.0087495192979273e-05, 0.003175543149718827, 0.005260374019566541, 0.005257614185289104, 0.0077636077953758785, 0.011692976564445255, 0.017558206358878364, 0.019183906553115346, 0.020576109190339177, 0.022340257432690105, 0.020365080756215567, 0.013550589351405493, 0.00594377953308374, 0.0020546308622969023, 0.0006948329194778058, -0.0015626224781270185, -0.0023462825034197016, -0.0008834152107174888, 0.0019128595168416643, 0.00028853268521804136, -0.0008311677426966618, 0.00034054188709563456, 0.004800793005615834, 0.006610247855043799, 0.013668254767248176], \"yaxis\": \"y4\"}],                        {\"annotations\": [{\"font\": {\"size\": 16}, \"showarrow\": false, \"text\": \"y\\u8f74\\u6807\\u9898\", \"textangle\": -90, \"x\": 0, \"xanchor\": \"right\", \"xref\": \"paper\", \"xshift\": -40, \"y\": 0.5, \"yanchor\": \"middle\", \"yref\": \"paper\"}], \"coloraxis\": {\"colorbar\": {\"ticks\": \"outside\", \"x\": 0.75, \"xanchor\": \"left\"}}, \"font\": {\"color\": \"RebeccaPurple\", \"family\": \"Times New Roman\", \"size\": 20}, \"height\": 800, \"margin\": {\"b\": 0, \"l\": 20, \"r\": 0, \"t\": 0}, \"template\": {\"data\": {\"bar\": [{\"error_x\": {\"color\": \"#2a3f5f\"}, \"error_y\": {\"color\": \"#2a3f5f\"}, \"marker\": {\"line\": {\"color\": \"#E5ECF6\", \"width\": 0.5}}, \"type\": \"bar\"}], \"barpolar\": [{\"marker\": {\"line\": {\"color\": \"#E5ECF6\", \"width\": 0.5}}, \"type\": \"barpolar\"}], \"carpet\": [{\"aaxis\": {\"endlinecolor\": \"#2a3f5f\", \"gridcolor\": \"white\", \"linecolor\": \"white\", \"minorgridcolor\": \"white\", \"startlinecolor\": \"#2a3f5f\"}, \"baxis\": {\"endlinecolor\": \"#2a3f5f\", \"gridcolor\": \"white\", \"linecolor\": \"white\", \"minorgridcolor\": \"white\", \"startlinecolor\": \"#2a3f5f\"}, \"type\": \"carpet\"}], \"choropleth\": [{\"colorbar\": {\"outlinewidth\": 0, \"ticks\": \"\"}, \"type\": \"choropleth\"}], \"contour\": [{\"colorbar\": {\"outlinewidth\": 0, \"ticks\": \"\"}, \"colorscale\": [[0.0, \"#0d0887\"], [0.1111111111111111, \"#46039f\"], [0.2222222222222222, \"#7201a8\"], [0.3333333333333333, \"#9c179e\"], [0.4444444444444444, \"#bd3786\"], [0.5555555555555556, \"#d8576b\"], [0.6666666666666666, \"#ed7953\"], [0.7777777777777778, \"#fb9f3a\"], [0.8888888888888888, \"#fdca26\"], [1.0, \"#f0f921\"]], \"type\": \"contour\"}], \"contourcarpet\": [{\"colorbar\": {\"outlinewidth\": 0, \"ticks\": \"\"}, \"type\": \"contourcarpet\"}], \"heatmap\": [{\"colorbar\": {\"outlinewidth\": 0, \"ticks\": \"\"}, \"colorscale\": [[0.0, \"#0d0887\"], [0.1111111111111111, \"#46039f\"], [0.2222222222222222, \"#7201a8\"], [0.3333333333333333, \"#9c179e\"], [0.4444444444444444, \"#bd3786\"], [0.5555555555555556, \"#d8576b\"], [0.6666666666666666, \"#ed7953\"], [0.7777777777777778, \"#fb9f3a\"], [0.8888888888888888, \"#fdca26\"], [1.0, \"#f0f921\"]], \"type\": \"heatmap\"}], \"heatmapgl\": [{\"colorbar\": {\"outlinewidth\": 0, \"ticks\": \"\"}, \"colorscale\": [[0.0, \"#0d0887\"], [0.1111111111111111, \"#46039f\"], [0.2222222222222222, \"#7201a8\"], [0.3333333333333333, \"#9c179e\"], [0.4444444444444444, \"#bd3786\"], [0.5555555555555556, \"#d8576b\"], [0.6666666666666666, \"#ed7953\"], [0.7777777777777778, \"#fb9f3a\"], [0.8888888888888888, \"#fdca26\"], [1.0, \"#f0f921\"]], \"type\": \"heatmapgl\"}], \"histogram\": [{\"marker\": {\"colorbar\": {\"outlinewidth\": 0, \"ticks\": \"\"}}, \"type\": \"histogram\"}], \"histogram2d\": [{\"colorbar\": {\"outlinewidth\": 0, \"ticks\": \"\"}, \"colorscale\": [[0.0, \"#0d0887\"], [0.1111111111111111, \"#46039f\"], [0.2222222222222222, \"#7201a8\"], [0.3333333333333333, \"#9c179e\"], [0.4444444444444444, \"#bd3786\"], [0.5555555555555556, \"#d8576b\"], [0.6666666666666666, \"#ed7953\"], [0.7777777777777778, \"#fb9f3a\"], [0.8888888888888888, \"#fdca26\"], [1.0, \"#f0f921\"]], \"type\": \"histogram2d\"}], \"histogram2dcontour\": [{\"colorbar\": {\"outlinewidth\": 0, \"ticks\": \"\"}, \"colorscale\": [[0.0, \"#0d0887\"], [0.1111111111111111, \"#46039f\"], [0.2222222222222222, \"#7201a8\"], [0.3333333333333333, \"#9c179e\"], [0.4444444444444444, \"#bd3786\"], [0.5555555555555556, \"#d8576b\"], [0.6666666666666666, \"#ed7953\"], [0.7777777777777778, \"#fb9f3a\"], [0.8888888888888888, \"#fdca26\"], [1.0, \"#f0f921\"]], \"type\": \"histogram2dcontour\"}], \"mesh3d\": [{\"colorbar\": {\"outlinewidth\": 0, \"ticks\": \"\"}, \"type\": \"mesh3d\"}], \"parcoords\": [{\"line\": {\"colorbar\": {\"outlinewidth\": 0, \"ticks\": \"\"}}, \"type\": \"parcoords\"}], \"pie\": [{\"automargin\": true, \"type\": \"pie\"}], \"scatter\": [{\"marker\": {\"colorbar\": {\"outlinewidth\": 0, \"ticks\": \"\"}}, \"type\": \"scatter\"}], \"scatter3d\": [{\"line\": {\"colorbar\": {\"outlinewidth\": 0, \"ticks\": \"\"}}, \"marker\": {\"colorbar\": {\"outlinewidth\": 0, \"ticks\": \"\"}}, \"type\": \"scatter3d\"}], \"scattercarpet\": [{\"marker\": {\"colorbar\": {\"outlinewidth\": 0, \"ticks\": \"\"}}, \"type\": \"scattercarpet\"}], \"scattergeo\": [{\"marker\": {\"colorbar\": {\"outlinewidth\": 0, \"ticks\": \"\"}}, \"type\": \"scattergeo\"}], \"scattergl\": [{\"marker\": {\"colorbar\": {\"outlinewidth\": 0, \"ticks\": \"\"}}, \"type\": \"scattergl\"}], \"scattermapbox\": [{\"marker\": {\"colorbar\": {\"outlinewidth\": 0, \"ticks\": \"\"}}, \"type\": \"scattermapbox\"}], \"scatterpolar\": [{\"marker\": {\"colorbar\": {\"outlinewidth\": 0, \"ticks\": \"\"}}, \"type\": \"scatterpolar\"}], \"scatterpolargl\": [{\"marker\": {\"colorbar\": {\"outlinewidth\": 0, \"ticks\": \"\"}}, \"type\": \"scatterpolargl\"}], \"scatterternary\": [{\"marker\": {\"colorbar\": {\"outlinewidth\": 0, \"ticks\": \"\"}}, \"type\": \"scatterternary\"}], \"surface\": [{\"colorbar\": {\"outlinewidth\": 0, \"ticks\": \"\"}, \"colorscale\": [[0.0, \"#0d0887\"], [0.1111111111111111, \"#46039f\"], [0.2222222222222222, \"#7201a8\"], [0.3333333333333333, \"#9c179e\"], [0.4444444444444444, \"#bd3786\"], [0.5555555555555556, \"#d8576b\"], [0.6666666666666666, \"#ed7953\"], [0.7777777777777778, \"#fb9f3a\"], [0.8888888888888888, \"#fdca26\"], [1.0, \"#f0f921\"]], \"type\": \"surface\"}], \"table\": [{\"cells\": {\"fill\": {\"color\": \"#EBF0F8\"}, \"line\": {\"color\": \"white\"}}, \"header\": {\"fill\": {\"color\": \"#C8D4E3\"}, \"line\": {\"color\": \"white\"}}, \"type\": \"table\"}]}, \"layout\": {\"annotationdefaults\": {\"arrowcolor\": \"#2a3f5f\", \"arrowhead\": 0, \"arrowwidth\": 1}, \"autotypenumbers\": \"strict\", \"coloraxis\": {\"colorbar\": {\"outlinewidth\": 0, \"ticks\": \"\"}}, \"colorscale\": {\"diverging\": [[0, \"#8e0152\"], [0.1, \"#c51b7d\"], [0.2, \"#de77ae\"], [0.3, \"#f1b6da\"], [0.4, \"#fde0ef\"], [0.5, \"#f7f7f7\"], [0.6, \"#e6f5d0\"], [0.7, \"#b8e186\"], [0.8, \"#7fbc41\"], [0.9, \"#4d9221\"], [1, \"#276419\"]], \"sequential\": [[0.0, \"#0d0887\"], [0.1111111111111111, \"#46039f\"], [0.2222222222222222, \"#7201a8\"], [0.3333333333333333, \"#9c179e\"], [0.4444444444444444, \"#bd3786\"], [0.5555555555555556, \"#d8576b\"], [0.6666666666666666, \"#ed7953\"], [0.7777777777777778, \"#fb9f3a\"], [0.8888888888888888, \"#fdca26\"], [1.0, \"#f0f921\"]], \"sequentialminus\": [[0.0, \"#0d0887\"], [0.1111111111111111, \"#46039f\"], [0.2222222222222222, \"#7201a8\"], [0.3333333333333333, \"#9c179e\"], [0.4444444444444444, \"#bd3786\"], [0.5555555555555556, \"#d8576b\"], [0.6666666666666666, \"#ed7953\"], [0.7777777777777778, \"#fb9f3a\"], [0.8888888888888888, \"#fdca26\"], [1.0, \"#f0f921\"]]}, \"colorway\": [\"#636efa\", \"#EF553B\", \"#00cc96\", \"#ab63fa\", \"#FFA15A\", \"#19d3f3\", \"#FF6692\", \"#B6E880\", \"#FF97FF\", \"#FECB52\"], \"font\": {\"color\": \"#2a3f5f\"}, \"geo\": {\"bgcolor\": \"white\", \"lakecolor\": \"white\", \"landcolor\": \"#E5ECF6\", \"showlakes\": true, \"showland\": true, \"subunitcolor\": \"white\"}, \"hoverlabel\": {\"align\": \"left\"}, \"hovermode\": \"closest\", \"mapbox\": {\"style\": \"light\"}, \"paper_bgcolor\": \"white\", \"plot_bgcolor\": \"#E5ECF6\", \"polar\": {\"angularaxis\": {\"gridcolor\": \"white\", \"linecolor\": \"white\", \"ticks\": \"\"}, \"bgcolor\": \"#E5ECF6\", \"radialaxis\": {\"gridcolor\": \"white\", \"linecolor\": \"white\", \"ticks\": \"\"}}, \"scene\": {\"xaxis\": {\"backgroundcolor\": \"#E5ECF6\", \"gridcolor\": \"white\", \"gridwidth\": 2, \"linecolor\": \"white\", \"showbackground\": true, \"ticks\": \"\", \"zerolinecolor\": \"white\"}, \"yaxis\": {\"backgroundcolor\": \"#E5ECF6\", \"gridcolor\": \"white\", \"gridwidth\": 2, \"linecolor\": \"white\", \"showbackground\": true, \"ticks\": \"\", \"zerolinecolor\": \"white\"}, \"zaxis\": {\"backgroundcolor\": \"#E5ECF6\", \"gridcolor\": \"white\", \"gridwidth\": 2, \"linecolor\": \"white\", \"showbackground\": true, \"ticks\": \"\", \"zerolinecolor\": \"white\"}}, \"shapedefaults\": {\"line\": {\"color\": \"#2a3f5f\"}}, \"ternary\": {\"aaxis\": {\"gridcolor\": \"white\", \"linecolor\": \"white\", \"ticks\": \"\"}, \"baxis\": {\"gridcolor\": \"white\", \"linecolor\": \"white\", \"ticks\": \"\"}, \"bgcolor\": \"#E5ECF6\", \"caxis\": {\"gridcolor\": \"white\", \"linecolor\": \"white\", \"ticks\": \"\"}}, \"title\": {\"x\": 0.05}, \"xaxis\": {\"automargin\": true, \"gridcolor\": \"white\", \"linecolor\": \"white\", \"ticks\": \"\", \"title\": {\"standoff\": 15}, \"zerolinecolor\": \"white\", \"zerolinewidth\": 2}, \"yaxis\": {\"automargin\": true, \"gridcolor\": \"white\", \"linecolor\": \"white\", \"ticks\": \"\", \"title\": {\"standoff\": 15}, \"zerolinecolor\": \"white\", \"zerolinewidth\": 2}}}, \"title\": {\"x\": 0.5}, \"width\": 1000, \"xaxis\": {\"anchor\": \"y\", \"domain\": [0.0, 1.0], \"matches\": \"x4\", \"rangeslider\": {\"visible\": false}, \"showticklabels\": false}, \"xaxis2\": {\"anchor\": \"y2\", \"domain\": [0.0, 1.0], \"matches\": \"x4\", \"rangeslider\": {\"visible\": false}, \"showticklabels\": false}, \"xaxis3\": {\"anchor\": \"y3\", \"domain\": [0.0, 1.0], \"matches\": \"x4\", \"showticklabels\": false}, \"xaxis4\": {\"anchor\": \"y4\", \"domain\": [0.0, 1.0], \"rangeslider\": {\"visible\": true}}, \"yaxis\": {\"anchor\": \"x\", \"domain\": [0.8, 1]}, \"yaxis2\": {\"anchor\": \"x2\", \"domain\": [0.6, 0.75]}, \"yaxis3\": {\"anchor\": \"x3\", \"domain\": [0.4, 0.55]}, \"yaxis4\": {\"anchor\": \"x4\", \"domain\": [0.1, 0.35]}},                        {\"responsive\": true}                    ).then(function(){\n",
       "                            \n",
       "var gd = document.getElementById('0c010687-3502-468a-8e79-8e5cbcf0ebbc');\n",
       "var x = new MutationObserver(function (mutations, observer) {{\n",
       "        var display = window.getComputedStyle(gd).display;\n",
       "        if (!display || display === 'none') {{\n",
       "            console.log([gd, 'removed!']);\n",
       "            Plotly.purge(gd);\n",
       "            observer.disconnect();\n",
       "        }}\n",
       "}});\n",
       "\n",
       "// Listen for the removal of the full notebook cells\n",
       "var notebookContainer = gd.closest('#notebook-container');\n",
       "if (notebookContainer) {{\n",
       "    x.observe(notebookContainer, {childList: true});\n",
       "}}\n",
       "\n",
       "// Listen for the clearing of the current output cell\n",
       "var outputEl = gd.closest('.output');\n",
       "if (outputEl) {{\n",
       "    x.observe(outputEl, {childList: true});\n",
       "}}\n",
       "\n",
       "                        })                };                });            </script>        </div>"
      ]
     },
     "metadata": {},
     "output_type": "display_data"
    }
   ],
   "source": []
  },
  {
   "cell_type": "code",
   "execution_count": 55,
   "metadata": {},
   "outputs": [],
   "source": [
    "import plotly.graph_objects as go\n",
    "import plotly.express as px\n",
    "import pandas as pd\n",
    "# df2 = df1[df1[\"dt\"]>=\"2020-03-01\"]\n",
    "from plotly.subplots import make_subplots\n",
    "\n",
    "def plot_new_macd(df3):\n",
    "    layout = dict(title_x=0.5, # title居中\n",
    "              font=dict(family=\"Times New Roman\",size=20,color=\"RebeccaPurple\"),\n",
    "              # 字体设置\n",
    "              coloraxis_colorbar=dict(xanchor=\"left\",x=0.75,ticks=\"outside\"),\n",
    "              # 颜色条设置\n",
    "              margin=dict(b= 0,l=20, r=0, t= 0),\n",
    "              width=1000,\n",
    "              height=800\n",
    "              # 大小设置\n",
    "             )\n",
    "    fig_all = make_subplots(rows=4,  # 将画布分为两行\n",
    "            cols=1,  # 将画布分为两列\n",
    "            subplot_titles=[\"\", \n",
    "                            \"\"\n",
    "                         ],  # 子图的标题\n",
    "            x_title=\"\",\n",
    "            y_title=\"y轴标题\", shared_xaxes=True\n",
    "           )\n",
    "\n",
    "    trace0 = go.Scatter(\n",
    "        name=\"close\",\n",
    "        x=df3[\"dt\"], y=df3[\"close\"],mode='markers+lines'\n",
    "    )\n",
    "    trace1 = go.Bar(\n",
    "        name=\"macd_close\",\n",
    "        x=df3[\"dt\"], y=df3[\"macd_close\"]\n",
    "    )\n",
    "\n",
    "    trace2 = go.Bar(\n",
    "         name=\"macd_high\",\n",
    "         x=df3[\"dt\"], y=df3[\"macd_high\"],\n",
    "    )\n",
    "    trace3 = go.Bar(\n",
    "         name=\"macd_low\",\n",
    "         x=df3[\"dt\"], y=df3[\"macd_low\"],\n",
    "    )\n",
    "\n",
    "    # fig = px.bar(df2, x='dt', y=\"macdh_volume\")\n",
    "\n",
    "    fig_all.append_trace(trace0,1,1)  # 将trace0添加到第一行第一列的位置\n",
    "    fig_all.append_trace(trace1,2,1)  # 将trace0添加到第一行第一列的位置\n",
    "    fig_all.append_trace(trace2,3,1)  # 将trace0添加到第一行第一列的位置\n",
    "    fig_all.append_trace(trace3,4,1)  # 将trace0添加到第一行第一列的位置\n",
    "\n",
    "    fig_all['layout']['yaxis1'].update(domain=[0.8, 1])\n",
    "    fig_all['layout']['yaxis2'].update(domain=[0.6, 0.75])\n",
    "    fig_all['layout']['yaxis3'].update(domain=[0.4, 0.55])\n",
    "    fig_all['layout']['yaxis4'].update(domain=[0.1, 0.35])\n",
    "\n",
    "\n",
    "\n",
    "    fig_all.update_layout(layout)\n",
    "    fig_all.update_layout(xaxis1_rangeslider_visible=False)\n",
    "    fig_all.update_layout(xaxis2_rangeslider_visible=False)\n",
    "    fig_all.update_layout(xaxis4_rangeslider_visible=True)\n",
    "\n",
    "    fig_all.show()\n",
    "# fig.show()"
   ]
  }
 ],
 "metadata": {
  "kernelspec": {
   "display_name": "Python 3",
   "language": "python",
   "name": "python3"
  },
  "language_info": {
   "codemirror_mode": {
    "name": "ipython",
    "version": 3
   },
   "file_extension": ".py",
   "mimetype": "text/x-python",
   "name": "python",
   "nbconvert_exporter": "python",
   "pygments_lexer": "ipython3",
   "version": "3.7.5"
  }
 },
 "nbformat": 4,
 "nbformat_minor": 2
}
