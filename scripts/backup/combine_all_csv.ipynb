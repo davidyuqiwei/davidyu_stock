{
 "cells": [
  {
   "cell_type": "code",
   "execution_count": 2,
   "metadata": {},
   "outputs": [],
   "source": [
    "## this script combine all the csv files in the folder\n",
    "from package_path_define.path_define import *\n",
    "from package_downloaddata.download_data_v1 import save_dir1\n",
    "import pandas as pd\n",
    "\n",
    "\n",
    "def combine_csv_in_folder(folder,save_name=\"data_combine.csv\"):\n",
    "    files=os.listdir(folder)\n",
    "    data_file='.//'.join([folder,files[0]])\n",
    "    df1=pd.read_csv(data_file)\n",
    "    for i in range(1,len(files)):\n",
    "    #for i in range(1,20):\n",
    "        data_file='.//'.join([folder,files[i]])\n",
    "        df2=pd.read_csv(data_file)\n",
    "        df1=pd.concat([df1,df2])\n",
    "    df1.to_csv('.//'.join([folder,save_name]),index=False)\n",
    "    return df1\n",
    "\n",
    "path_stock_owner_liutong=r'\\\\'.join([main_path,\"data_to_sql_owner\"])\n",
    "df1=combine_csv_in_folder(path_stock_owner_liutong)\n"
   ]
  },
  {
   "cell_type": "code",
   "execution_count": 16,
   "metadata": {},
   "outputs": [
    {
     "ename": "NameError",
     "evalue": "name 'os' is not defined",
     "output_type": "error",
     "traceback": [
      "\u001b[1;31m---------------------------------------------------------------------------\u001b[0m",
      "\u001b[1;31mNameError\u001b[0m                                 Traceback (most recent call last)",
      "\u001b[1;32m<ipython-input-16-4d7c93787f6f>\u001b[0m in \u001b[0;36m<module>\u001b[1;34m()\u001b[0m\n\u001b[0;32m      7\u001b[0m \u001b[0mpath_stock_owner_liutong\u001b[0m\u001b[1;33m=\u001b[0m\u001b[1;34mr'\\\\'\u001b[0m\u001b[1;33m.\u001b[0m\u001b[0mjoin\u001b[0m\u001b[1;33m(\u001b[0m\u001b[1;33m[\u001b[0m\u001b[0mmain_path\u001b[0m\u001b[1;33m,\u001b[0m\u001b[1;34m\"data_to_sql_owner\"\u001b[0m\u001b[1;33m]\u001b[0m\u001b[1;33m)\u001b[0m\u001b[1;33m\u001b[0m\u001b[0m\n\u001b[0;32m      8\u001b[0m \u001b[1;31m#os.system('ls')\u001b[0m\u001b[1;33m\u001b[0m\u001b[1;33m\u001b[0m\u001b[0m\n\u001b[1;32m----> 9\u001b[1;33m \u001b[0mdf1\u001b[0m\u001b[1;33m=\u001b[0m\u001b[0mcombine_csv_in_folder\u001b[0m\u001b[1;33m(\u001b[0m\u001b[0mpath_stock_owner_liutong\u001b[0m\u001b[1;33m,\u001b[0m\u001b[1;34m\"test.csv\"\u001b[0m\u001b[1;33m)\u001b[0m\u001b[1;33m\u001b[0m\u001b[0m\n\u001b[0m",
      "\u001b[1;32mG:\\stock\\code_python3\\package_functions\\combine_allCsv_inFolder.py\u001b[0m in \u001b[0;36mcombine_csv_in_folder\u001b[1;34m(folder, save_name)\u001b[0m\n\u001b[0;32m      1\u001b[0m \u001b[1;32mimport\u001b[0m \u001b[0mos\u001b[0m\u001b[1;33m\u001b[0m\u001b[0m\n\u001b[1;32m----> 2\u001b[1;33m \u001b[1;32mimport\u001b[0m \u001b[0mpandas\u001b[0m \u001b[1;32mas\u001b[0m \u001b[0mpd\u001b[0m\u001b[1;33m\u001b[0m\u001b[0m\n\u001b[0m\u001b[0;32m      3\u001b[0m \u001b[1;32mdef\u001b[0m \u001b[0mcombine_csv_in_folder\u001b[0m\u001b[1;33m(\u001b[0m\u001b[0mfolder\u001b[0m\u001b[1;33m,\u001b[0m\u001b[0msave_name\u001b[0m\u001b[1;33m=\u001b[0m\u001b[1;34m\"data_combine.csv\"\u001b[0m\u001b[1;33m)\u001b[0m\u001b[1;33m:\u001b[0m\u001b[1;33m\u001b[0m\u001b[0m\n\u001b[0;32m      4\u001b[0m     \u001b[0mfiles\u001b[0m\u001b[1;33m=\u001b[0m\u001b[0mos\u001b[0m\u001b[1;33m.\u001b[0m\u001b[0mlistdir\u001b[0m\u001b[1;33m(\u001b[0m\u001b[0mfolder\u001b[0m\u001b[1;33m)\u001b[0m\u001b[1;33m\u001b[0m\u001b[0m\n\u001b[0;32m      5\u001b[0m     \u001b[0mdata_file\u001b[0m\u001b[1;33m=\u001b[0m\u001b[1;34m'.//'\u001b[0m\u001b[1;33m.\u001b[0m\u001b[0mjoin\u001b[0m\u001b[1;33m(\u001b[0m\u001b[1;33m[\u001b[0m\u001b[0mfolder\u001b[0m\u001b[1;33m,\u001b[0m\u001b[0mfiles\u001b[0m\u001b[1;33m[\u001b[0m\u001b[1;36m0\u001b[0m\u001b[1;33m]\u001b[0m\u001b[1;33m]\u001b[0m\u001b[1;33m)\u001b[0m\u001b[1;33m\u001b[0m\u001b[0m\n",
      "\u001b[1;31mNameError\u001b[0m: name 'os' is not defined"
     ]
    }
   ],
   "source": [
    "## this script combine all the csv files in the folder\n",
    "from package_path_define.path_define import *\n",
    "from package_downloaddata.download_data_v1 import save_dir1\n",
    "import pandas as pd\n",
    "from package_functions.combine_allCsv_inFolder import combine_csv_in_folder\n",
    "import os\n",
    "path_stock_owner_liutong=r'\\\\'.join([main_path,\"data_to_sql_owner\"])\n",
    "#os.system('ls')\n",
    "df1=combine_csv_in_folder(path_stock_owner_liutong,\"test.csv\")"
   ]
  },
  {
   "cell_type": "code",
   "execution_count": 7,
   "metadata": {},
   "outputs": [
    {
     "name": "stdout",
     "output_type": "stream",
     "text": [
      "       Amount        Date           Onwer   Ratio stk_index\n",
      "0  1056346783  2017-09-30   广东省机场管理集团有限公司  51.048    600004\n",
      "1    88527295  2017-09-30      香港中央结算有限公司   4.278    600004\n",
      "2    42094658  2017-09-30      兴业证券股份有限公司   2.034    600004\n",
      "3    41964740  2017-09-30  中央汇金资产管理有限责任公司   2.028    600004\n",
      "4    26954372  2017-09-30     全国社保基金一零一组合   1.303    600004\n"
     ]
    },
    {
     "data": {
      "text/plain": [
       "0"
      ]
     },
     "execution_count": 7,
     "metadata": {},
     "output_type": "execute_result"
    }
   ],
   "source": [
    "print df1.head()\n",
    "file_name1=\"stock_owner_liutong_combine.csv\"\n",
    "file_name=r'\\\\'.join([path_stock_owner_liutong,file_name1])\n",
    "file_name2=\"stock_owner_liutong_combine_tr.csv\"\n",
    "file_name_tr=r'\\\\'.join([path_stock_owner_liutong,file_name2])\n",
    "\n",
    "df1.to_csv(file_name,index=False)\n",
    "os.system('iconv -f utf-8 -t GB2312 '+file_name +' >'+file_name_tr)\n"
   ]
  }
 ],
 "metadata": {
  "kernelspec": {
   "display_name": "Python 3",
   "language": "python",
   "name": "python3"
  },
  "language_info": {
   "codemirror_mode": {
    "name": "ipython",
    "version": 3
   },
   "file_extension": ".py",
   "mimetype": "text/x-python",
   "name": "python",
   "nbconvert_exporter": "python",
   "pygments_lexer": "ipython3",
   "version": "3.6.4"
  }
 },
 "nbformat": 4,
 "nbformat_minor": 2
}
