{
 "cells": [
  {
   "cell_type": "code",
   "execution_count": 32,
   "metadata": {},
   "outputs": [],
   "source": [
    "### this script add a column of stock index to the stock owner liutong\n",
    "## after that we store in to the database\n",
    "import csv\n",
    "import datetime\n",
    "import pandas as pd\n",
    "import os\n",
    "import urllib\n",
    "from functions import *\n",
    "import re\n",
    "import time\n",
    "from package_path_define.path_define import *\n",
    "from package_downloaddata.download_data_v1 import save_dir1\n"
   ]
  },
  {
   "cell_type": "code",
   "execution_count": 43,
   "metadata": {},
   "outputs": [
    {
     "name": "stdout",
     "output_type": "stream",
     "text": [
      "G:\\\\stock\\\\data\\\\stock_owner_liutong_sql\n",
      "cp G:\\\\stock\\\\data\\\\stock_owner_liutong/*liutong.csv* G:\\\\stock\\\\data\\\\stock_owner_liutong_sql\n"
     ]
    },
    {
     "data": {
      "text/plain": [
       "0"
      ]
     },
     "execution_count": 43,
     "metadata": {},
     "output_type": "execute_result"
    }
   ],
   "source": [
    "### cp all the liutong stock owner csv utf-8 data to a new folder \"sql\" for transformation\n",
    "path_stock_owner_liutong_raw=r'\\\\'.join([main_path,\"data\",\"stock_owner_liutong\"])\n",
    "path_stock_owner_liutong=r'\\\\'.join([main_path,\"data\",\"stock_owner_liutong_sql\"])\n",
    "print path_stock_owner_liutong\n",
    "os.path.exists(path_stock_owner_liutong)\n",
    "if not os.path.exists(path_stock_owner_liutong):\n",
    "    os.makedirs(path_stock_owner_liutong)\n",
    "cmd1=\"cp %s/*liutong.csv* %s\" %(path_stock_owner_liutong_raw,path_stock_owner_liutong)\n",
    "print cmd1\n",
    "os.system(cmd1)"
   ]
  },
  {
   "cell_type": "code",
   "execution_count": null,
   "metadata": {
    "collapsed": true
   },
   "outputs": [],
   "source": []
  },
  {
   "cell_type": "code",
   "execution_count": 44,
   "metadata": {},
   "outputs": [
    {
     "name": "stdout",
     "output_type": "stream",
     "text": [
      "G:\\\\stock\\\\data\\\\stock_owner_liutong_sql\n"
     ]
    }
   ],
   "source": [
    "### add the stock index to the raw csv\n",
    "print path_stock_owner_liutong\n",
    "file1=os.listdir(path_stock_owner_liutong)\n",
    "for fi in file1:\n",
    "    if not fi.endswith('_tr.csv'):\n",
    "        stk_index=fi[0:6]\n",
    "        #print stk_index\n",
    "        fi1='\\\\'.join([path_stock_owner_liutong,fi])\n",
    "        a1=pd.read_csv(fi1)\n",
    "        a1['stk_index']=stk_index\n",
    "        #print a1.head\n",
    "        file_name1='_'.join([stk_index,'liutong','sqltr'])\n",
    "        file_name2=file_name1+'.csv'\n",
    "        file_name='\\\\'.join([path_stock_owner_liutong,file_name2])\n",
    "        a1.to_csv(file_name,index=False)"
   ]
  },
  {
   "cell_type": "code",
   "execution_count": 45,
   "metadata": {},
   "outputs": [
    {
     "data": {
      "text/plain": [
       "0"
      ]
     },
     "execution_count": 45,
     "metadata": {},
     "output_type": "execute_result"
    }
   ],
   "source": [
    "cmd2=\"rm -rf %s/*liutong.csv*\" %path_stock_owner_liutong\n",
    "os.system(cmd2)"
   ]
  },
  {
   "cell_type": "code",
   "execution_count": 46,
   "metadata": {},
   "outputs": [
    {
     "name": "stdout",
     "output_type": "stream",
     "text": [
      "       Amount        Date           Onwer   Ratio stk_index\n",
      "0  1056346783  2017-09-30   广东省机场管理集团有限公司  51.048    600004\n",
      "1    88527295  2017-09-30      香港中央结算有限公司   4.278    600004\n",
      "2    42094658  2017-09-30      兴业证券股份有限公司   2.034    600004\n",
      "3    41964740  2017-09-30  中央汇金资产管理有限责任公司   2.028    600004\n",
      "4    26954372  2017-09-30     全国社保基金一零一组合   1.303    600004\n"
     ]
    },
    {
     "data": {
      "text/plain": [
       "0"
      ]
     },
     "execution_count": 46,
     "metadata": {},
     "output_type": "execute_result"
    }
   ],
   "source": [
    "## this script combine all the csv files in the folder\n",
    "def combine_csv_in_folder(folder):\n",
    "    files=os.listdir(folder)\n",
    "    data_file='.//'.join([folder,files[0]])\n",
    "    df1=pd.read_csv(data_file)\n",
    "    for i in range(1,len(files)):\n",
    "    #for i in range(1,20):\n",
    "        data_file='.//'.join([folder,files[i]])\n",
    "        df2=pd.read_csv(data_file)\n",
    "        df1=pd.concat([df1,df2])\n",
    "    return df1\n",
    "\n",
    "path_stock_owner_liutong=r'\\\\'.join([main_path,\"data\",\"stock_owner_liutong_sql\"])\n",
    "df1=combine_csv_in_folder(path_stock_owner_liutong)\n",
    "print df1.head()\n",
    "###---- set the file name\n",
    "file_name1=\"stock_owner_liutong_combine.csv\"\n",
    "file_name=r'\\\\'.join([path_stock_owner_liutong,file_name1])\n",
    "file_name2=\"stock_owner_liutong_combine_tr.csv\"\n",
    "file_name_tr=r'\\\\'.join([path_stock_owner_liutong,file_name2])\n",
    "\n",
    "\n",
    "df1.to_csv(file_name,index=False)\n",
    "os.system('iconv -f utf-8 -t GB2312 '+file_name +' >'+file_name_tr)\n",
    "\n"
   ]
  },
  {
   "cell_type": "code",
   "execution_count": 54,
   "metadata": {},
   "outputs": [
    {
     "data": {
      "text/plain": [
       "0"
      ]
     },
     "execution_count": 54,
     "metadata": {},
     "output_type": "execute_result"
    }
   ],
   "source": [
    "cmd3=\"mkdir %s\\\\sqltr\" %path_stock_owner_liutong\n",
    "cmd4=\"mv %s/*sqltr.csv* %s\\\\sqltr\" %(path_stock_owner_liutong,path_stock_owner_liutong)\n",
    "#print cmd4\n",
    "#cmd5=\"rm -rf %s/sqltr*.csv*\" %path_stock_owner_liutong\n",
    "os.system(cmd3)\n",
    "os.system(cmd4)"
   ]
  }
 ],
 "metadata": {
  "kernelspec": {
   "display_name": "Python 2",
   "language": "python",
   "name": "python2"
  },
  "language_info": {
   "codemirror_mode": {
    "name": "ipython",
    "version": 2
   },
   "file_extension": ".py",
   "mimetype": "text/x-python",
   "name": "python",
   "nbconvert_exporter": "python",
   "pygments_lexer": "ipython2",
   "version": "2.7.13"
  }
 },
 "nbformat": 4,
 "nbformat_minor": 2
}
